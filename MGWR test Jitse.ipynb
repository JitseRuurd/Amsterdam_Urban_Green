{
 "cells": [
  {
   "cell_type": "code",
   "execution_count": 16,
   "id": "ec5010d0",
   "metadata": {},
   "outputs": [],
   "source": [
    "import numpy as np\n",
    "import os\n",
    "os.environ['USE_PYGEOS'] = '0'\n",
    "import geopandas as gp\n",
    "import multiprocessing as mp\n",
    "from mgwr.gwr import GWR,MGWR\n",
    "from mgwr.sel_bw import Sel_BW"
   ]
  },
  {
   "cell_type": "code",
   "execution_count": 17,
   "id": "fd9ad555",
   "metadata": {},
   "outputs": [],
   "source": [
    "#Load the funda data\n",
    "funda_data = gp.read_file(\"data/test/test_sample(100p).gpkg\")"
   ]
  },
  {
   "cell_type": "code",
   "execution_count": 18,
   "id": "11263c2a",
   "metadata": {},
   "outputs": [
    {
     "data": {
      "text/html": [
       "<div>\n",
       "<style scoped>\n",
       "    .dataframe tbody tr th:only-of-type {\n",
       "        vertical-align: middle;\n",
       "    }\n",
       "\n",
       "    .dataframe tbody tr th {\n",
       "        vertical-align: top;\n",
       "    }\n",
       "\n",
       "    .dataframe thead th {\n",
       "        text-align: right;\n",
       "    }\n",
       "</style>\n",
       "<table border=\"1\" class=\"dataframe\">\n",
       "  <thead>\n",
       "    <tr style=\"text-align: right;\">\n",
       "      <th></th>\n",
       "      <th>...1</th>\n",
       "      <th>house_id</th>\n",
       "      <th>house_type</th>\n",
       "      <th>building_type</th>\n",
       "      <th>price</th>\n",
       "      <th>price_m2</th>\n",
       "      <th>room</th>\n",
       "      <th>bedroom</th>\n",
       "      <th>bathroom</th>\n",
       "      <th>living_area</th>\n",
       "      <th>...</th>\n",
       "      <th>ym_list</th>\n",
       "      <th>year_list</th>\n",
       "      <th>descrip</th>\n",
       "      <th>zip</th>\n",
       "      <th>letters</th>\n",
       "      <th>city</th>\n",
       "      <th>addressline_city</th>\n",
       "      <th>addressline_zip</th>\n",
       "      <th>addresszip</th>\n",
       "      <th>geometry</th>\n",
       "    </tr>\n",
       "  </thead>\n",
       "  <tbody>\n",
       "    <tr>\n",
       "      <th>0</th>\n",
       "      <td>0.0</td>\n",
       "      <td>42037381.0</td>\n",
       "      <td>huis</td>\n",
       "      <td>Resale property</td>\n",
       "      <td>495000.0</td>\n",
       "      <td>3960.0</td>\n",
       "      <td>4.0</td>\n",
       "      <td>3.0</td>\n",
       "      <td>1.0</td>\n",
       "      <td>125.0</td>\n",
       "      <td>...</td>\n",
       "      <td>2023-03-01</td>\n",
       "      <td>2023.0</td>\n",
       "      <td>\\nUnique and spacious  living  in a  popular r...</td>\n",
       "      <td>1944</td>\n",
       "      <td>KL</td>\n",
       "      <td>Beverwijk\\r\\n</td>\n",
       "      <td>Beverwijk\\r\\n</td>\n",
       "      <td>1944 KL</td>\n",
       "      <td>Wildemanskruid 37, 1944 KL, Beverwijk\\r\\n</td>\n",
       "      <td>POINT (104832.002 501219.996)</td>\n",
       "    </tr>\n",
       "    <tr>\n",
       "      <th>1</th>\n",
       "      <td>1.0</td>\n",
       "      <td>42032180.0</td>\n",
       "      <td>huis</td>\n",
       "      <td>Resale property</td>\n",
       "      <td>450000.0</td>\n",
       "      <td>3982.3</td>\n",
       "      <td>5.0</td>\n",
       "      <td>4.0</td>\n",
       "      <td>1.0</td>\n",
       "      <td>113.0</td>\n",
       "      <td>...</td>\n",
       "      <td>2023-03-01</td>\n",
       "      <td>2023.0</td>\n",
       "      <td>\\n***This property is  listed  bij a  MVA Cert...</td>\n",
       "      <td>2133</td>\n",
       "      <td>CD</td>\n",
       "      <td>Hoofddorp\\r\\n</td>\n",
       "      <td>Hoofddorp\\r\\n</td>\n",
       "      <td>2133 CD</td>\n",
       "      <td>Birkholm 185, 2133 CD, Hoofddorp\\r\\n</td>\n",
       "      <td>POINT (106101.113 480140.256)</td>\n",
       "    </tr>\n",
       "    <tr>\n",
       "      <th>2</th>\n",
       "      <td>2.0</td>\n",
       "      <td>88477708.0</td>\n",
       "      <td>huis</td>\n",
       "      <td>Resale property</td>\n",
       "      <td>749000.0</td>\n",
       "      <td>5761.5</td>\n",
       "      <td>4.0</td>\n",
       "      <td>3.0</td>\n",
       "      <td>1.0</td>\n",
       "      <td>130.0</td>\n",
       "      <td>...</td>\n",
       "      <td>2023-02-01</td>\n",
       "      <td>2023.0</td>\n",
       "      <td>\\nBloemendaal makelaars biedt  aan:  Zuiderdij...</td>\n",
       "      <td>1606</td>\n",
       "      <td>ME</td>\n",
       "      <td>Venhuizen\\r\\n</td>\n",
       "      <td>Venhuizen\\r\\n</td>\n",
       "      <td>1606 ME</td>\n",
       "      <td>Zuiderdijk 3, 1606 ME, Venhuizen\\r\\n</td>\n",
       "      <td>POINT (145231.999 521329.999)</td>\n",
       "    </tr>\n",
       "    <tr>\n",
       "      <th>3</th>\n",
       "      <td>3.0</td>\n",
       "      <td>42037325.0</td>\n",
       "      <td>huis</td>\n",
       "      <td>Resale property</td>\n",
       "      <td>550000.0</td>\n",
       "      <td>4198.5</td>\n",
       "      <td>5.0</td>\n",
       "      <td>4.0</td>\n",
       "      <td>1.0</td>\n",
       "      <td>131.0</td>\n",
       "      <td>...</td>\n",
       "      <td>2023-03-01</td>\n",
       "      <td>2023.0</td>\n",
       "      <td>\\nThis text has  been  automatically translate...</td>\n",
       "      <td>1216</td>\n",
       "      <td>HP</td>\n",
       "      <td>Hilversum\\r\\n</td>\n",
       "      <td>Hilversum\\r\\n</td>\n",
       "      <td>1216 HP</td>\n",
       "      <td>Gomarushof 112, 1216 HP, Hilversum\\r\\n</td>\n",
       "      <td>POINT (137976.519 470153.606)</td>\n",
       "    </tr>\n",
       "    <tr>\n",
       "      <th>4</th>\n",
       "      <td>4.0</td>\n",
       "      <td>42017210.0</td>\n",
       "      <td>huis</td>\n",
       "      <td>Resale property</td>\n",
       "      <td>440000.0</td>\n",
       "      <td>3728.8</td>\n",
       "      <td>5.0</td>\n",
       "      <td>4.0</td>\n",
       "      <td>1.0</td>\n",
       "      <td>118.0</td>\n",
       "      <td>...</td>\n",
       "      <td>2023-02-01</td>\n",
       "      <td>2023.0</td>\n",
       "      <td>\\nIn de buurt  Getsewoud-Zuid  te Nieuw-Vennep...</td>\n",
       "      <td>2151</td>\n",
       "      <td>HH</td>\n",
       "      <td>Nieuw-Vennep\\r\\n</td>\n",
       "      <td>Nieuw-Vennep\\r\\n</td>\n",
       "      <td>2151 HH</td>\n",
       "      <td>Swaenstein 24, 2151 HH, Nieuw-Vennep\\r\\n</td>\n",
       "      <td>POINT (102036.839 476175.131)</td>\n",
       "    </tr>\n",
       "  </tbody>\n",
       "</table>\n",
       "<p>5 rows × 27 columns</p>\n",
       "</div>"
      ],
      "text/plain": [
       "   ...1    house_id house_type    building_type     price  price_m2  room  \\\n",
       "0   0.0  42037381.0       huis  Resale property  495000.0    3960.0   4.0   \n",
       "1   1.0  42032180.0       huis  Resale property  450000.0    3982.3   5.0   \n",
       "2   2.0  88477708.0       huis  Resale property  749000.0    5761.5   4.0   \n",
       "3   3.0  42037325.0       huis  Resale property  550000.0    4198.5   5.0   \n",
       "4   4.0  42017210.0       huis  Resale property  440000.0    3728.8   5.0   \n",
       "\n",
       "   bedroom  bathroom  living_area  ...     ym_list year_list  \\\n",
       "0      3.0       1.0        125.0  ...  2023-03-01    2023.0   \n",
       "1      4.0       1.0        113.0  ...  2023-03-01    2023.0   \n",
       "2      3.0       1.0        130.0  ...  2023-02-01    2023.0   \n",
       "3      4.0       1.0        131.0  ...  2023-03-01    2023.0   \n",
       "4      4.0       1.0        118.0  ...  2023-02-01    2023.0   \n",
       "\n",
       "                                             descrip   zip  letters  \\\n",
       "0  \\nUnique and spacious  living  in a  popular r...  1944       KL   \n",
       "1  \\n***This property is  listed  bij a  MVA Cert...  2133       CD   \n",
       "2  \\nBloemendaal makelaars biedt  aan:  Zuiderdij...  1606       ME   \n",
       "3  \\nThis text has  been  automatically translate...  1216       HP   \n",
       "4  \\nIn de buurt  Getsewoud-Zuid  te Nieuw-Vennep...  2151       HH   \n",
       "\n",
       "               city      addressline_city addressline_zip  \\\n",
       "0     Beverwijk\\r\\n     Beverwijk\\r\\n             1944 KL   \n",
       "1     Hoofddorp\\r\\n     Hoofddorp\\r\\n             2133 CD   \n",
       "2     Venhuizen\\r\\n     Venhuizen\\r\\n             1606 ME   \n",
       "3     Hilversum\\r\\n     Hilversum\\r\\n             1216 HP   \n",
       "4  Nieuw-Vennep\\r\\n  Nieuw-Vennep\\r\\n             2151 HH   \n",
       "\n",
       "                                  addresszip                       geometry  \n",
       "0  Wildemanskruid 37, 1944 KL, Beverwijk\\r\\n  POINT (104832.002 501219.996)  \n",
       "1       Birkholm 185, 2133 CD, Hoofddorp\\r\\n  POINT (106101.113 480140.256)  \n",
       "2       Zuiderdijk 3, 1606 ME, Venhuizen\\r\\n  POINT (145231.999 521329.999)  \n",
       "3     Gomarushof 112, 1216 HP, Hilversum\\r\\n  POINT (137976.519 470153.606)  \n",
       "4   Swaenstein 24, 2151 HH, Nieuw-Vennep\\r\\n  POINT (102036.839 476175.131)  \n",
       "\n",
       "[5 rows x 27 columns]"
      ]
     },
     "execution_count": 18,
     "metadata": {},
     "output_type": "execute_result"
    }
   ],
   "source": [
    "#show funda data\n",
    "funda_data.head()"
   ]
  },
  {
   "cell_type": "code",
   "execution_count": 19,
   "id": "09a67f03",
   "metadata": {},
   "outputs": [],
   "source": [
    "#create array with the dependent variable\n",
    "b_y = funda_data['price'].values.reshape((-1,1))"
   ]
  },
  {
   "cell_type": "code",
   "execution_count": 20,
   "id": "5fede1f7",
   "metadata": {},
   "outputs": [],
   "source": [
    "#create an array with the indepentend variables (order matters for the extraction of params later)\n",
    "b_X = funda_data[['room','living_area','house_age']].values "
   ]
  },
  {
   "cell_type": "code",
   "execution_count": 21,
   "id": "502a418b",
   "metadata": {},
   "outputs": [],
   "source": [
    "#create coordinate tuple for the model\n",
    "u = funda_data['geometry'].x\n",
    "v = funda_data['geometry'].y\n",
    "b_coords = list(zip(u, v))"
   ]
  },
  {
   "cell_type": "code",
   "execution_count": 22,
   "id": "359b1fa6",
   "metadata": {},
   "outputs": [],
   "source": [
    "#Parrallelization is more favored when you your data are large and/or your machine have many many cores.\n",
    "#mgwr has soft dependency of numba, please install numba if you need better performance (pip install numba).\n",
    "n_proc = 3 #two processors\n",
    "pool = mp.Pool(n_proc) "
   ]
  },
  {
   "cell_type": "code",
   "execution_count": 23,
   "id": "ba440bbd",
   "metadata": {},
   "outputs": [
    {
     "name": "stdout",
     "output_type": "stream",
     "text": [
      "54.0\n",
      "CPU times: total: 375 ms\n",
      "Wall time: 9.26 s\n"
     ]
    }
   ],
   "source": [
    "%%time\n",
    "#Run basic GWR in parrallel mode\n",
    "gwr_selector = Sel_BW(b_coords, b_y, b_X)\n",
    "gwr_bw = gwr_selector.search(pool=pool) #add pool to Sel_BW.search\n",
    "print(gwr_bw)\n",
    "gwr_results = GWR(b_coords, b_y, b_X, gwr_bw).fit(pool=pool)"
   ]
  },
  {
   "cell_type": "code",
   "execution_count": 25,
   "id": "ff01fac7",
   "metadata": {},
   "outputs": [
    {
     "name": "stdout",
     "output_type": "stream",
     "text": [
      "===========================================================================\n",
      "Model type                                                         Gaussian\n",
      "Number of observations:                                                1354\n",
      "Number of covariates:                                                     4\n",
      "\n",
      "Global Regression Results\n",
      "---------------------------------------------------------------------------\n",
      "Residual sum of squares:                                       59897539272782.562\n",
      "Log-likelihood:                                                  -18516.434\n",
      "AIC:                                                              37040.868\n",
      "AICc:                                                             37042.913\n",
      "BIC:                                                           59897539263047.961\n",
      "R2:                                                                   0.622\n",
      "Adj. R2:                                                              0.621\n",
      "\n",
      "Variable                              Est.         SE  t(Est/SE)    p-value\n",
      "------------------------------- ---------- ---------- ---------- ----------\n",
      "X0                              -130371.536  23989.155     -5.435      0.000\n",
      "X1                                5507.297   6142.538      0.897      0.370\n",
      "X2                                5267.577    159.750     32.974      0.000\n",
      "X3                                 117.677     45.361      2.594      0.009\n",
      "\n",
      "Geographically Weighted Regression (GWR) Results\n",
      "---------------------------------------------------------------------------\n",
      "Spatial kernel:                                           Adaptive bisquare\n",
      "Bandwidth used:                                                      54.000\n",
      "\n",
      "Diagnostic information\n",
      "---------------------------------------------------------------------------\n",
      "Residual sum of squares:                                       18633098404433.766\n",
      "Effective number of parameters (trace(S)):                          230.994\n",
      "Degree of freedom (n - trace(S)):                                  1123.006\n",
      "Sigma estimate:                                                  128810.577\n",
      "Log-likelihood:                                                  -17725.904\n",
      "AIC:                                                              35915.796\n",
      "AICc:                                                             36012.233\n",
      "BIC:                                                              37124.676\n",
      "R2:                                                                   0.882\n",
      "Adjusted R2:                                                          0.858\n",
      "Adj. alpha (95%):                                                     0.001\n",
      "Adj. critical t value (95%):                                          3.338\n",
      "\n",
      "Summary Statistics For GWR Parameter Estimates\n",
      "---------------------------------------------------------------------------\n",
      "Variable                   Mean        STD        Min     Median        Max\n",
      "-------------------- ---------- ---------- ---------- ---------- ----------\n",
      "X0                   -48180.724 209939.221 -762461.830 -33637.953 488466.158\n",
      "X1                   -12710.102  31127.885 -121376.881 -11305.556 101720.387\n",
      "X2                     5073.828   1742.864   1437.118   4867.694  10439.761\n",
      "X3                      568.969   1444.523  -3112.479    335.727   6609.022\n",
      "===========================================================================\n",
      "\n"
     ]
    }
   ],
   "source": [
    "#show summary\n",
    "gwr_results.summary()"
   ]
  },
  {
   "cell_type": "code",
   "execution_count": 29,
   "id": "dea78929",
   "metadata": {},
   "outputs": [
    {
     "data": {
      "application/vnd.jupyter.widget-view+json": {
       "model_id": "88a61046aa524569a52964a6ce15839f",
       "version_major": 2,
       "version_minor": 0
      },
      "text/plain": [
       "Backfitting:   0%|          | 0/10 [00:00<?, ?it/s]"
      ]
     },
     "metadata": {},
     "output_type": "display_data"
    },
    {
     "name": "stdout",
     "output_type": "stream",
     "text": [
      "[93. 48. 46. 70.]\n"
     ]
    },
    {
     "data": {
      "application/vnd.jupyter.widget-view+json": {
       "model_id": "fd79f8a83a6d472aa9ca9ec8e3e058c3",
       "version_major": 2,
       "version_minor": 0
      },
      "text/plain": [
       "Inference:   0%|          | 0/3 [00:00<?, ?it/s]"
      ]
     },
     "metadata": {},
     "output_type": "display_data"
    },
    {
     "name": "stdout",
     "output_type": "stream",
     "text": [
      "CPU times: total: 15.4 s\n",
      "Wall time: 2min 2s\n"
     ]
    }
   ],
   "source": [
    "%%time\n",
    "#run MGWR in parrallel mode. Note: max_iter_multi needs to be specified\n",
    "mgwr_selector = Sel_BW(b_coords, b_y, b_X, multi=True)\n",
    "mgwr_bw = mgwr_selector.search(pool=pool, max_iter_multi=10, criterion = \"AICc\") #add pool to Sel_BW.search\n",
    "print(mgwr_bw)\n",
    "mgwr_results = MGWR(b_coords, b_y, b_X, selector=mgwr_selector).fit(pool=pool)"
   ]
  },
  {
   "cell_type": "code",
   "execution_count": 31,
   "id": "4431d7b0",
   "metadata": {},
   "outputs": [
    {
     "name": "stdout",
     "output_type": "stream",
     "text": [
      "===========================================================================\n",
      "Model type                                                         Gaussian\n",
      "Number of observations:                                                1354\n",
      "Number of covariates:                                                     4\n",
      "\n",
      "Global Regression Results\n",
      "---------------------------------------------------------------------------\n",
      "Residual sum of squares:                                       59897539272782.562\n",
      "Log-likelihood:                                                  -18516.434\n",
      "AIC:                                                              37040.868\n",
      "AICc:                                                             37042.913\n",
      "BIC:                                                           59897539263047.961\n",
      "R2:                                                                   0.622\n",
      "Adj. R2:                                                              0.621\n",
      "\n",
      "Variable                              Est.         SE  t(Est/SE)    p-value\n",
      "------------------------------- ---------- ---------- ---------- ----------\n",
      "X0                              -130371.536  23989.155     -5.435      0.000\n",
      "X1                                5507.297   6142.538      0.897      0.370\n",
      "X2                                5267.577    159.750     32.974      0.000\n",
      "X3                                 117.677     45.361      2.594      0.009\n",
      "\n",
      "Multi-Scale Geographically Weighted Regression (MGWR) Results\n",
      "---------------------------------------------------------------------------\n",
      "Spatial kernel:                                           Adaptive bisquare\n",
      "Criterion for optimal bandwidth:                                       AICc\n",
      "Score of Change (SOC) type:                                     Smoothing f\n",
      "Termination criterion for MGWR:                                       1e-05\n",
      "\n",
      "MGWR bandwidths\n",
      "---------------------------------------------------------------------------\n",
      "Variable             Bandwidth      ENP_j   Adj t-val(95%)   Adj alpha(95%)\n",
      "X0                      93.000     20.187            3.032            0.002\n",
      "X1                      48.000     50.423            3.300            0.001\n",
      "X2                      46.000     56.918            3.334            0.001\n",
      "X3                      70.000     30.381            3.154            0.002\n",
      "\n",
      "Diagnostic information\n",
      "---------------------------------------------------------------------------\n",
      "Residual sum of squares:                                       21262361186195.938\n",
      "Effective number of parameters (trace(S)):                          157.910\n",
      "Degree of freedom (n - trace(S)):                                  1196.090\n",
      "Sigma estimate:                                                  133328.734\n",
      "Log-likelihood:                                                  -17815.267\n",
      "AIC:                                                              35948.354\n",
      "AICc:                                                             35990.915\n",
      "BIC:                                                              36776.403\n",
      "R2                                                                    0.866\n",
      "Adjusted R2                                                           0.848\n",
      "\n",
      "Summary Statistics For MGWR Parameter Estimates\n",
      "---------------------------------------------------------------------------\n",
      "Variable                   Mean        STD        Min     Median        Max\n",
      "-------------------- ---------- ---------- ---------- ---------- ----------\n",
      "X0                   -17337.547  87905.405 -185666.883 -42239.813 159202.881\n",
      "X1                   -12920.942  21198.514 -63932.812 -13478.810  59037.441\n",
      "X2                     4898.781   1426.301   1965.629   4726.151   8069.561\n",
      "X3                      496.103    966.729  -1271.687    163.187   3370.899\n",
      "===========================================================================\n",
      "\n"
     ]
    }
   ],
   "source": [
    "#show MGWR model summary\n",
    "mgwr_results.summary()"
   ]
  },
  {
   "cell_type": "code",
   "execution_count": 42,
   "id": "bceb3d1c",
   "metadata": {},
   "outputs": [],
   "source": [
    "#recreate R format table\n",
    "df = gp.GeoDataFrame()\n",
    "df['Intercept'] = mgwr_results.params[:,0]\n",
    "df['room'] = mgwr_results.params[:,1]\n",
    "df['living_area'] = mgwr_results.params[:,2]\n",
    "df['house_age'] = mgwr_results.params[:,3]\n",
    "df['yhat'] = mgwr_results.predy\n",
    "df['residual'] = mgwr_results.y.reshape((-1,1)) - mgwr_results.predy\n",
    "df['intercept_SE'] = mgwr_results.params[:,0]\n",
    "df['room_SE'] = mgwr_results.params[:,1]\n",
    "df['living_area_SE'] = mgwr_results.params[:,2]\n",
    "df['house_age_SE'] = mgwr_results.params[:,3]\n",
    "df['intercept_TV'] = mgwr_results.tvalues[:,0]\n",
    "df['room_TV'] = mgwr_results.tvalues[:,1]\n",
    "df['living_area_TV'] = mgwr_results.tvalues[:,2]\n",
    "df['house_age_TV'] = mgwr_results.tvalues[:,3]\n",
    "df['geometry'] = funda_data['geometry']"
   ]
  },
  {
   "cell_type": "code",
   "execution_count": 40,
   "id": "610fcbd1",
   "metadata": {},
   "outputs": [],
   "source": [
    "#show the GeoDataFrame and write it to a folder\n",
    "df.head()\n",
    "df.to_file('data/test/test_mgwr.gpkg')"
   ]
  }
 ],
 "metadata": {
  "kernelspec": {
   "display_name": "Python 3 (ipykernel)",
   "language": "python",
   "name": "python3"
  },
  "language_info": {
   "codemirror_mode": {
    "name": "ipython",
    "version": 3
   },
   "file_extension": ".py",
   "mimetype": "text/x-python",
   "name": "python",
   "nbconvert_exporter": "python",
   "pygments_lexer": "ipython3",
   "version": "3.10.9"
  }
 },
 "nbformat": 4,
 "nbformat_minor": 5
}
