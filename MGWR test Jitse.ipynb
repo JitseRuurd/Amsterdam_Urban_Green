{
 "cells": [
  {
   "cell_type": "code",
   "execution_count": 1,
   "id": "ec5010d0",
   "metadata": {
    "tags": []
   },
   "outputs": [
    {
     "name": "stdout",
     "output_type": "stream",
     "text": [
      "Requirement already satisfied: geopandas in c:\\users\\jitse\\anaconda3\\envs\\ssml\\lib\\site-packages (0.12.2)\n",
      "Requirement already satisfied: packaging in c:\\users\\jitse\\anaconda3\\envs\\ssml\\lib\\site-packages (from geopandas) (23.0)\n",
      "Requirement already satisfied: pyproj>=2.6.1.post1 in c:\\users\\jitse\\anaconda3\\envs\\ssml\\lib\\site-packages (from geopandas) (3.4.1)\n",
      "Requirement already satisfied: fiona>=1.8 in c:\\users\\jitse\\anaconda3\\envs\\ssml\\lib\\site-packages (from geopandas) (1.8.22)\n",
      "Requirement already satisfied: shapely>=1.7 in c:\\users\\jitse\\anaconda3\\envs\\ssml\\lib\\site-packages (from geopandas) (2.0.1)\n",
      "Requirement already satisfied: pandas>=1.0.0 in c:\\users\\jitse\\anaconda3\\envs\\ssml\\lib\\site-packages (from geopandas) (1.5.3)\n",
      "Requirement already satisfied: attrs>=17 in c:\\users\\jitse\\anaconda3\\envs\\ssml\\lib\\site-packages (from fiona>=1.8->geopandas) (22.2.0)\n",
      "Requirement already satisfied: certifi in c:\\users\\jitse\\anaconda3\\envs\\ssml\\lib\\site-packages (from fiona>=1.8->geopandas) (2022.12.7)\n",
      "Requirement already satisfied: click>=4.0 in c:\\users\\jitse\\anaconda3\\envs\\ssml\\lib\\site-packages (from fiona>=1.8->geopandas) (8.1.3)\n",
      "Requirement already satisfied: cligj>=0.5 in c:\\users\\jitse\\anaconda3\\envs\\ssml\\lib\\site-packages (from fiona>=1.8->geopandas) (0.7.2)\n",
      "Requirement already satisfied: click-plugins>=1.0 in c:\\users\\jitse\\anaconda3\\envs\\ssml\\lib\\site-packages (from fiona>=1.8->geopandas) (1.1.1)\n",
      "Requirement already satisfied: six>=1.7 in c:\\users\\jitse\\anaconda3\\envs\\ssml\\lib\\site-packages (from fiona>=1.8->geopandas) (1.16.0)\n",
      "Requirement already satisfied: munch in c:\\users\\jitse\\anaconda3\\envs\\ssml\\lib\\site-packages (from fiona>=1.8->geopandas) (2.5.0)\n",
      "Requirement already satisfied: setuptools in c:\\users\\jitse\\anaconda3\\envs\\ssml\\lib\\site-packages (from fiona>=1.8->geopandas) (67.1.0)\n",
      "Requirement already satisfied: python-dateutil>=2.8.1 in c:\\users\\jitse\\anaconda3\\envs\\ssml\\lib\\site-packages (from pandas>=1.0.0->geopandas) (2.8.2)\n",
      "Requirement already satisfied: pytz>=2020.1 in c:\\users\\jitse\\anaconda3\\envs\\ssml\\lib\\site-packages (from pandas>=1.0.0->geopandas) (2022.7.1)\n",
      "Requirement already satisfied: numpy>=1.21.0 in c:\\users\\jitse\\anaconda3\\envs\\ssml\\lib\\site-packages (from pandas>=1.0.0->geopandas) (1.23.5)\n",
      "Requirement already satisfied: colorama in c:\\users\\jitse\\anaconda3\\envs\\ssml\\lib\\site-packages (from click>=4.0->fiona>=1.8->geopandas) (0.4.6)\n",
      "Requirement already satisfied: mgwr in c:\\users\\jitse\\anaconda3\\envs\\ssml\\lib\\site-packages (2.1.2)\n",
      "Requirement already satisfied: numpy>=1.3 in c:\\users\\jitse\\anaconda3\\envs\\ssml\\lib\\site-packages (from mgwr) (1.23.5)\n",
      "Requirement already satisfied: spglm>=1.0.6 in c:\\users\\jitse\\anaconda3\\envs\\ssml\\lib\\site-packages (from mgwr) (1.0.8)\n",
      "Requirement already satisfied: libpysal>=4.0.0 in c:\\users\\jitse\\anaconda3\\envs\\ssml\\lib\\site-packages (from mgwr) (4.7.0)\n",
      "Requirement already satisfied: spreg in c:\\users\\jitse\\anaconda3\\envs\\ssml\\lib\\site-packages (from mgwr) (1.3.0)\n",
      "Requirement already satisfied: scipy>=0.11 in c:\\users\\jitse\\anaconda3\\envs\\ssml\\lib\\site-packages (from mgwr) (1.10.0)\n",
      "Requirement already satisfied: beautifulsoup4 in c:\\users\\jitse\\anaconda3\\envs\\ssml\\lib\\site-packages (from libpysal>=4.0.0->mgwr) (4.11.2)\n",
      "Requirement already satisfied: packaging in c:\\users\\jitse\\anaconda3\\envs\\ssml\\lib\\site-packages (from libpysal>=4.0.0->mgwr) (23.0)\n",
      "Requirement already satisfied: pandas in c:\\users\\jitse\\anaconda3\\envs\\ssml\\lib\\site-packages (from libpysal>=4.0.0->mgwr) (1.5.3)\n",
      "Requirement already satisfied: requests in c:\\users\\jitse\\anaconda3\\envs\\ssml\\lib\\site-packages (from libpysal>=4.0.0->mgwr) (2.28.2)\n",
      "Requirement already satisfied: jinja2 in c:\\users\\jitse\\anaconda3\\envs\\ssml\\lib\\site-packages (from libpysal>=4.0.0->mgwr) (3.1.2)\n",
      "Requirement already satisfied: platformdirs in c:\\users\\jitse\\anaconda3\\envs\\ssml\\lib\\site-packages (from libpysal>=4.0.0->mgwr) (3.0.0)\n",
      "Requirement already satisfied: scikit-learn>=0.22 in c:\\users\\jitse\\anaconda3\\envs\\ssml\\lib\\site-packages (from spreg->mgwr) (1.2.1)\n",
      "Requirement already satisfied: threadpoolctl>=2.0.0 in c:\\users\\jitse\\anaconda3\\envs\\ssml\\lib\\site-packages (from scikit-learn>=0.22->spreg->mgwr) (3.1.0)\n",
      "Requirement already satisfied: joblib>=1.1.1 in c:\\users\\jitse\\anaconda3\\envs\\ssml\\lib\\site-packages (from scikit-learn>=0.22->spreg->mgwr) (1.2.0)\n",
      "Requirement already satisfied: soupsieve>1.2 in c:\\users\\jitse\\anaconda3\\envs\\ssml\\lib\\site-packages (from beautifulsoup4->libpysal>=4.0.0->mgwr) (2.3.2.post1)\n",
      "Requirement already satisfied: MarkupSafe>=2.0 in c:\\users\\jitse\\anaconda3\\envs\\ssml\\lib\\site-packages (from jinja2->libpysal>=4.0.0->mgwr) (2.1.2)\n",
      "Requirement already satisfied: pytz>=2020.1 in c:\\users\\jitse\\anaconda3\\envs\\ssml\\lib\\site-packages (from pandas->libpysal>=4.0.0->mgwr) (2022.7.1)\n",
      "Requirement already satisfied: python-dateutil>=2.8.1 in c:\\users\\jitse\\anaconda3\\envs\\ssml\\lib\\site-packages (from pandas->libpysal>=4.0.0->mgwr) (2.8.2)\n",
      "Requirement already satisfied: idna<4,>=2.5 in c:\\users\\jitse\\anaconda3\\envs\\ssml\\lib\\site-packages (from requests->libpysal>=4.0.0->mgwr) (3.4)\n",
      "Requirement already satisfied: certifi>=2017.4.17 in c:\\users\\jitse\\anaconda3\\envs\\ssml\\lib\\site-packages (from requests->libpysal>=4.0.0->mgwr) (2022.12.7)\n",
      "Requirement already satisfied: urllib3<1.27,>=1.21.1 in c:\\users\\jitse\\anaconda3\\envs\\ssml\\lib\\site-packages (from requests->libpysal>=4.0.0->mgwr) (1.26.14)\n",
      "Requirement already satisfied: charset-normalizer<4,>=2 in c:\\users\\jitse\\anaconda3\\envs\\ssml\\lib\\site-packages (from requests->libpysal>=4.0.0->mgwr) (2.1.1)\n",
      "Requirement already satisfied: six>=1.5 in c:\\users\\jitse\\anaconda3\\envs\\ssml\\lib\\site-packages (from python-dateutil>=2.8.1->pandas->libpysal>=4.0.0->mgwr) (1.16.0)\n"
     ]
    }
   ],
   "source": [
    "!pip install geopandas\n",
    "!pip install mgwr"
   ]
  },
  {
   "cell_type": "code",
   "execution_count": 1,
   "id": "6cf83172-2571-49e7-8779-1c0714fa7991",
   "metadata": {
    "tags": []
   },
   "outputs": [],
   "source": [
    "import numpy as np\n",
    "import os\n",
    "import multiprocessing\n",
    "os.environ['USE_PYGEOS'] = '0'\n",
    "import geopandas as gp\n",
    "import multiprocessing as mp\n",
    "from mgwr.gwr import GWR,MGWR\n",
    "from mgwr.sel_bw import Sel_BW"
   ]
  },
  {
   "cell_type": "code",
   "execution_count": 2,
   "id": "fd9ad555",
   "metadata": {
    "tags": []
   },
   "outputs": [],
   "source": [
    "#Load the funda data\n",
    "funda_data = gp.read_file(\"data/funda_buy_28-03-2023_full.gpkg\")"
   ]
  },
  {
   "cell_type": "code",
   "execution_count": 3,
   "id": "b8e57597",
   "metadata": {
    "tags": []
   },
   "outputs": [
    {
     "data": {
      "text/html": [
       "<div>\n",
       "<style scoped>\n",
       "    .dataframe tbody tr th:only-of-type {\n",
       "        vertical-align: middle;\n",
       "    }\n",
       "\n",
       "    .dataframe tbody tr th {\n",
       "        vertical-align: top;\n",
       "    }\n",
       "\n",
       "    .dataframe thead th {\n",
       "        text-align: right;\n",
       "    }\n",
       "</style>\n",
       "<table border=\"1\" class=\"dataframe\">\n",
       "  <thead>\n",
       "    <tr style=\"text-align: right;\">\n",
       "      <th></th>\n",
       "      <th>...1</th>\n",
       "      <th>house_id</th>\n",
       "      <th>house_type</th>\n",
       "      <th>building_type</th>\n",
       "      <th>price</th>\n",
       "      <th>price_m2</th>\n",
       "      <th>room</th>\n",
       "      <th>bedroom</th>\n",
       "      <th>bathroom</th>\n",
       "      <th>living_area</th>\n",
       "      <th>...</th>\n",
       "      <th>ym_list</th>\n",
       "      <th>year_list</th>\n",
       "      <th>descrip</th>\n",
       "      <th>zip</th>\n",
       "      <th>letters</th>\n",
       "      <th>city</th>\n",
       "      <th>addressline_city</th>\n",
       "      <th>addressline_zip</th>\n",
       "      <th>addresszip</th>\n",
       "      <th>geometry</th>\n",
       "    </tr>\n",
       "  </thead>\n",
       "  <tbody>\n",
       "    <tr>\n",
       "      <th>0</th>\n",
       "      <td>1.0</td>\n",
       "      <td>88438538.0</td>\n",
       "      <td>huis</td>\n",
       "      <td>Resale property</td>\n",
       "      <td>515000.0</td>\n",
       "      <td>4327.7</td>\n",
       "      <td>6.0</td>\n",
       "      <td>4.0</td>\n",
       "      <td>0.0</td>\n",
       "      <td>119.0</td>\n",
       "      <td>...</td>\n",
       "      <td>2023-01-01</td>\n",
       "      <td>2023.0</td>\n",
       "      <td>\\nHeerlijk wonen aan  de  rand van  het centru...</td>\n",
       "      <td>1791</td>\n",
       "      <td>DD</td>\n",
       "      <td>Den</td>\n",
       "      <td>Den Burg\\r\\n</td>\n",
       "      <td>1791 DD</td>\n",
       "      <td>Elemert 20, 1791 DD, Den, Nederland</td>\n",
       "      <td>POINT (115415.102 562934.410)</td>\n",
       "    </tr>\n",
       "    <tr>\n",
       "      <th>1</th>\n",
       "      <td>2.0</td>\n",
       "      <td>42954353.0</td>\n",
       "      <td>huis</td>\n",
       "      <td>Resale property</td>\n",
       "      <td>400000.0</td>\n",
       "      <td>3669.7</td>\n",
       "      <td>5.0</td>\n",
       "      <td>4.0</td>\n",
       "      <td>1.0</td>\n",
       "      <td>109.0</td>\n",
       "      <td>...</td>\n",
       "      <td>2022-09-01</td>\n",
       "      <td>2022.0</td>\n",
       "      <td>\\nEen unieke woning  met  garage nabij  het st...</td>\n",
       "      <td>1949</td>\n",
       "      <td>CG</td>\n",
       "      <td>Wijk</td>\n",
       "      <td>Wijk aan Zee\\r\\n</td>\n",
       "      <td>1949 CG</td>\n",
       "      <td>Burgemeester Rothestraat 88, 1949 CG, Wijk, Ne...</td>\n",
       "      <td>POINT (101584.001 500981.995)</td>\n",
       "    </tr>\n",
       "    <tr>\n",
       "      <th>2</th>\n",
       "      <td>3.0</td>\n",
       "      <td>42048957.0</td>\n",
       "      <td>huis</td>\n",
       "      <td>Resale property</td>\n",
       "      <td>449000.0</td>\n",
       "      <td>3805.1</td>\n",
       "      <td>6.0</td>\n",
       "      <td>4.0</td>\n",
       "      <td>1.0</td>\n",
       "      <td>118.0</td>\n",
       "      <td>...</td>\n",
       "      <td>2023-03-01</td>\n",
       "      <td>2023.0</td>\n",
       "      <td>\\nEen fraai uitgevoerde  tussenwoning,  uitgeb...</td>\n",
       "      <td>1901</td>\n",
       "      <td>TD</td>\n",
       "      <td>Castricum\\r\\n</td>\n",
       "      <td>Castricum\\r\\n</td>\n",
       "      <td>1901 TD</td>\n",
       "      <td>Eerste Groenelaan 54, 1901 TD, Castricum\\r\\n, ...</td>\n",
       "      <td>POINT (105924.643 507742.212)</td>\n",
       "    </tr>\n",
       "    <tr>\n",
       "      <th>3</th>\n",
       "      <td>5.0</td>\n",
       "      <td>42026862.0</td>\n",
       "      <td>huis</td>\n",
       "      <td>Resale property</td>\n",
       "      <td>550000.0</td>\n",
       "      <td>5000.0</td>\n",
       "      <td>4.0</td>\n",
       "      <td>3.0</td>\n",
       "      <td>1.0</td>\n",
       "      <td>110.0</td>\n",
       "      <td>...</td>\n",
       "      <td>2023-02-01</td>\n",
       "      <td>2023.0</td>\n",
       "      <td>\\nSchedule a viewing  directly  online? Go  to...</td>\n",
       "      <td>1066</td>\n",
       "      <td>TH</td>\n",
       "      <td>Amsterdam\\r\\n</td>\n",
       "      <td>Amsterdam\\r\\n</td>\n",
       "      <td>1066 TH</td>\n",
       "      <td>Oudenaardeplantsoen 21, 1066 TH, Amsterdam\\r\\n...</td>\n",
       "      <td>POINT (115144.000 484579.000)</td>\n",
       "    </tr>\n",
       "    <tr>\n",
       "      <th>4</th>\n",
       "      <td>6.0</td>\n",
       "      <td>42046726.0</td>\n",
       "      <td>huis</td>\n",
       "      <td>Resale property</td>\n",
       "      <td>695000.0</td>\n",
       "      <td>3948.9</td>\n",
       "      <td>6.0</td>\n",
       "      <td>4.0</td>\n",
       "      <td>1.0</td>\n",
       "      <td>176.0</td>\n",
       "      <td>...</td>\n",
       "      <td>2023-03-01</td>\n",
       "      <td>2023.0</td>\n",
       "      <td>\\nRust, ruimte, privacy  en  een keurig  afwer...</td>\n",
       "      <td>2134</td>\n",
       "      <td>WJ</td>\n",
       "      <td>Hoofddorp\\r\\n</td>\n",
       "      <td>Hoofddorp\\r\\n</td>\n",
       "      <td>2134 WJ</td>\n",
       "      <td>Zandkreek 21, 2134 WJ, Hoofddorp\\r\\n, Nederland</td>\n",
       "      <td>POINT (103400.326 480554.963)</td>\n",
       "    </tr>\n",
       "  </tbody>\n",
       "</table>\n",
       "<p>5 rows × 27 columns</p>\n",
       "</div>"
      ],
      "text/plain": [
       "   ...1    house_id house_type    building_type     price  price_m2  room  \\\n",
       "0   1.0  88438538.0       huis  Resale property  515000.0    4327.7   6.0   \n",
       "1   2.0  42954353.0       huis  Resale property  400000.0    3669.7   5.0   \n",
       "2   3.0  42048957.0       huis  Resale property  449000.0    3805.1   6.0   \n",
       "3   5.0  42026862.0       huis  Resale property  550000.0    5000.0   4.0   \n",
       "4   6.0  42046726.0       huis  Resale property  695000.0    3948.9   6.0   \n",
       "\n",
       "   bedroom  bathroom  living_area  ...     ym_list year_list  \\\n",
       "0      4.0       0.0        119.0  ...  2023-01-01    2023.0   \n",
       "1      4.0       1.0        109.0  ...  2022-09-01    2022.0   \n",
       "2      4.0       1.0        118.0  ...  2023-03-01    2023.0   \n",
       "3      3.0       1.0        110.0  ...  2023-02-01    2023.0   \n",
       "4      4.0       1.0        176.0  ...  2023-03-01    2023.0   \n",
       "\n",
       "                                             descrip   zip  letters  \\\n",
       "0  \\nHeerlijk wonen aan  de  rand van  het centru...  1791       DD   \n",
       "1  \\nEen unieke woning  met  garage nabij  het st...  1949       CG   \n",
       "2  \\nEen fraai uitgevoerde  tussenwoning,  uitgeb...  1901       TD   \n",
       "3  \\nSchedule a viewing  directly  online? Go  to...  1066       TH   \n",
       "4  \\nRust, ruimte, privacy  en  een keurig  afwer...  2134       WJ   \n",
       "\n",
       "            city    addressline_city addressline_zip  \\\n",
       "0            Den     Den Burg\\r\\n            1791 DD   \n",
       "1           Wijk  Wijk aan Zee\\r\\n           1949 CG   \n",
       "2  Castricum\\r\\n   Castricum\\r\\n             1901 TD   \n",
       "3  Amsterdam\\r\\n   Amsterdam\\r\\n             1066 TH   \n",
       "4  Hoofddorp\\r\\n   Hoofddorp\\r\\n             2134 WJ   \n",
       "\n",
       "                                          addresszip  \\\n",
       "0                Elemert 20, 1791 DD, Den, Nederland   \n",
       "1  Burgemeester Rothestraat 88, 1949 CG, Wijk, Ne...   \n",
       "2  Eerste Groenelaan 54, 1901 TD, Castricum\\r\\n, ...   \n",
       "3  Oudenaardeplantsoen 21, 1066 TH, Amsterdam\\r\\n...   \n",
       "4    Zandkreek 21, 2134 WJ, Hoofddorp\\r\\n, Nederland   \n",
       "\n",
       "                        geometry  \n",
       "0  POINT (115415.102 562934.410)  \n",
       "1  POINT (101584.001 500981.995)  \n",
       "2  POINT (105924.643 507742.212)  \n",
       "3  POINT (115144.000 484579.000)  \n",
       "4  POINT (103400.326 480554.963)  \n",
       "\n",
       "[5 rows x 27 columns]"
      ]
     },
     "execution_count": 3,
     "metadata": {},
     "output_type": "execute_result"
    }
   ],
   "source": [
    "#show funda data\n",
    "funda_data.head()"
   ]
  },
  {
   "cell_type": "code",
   "execution_count": 4,
   "id": "57602051",
   "metadata": {
    "tags": []
   },
   "outputs": [],
   "source": [
    "#create array with the dependent variable\n",
    "b_y = funda_data['price'].values.reshape((-1,1))"
   ]
  },
  {
   "cell_type": "code",
   "execution_count": 6,
   "id": "f71b862e",
   "metadata": {
    "tags": []
   },
   "outputs": [],
   "source": [
    "#create an array with the indepentend variables (order matters for the extraction of params later)\n",
    "b_X = funda_data[['room','living_area','house_age']].values "
   ]
  },
  {
   "cell_type": "code",
   "execution_count": 7,
   "id": "8679d9dc",
   "metadata": {
    "tags": []
   },
   "outputs": [],
   "source": [
    "#create coordinate tuple for the model\n",
    "u = funda_data['geometry'].x\n",
    "v = funda_data['geometry'].y\n",
    "b_coords = list(zip(u, v))"
   ]
  },
  {
   "cell_type": "code",
   "execution_count": 8,
   "id": "1d1a8646",
   "metadata": {
    "tags": []
   },
   "outputs": [
    {
     "data": {
      "text/plain": [
       "8"
      ]
     },
     "execution_count": 8,
     "metadata": {},
     "output_type": "execute_result"
    }
   ],
   "source": [
    "multiprocessing.cpu_count()"
   ]
  },
  {
   "cell_type": "code",
   "execution_count": 10,
   "id": "fb016831",
   "metadata": {
    "tags": []
   },
   "outputs": [],
   "source": [
    "#Parrallelization is more favored when you your data are large and/or your machine have many many cores.\n",
    "#mgwr has soft dependency of numba, please install numba if you need better performance (pip install numba).\n",
    "n_proc = 4 #two processors\n",
    "pool = mp.Pool(n_proc) "
   ]
  },
  {
   "cell_type": "code",
   "execution_count": 11,
   "id": "28a7c138",
   "metadata": {
    "tags": []
   },
   "outputs": [
    {
     "name": "stdout",
     "output_type": "stream",
     "text": [
      "51.0\n",
      "CPU times: total: 2.59 s\n",
      "Wall time: 47.5 s\n"
     ]
    }
   ],
   "source": [
    "%%time\n",
    "#Run basic GWR in parrallel mode\n",
    "if __name__ == '__main__':\n",
    "    gwr_selector = Sel_BW(b_coords, b_y, b_X)\n",
    "    gwr_bw = gwr_selector.search(pool = pool) #add pool to Sel_BW.search\n",
    "    print(gwr_bw)\n",
    "    gwr_results = GWR(b_coords, b_y, b_X, gwr_bw).fit(pool = pool)"
   ]
  },
  {
   "cell_type": "code",
   "execution_count": 12,
   "id": "21ee9361",
   "metadata": {
    "tags": []
   },
   "outputs": [
    {
     "name": "stdout",
     "output_type": "stream",
     "text": [
      "===========================================================================\n",
      "Model type                                                         Gaussian\n",
      "Number of observations:                                                7250\n",
      "Number of covariates:                                                     4\n",
      "\n",
      "Global Regression Results\n",
      "---------------------------------------------------------------------------\n",
      "Residual sum of squares:                                       1011146779551883.000\n",
      "Log-likelihood:                                                 -103308.809\n",
      "AIC:                                                             206625.618\n",
      "AICc:                                                            206627.627\n",
      "BIC:                                                           1011146779487475.125\n",
      "R2:                                                                   0.538\n",
      "Adj. R2:                                                              0.538\n",
      "\n",
      "Variable                              Est.         SE  t(Est/SE)    p-value\n",
      "------------------------------- ---------- ---------- ---------- ----------\n",
      "X0                              -30308.135  12178.710     -2.489      0.013\n",
      "X1                               -9074.998   3560.371     -2.549      0.011\n",
      "X2                                5701.210     90.505     62.993      0.000\n",
      "X3                                  93.921     16.320      5.755      0.000\n",
      "\n",
      "Geographically Weighted Regression (GWR) Results\n",
      "---------------------------------------------------------------------------\n",
      "Spatial kernel:                                           Adaptive bisquare\n",
      "Bandwidth used:                                                      51.000\n",
      "\n",
      "Diagnostic information\n",
      "---------------------------------------------------------------------------\n",
      "Residual sum of squares:                                       203821570110494.250\n",
      "Effective number of parameters (trace(S)):                         1283.448\n",
      "Degree of freedom (n - trace(S)):                                  5966.552\n",
      "Sigma estimate:                                                  184826.124\n",
      "Log-likelihood:                                                  -97503.026\n",
      "AIC:                                                             197574.947\n",
      "AICc:                                                            198128.582\n",
      "BIC:                                                             206423.197\n",
      "R2:                                                                   0.907\n",
      "Adjusted R2:                                                          0.887\n",
      "Adj. alpha (95%):                                                     0.000\n",
      "Adj. critical t value (95%):                                          3.784\n",
      "\n",
      "Summary Statistics For GWR Parameter Estimates\n",
      "---------------------------------------------------------------------------\n",
      "Variable                   Mean        STD        Min     Median        Max\n",
      "-------------------- ---------- ---------- ---------- ---------- ----------\n",
      "X0                    37823.304 195773.267 -1400969.918  60179.028 1956608.114\n",
      "X1                   -14384.311  59582.429 -579251.150  -6412.620 244275.577\n",
      "X2                     5409.591   3192.084    233.077   4745.866  28925.000\n",
      "X3                     -338.575   2096.438 -18869.890    -21.405  20007.602\n",
      "===========================================================================\n",
      "\n"
     ]
    }
   ],
   "source": [
    "#show summary\n",
    "gwr_results.summary()"
   ]
  },
  {
   "cell_type": "code",
   "execution_count": 13,
   "id": "196984a0",
   "metadata": {
    "tags": []
   },
   "outputs": [
    {
     "data": {
      "application/vnd.jupyter.widget-view+json": {
       "model_id": "a71d0fddd5e44907a989b601c147a4e9",
       "version_major": 2,
       "version_minor": 0
      },
      "text/plain": [
       "Backfitting:   0%|          | 0/5 [00:00<?, ?it/s]"
      ]
     },
     "metadata": {},
     "output_type": "display_data"
    },
    {
     "ename": "KeyboardInterrupt",
     "evalue": "",
     "output_type": "error",
     "traceback": [
      "\u001b[1;31m---------------------------------------------------------------------------\u001b[0m",
      "\u001b[1;31mKeyboardInterrupt\u001b[0m                         Traceback (most recent call last)",
      "File \u001b[1;32m<timed exec>:4\u001b[0m\n",
      "File \u001b[1;32m~\\anaconda3\\envs\\ssml\\lib\\site-packages\\mgwr\\sel_bw.py:312\u001b[0m, in \u001b[0;36mSel_BW.search\u001b[1;34m(self, search_method, criterion, bw_min, bw_max, interval, tol, max_iter, init_multi, tol_multi, rss_score, max_iter_multi, multi_bw_min, multi_bw_max, bws_same_times, pool, verbose)\u001b[0m\n\u001b[0;32m    309\u001b[0m \u001b[38;5;28mself\u001b[39m\u001b[38;5;241m.\u001b[39mint_score \u001b[38;5;241m=\u001b[39m \u001b[38;5;129;01mnot\u001b[39;00m \u001b[38;5;28mself\u001b[39m\u001b[38;5;241m.\u001b[39mfixed\n\u001b[0;32m    311\u001b[0m \u001b[38;5;28;01mif\u001b[39;00m \u001b[38;5;28mself\u001b[39m\u001b[38;5;241m.\u001b[39mmulti:\n\u001b[1;32m--> 312\u001b[0m     \u001b[38;5;28;43mself\u001b[39;49m\u001b[38;5;241;43m.\u001b[39;49m\u001b[43m_mbw\u001b[49m\u001b[43m(\u001b[49m\u001b[43m)\u001b[49m\n\u001b[0;32m    313\u001b[0m     \u001b[38;5;28mself\u001b[39m\u001b[38;5;241m.\u001b[39mparams \u001b[38;5;241m=\u001b[39m \u001b[38;5;28mself\u001b[39m\u001b[38;5;241m.\u001b[39mbw[\u001b[38;5;241m3\u001b[39m]  \u001b[38;5;66;03m#params n by k\u001b[39;00m\n\u001b[0;32m    314\u001b[0m     \u001b[38;5;28mself\u001b[39m\u001b[38;5;241m.\u001b[39msel_hist \u001b[38;5;241m=\u001b[39m \u001b[38;5;28mself\u001b[39m\u001b[38;5;241m.\u001b[39mbw[\u001b[38;5;241m-\u001b[39m\u001b[38;5;241m2\u001b[39m] \u001b[38;5;66;03m#bw searching history\u001b[39;00m\n",
      "File \u001b[1;32m~\\anaconda3\\envs\\ssml\\lib\\site-packages\\mgwr\\sel_bw.py:398\u001b[0m, in \u001b[0;36mSel_BW._mbw\u001b[1;34m(self)\u001b[0m\n\u001b[0;32m    392\u001b[0m \u001b[38;5;28;01mdef\u001b[39;00m \u001b[38;5;21msel_func\u001b[39m(bw_func, bw_min\u001b[38;5;241m=\u001b[39m\u001b[38;5;28;01mNone\u001b[39;00m, bw_max\u001b[38;5;241m=\u001b[39m\u001b[38;5;28;01mNone\u001b[39;00m):\n\u001b[0;32m    393\u001b[0m     \u001b[38;5;28;01mreturn\u001b[39;00m bw_func\u001b[38;5;241m.\u001b[39msearch(\n\u001b[0;32m    394\u001b[0m         search_method\u001b[38;5;241m=\u001b[39msearch_method, criterion\u001b[38;5;241m=\u001b[39mcriterion,\n\u001b[0;32m    395\u001b[0m         bw_min\u001b[38;5;241m=\u001b[39mbw_min, bw_max\u001b[38;5;241m=\u001b[39mbw_max, interval\u001b[38;5;241m=\u001b[39minterval, tol\u001b[38;5;241m=\u001b[39mtol,\n\u001b[0;32m    396\u001b[0m         max_iter\u001b[38;5;241m=\u001b[39mmax_iter, pool\u001b[38;5;241m=\u001b[39m\u001b[38;5;28mself\u001b[39m\u001b[38;5;241m.\u001b[39mpool, verbose\u001b[38;5;241m=\u001b[39m\u001b[38;5;28;01mFalse\u001b[39;00m)\n\u001b[1;32m--> 398\u001b[0m \u001b[38;5;28mself\u001b[39m\u001b[38;5;241m.\u001b[39mbw \u001b[38;5;241m=\u001b[39m \u001b[43mmulti_bw\u001b[49m\u001b[43m(\u001b[49m\u001b[38;5;28;43mself\u001b[39;49m\u001b[38;5;241;43m.\u001b[39;49m\u001b[43minit_multi\u001b[49m\u001b[43m,\u001b[49m\u001b[43m \u001b[49m\u001b[43my\u001b[49m\u001b[43m,\u001b[49m\u001b[43m \u001b[49m\u001b[43mX\u001b[49m\u001b[43m,\u001b[49m\u001b[43m \u001b[49m\u001b[43mn\u001b[49m\u001b[43m,\u001b[49m\u001b[43m \u001b[49m\u001b[43mk\u001b[49m\u001b[43m,\u001b[49m\u001b[43m \u001b[49m\u001b[43mfamily\u001b[49m\u001b[43m,\u001b[49m\u001b[43m \u001b[49m\u001b[38;5;28;43mself\u001b[39;49m\u001b[38;5;241;43m.\u001b[39;49m\u001b[43mtol_multi\u001b[49m\u001b[43m,\u001b[49m\n\u001b[0;32m    399\u001b[0m \u001b[43m                   \u001b[49m\u001b[38;5;28;43mself\u001b[39;49m\u001b[38;5;241;43m.\u001b[39;49m\u001b[43mmax_iter_multi\u001b[49m\u001b[43m,\u001b[49m\u001b[43m \u001b[49m\u001b[38;5;28;43mself\u001b[39;49m\u001b[38;5;241;43m.\u001b[39;49m\u001b[43mrss_score\u001b[49m\u001b[43m,\u001b[49m\u001b[43m \u001b[49m\u001b[43mgwr_func\u001b[49m\u001b[43m,\u001b[49m\n\u001b[0;32m    400\u001b[0m \u001b[43m                   \u001b[49m\u001b[43mbw_func\u001b[49m\u001b[43m,\u001b[49m\u001b[43m \u001b[49m\u001b[43msel_func\u001b[49m\u001b[43m,\u001b[49m\u001b[43m \u001b[49m\u001b[43mmulti_bw_min\u001b[49m\u001b[43m,\u001b[49m\u001b[43m \u001b[49m\u001b[43mmulti_bw_max\u001b[49m\u001b[43m,\u001b[49m\n\u001b[0;32m    401\u001b[0m \u001b[43m                   \u001b[49m\u001b[43mbws_same_times\u001b[49m\u001b[43m,\u001b[49m\u001b[43m \u001b[49m\u001b[43mverbose\u001b[49m\u001b[38;5;241;43m=\u001b[39;49m\u001b[38;5;28;43mself\u001b[39;49m\u001b[38;5;241;43m.\u001b[39;49m\u001b[43mverbose\u001b[49m\u001b[43m)\u001b[49m\n",
      "File \u001b[1;32m~\\anaconda3\\envs\\ssml\\lib\\site-packages\\mgwr\\search.py:223\u001b[0m, in \u001b[0;36mmulti_bw\u001b[1;34m(init, y, X, n, k, family, tol, max_iter, rss_score, gwr_func, bw_func, sel_func, multi_bw_min, multi_bw_max, bws_same_times, verbose)\u001b[0m\n\u001b[0;32m    221\u001b[0m     bw \u001b[38;5;241m=\u001b[39m bws[j]\n\u001b[0;32m    222\u001b[0m \u001b[38;5;28;01melse\u001b[39;00m:\n\u001b[1;32m--> 223\u001b[0m     bw \u001b[38;5;241m=\u001b[39m \u001b[43msel_func\u001b[49m\u001b[43m(\u001b[49m\u001b[43mbw_class\u001b[49m\u001b[43m,\u001b[49m\u001b[43m \u001b[49m\u001b[43mmulti_bw_min\u001b[49m\u001b[43m[\u001b[49m\u001b[43mj\u001b[49m\u001b[43m]\u001b[49m\u001b[43m,\u001b[49m\u001b[43m \u001b[49m\u001b[43mmulti_bw_max\u001b[49m\u001b[43m[\u001b[49m\u001b[43mj\u001b[49m\u001b[43m]\u001b[49m\u001b[43m)\u001b[49m\n\u001b[0;32m    224\u001b[0m     gwr_sel_hist\u001b[38;5;241m.\u001b[39mappend(deepcopy(bw_class\u001b[38;5;241m.\u001b[39msel_hist))\n\u001b[0;32m    226\u001b[0m optim_model \u001b[38;5;241m=\u001b[39m gwr_func(temp_y, temp_X, bw)\n",
      "File \u001b[1;32m~\\anaconda3\\envs\\ssml\\lib\\site-packages\\mgwr\\sel_bw.py:393\u001b[0m, in \u001b[0;36mSel_BW._mbw.<locals>.sel_func\u001b[1;34m(bw_func, bw_min, bw_max)\u001b[0m\n\u001b[0;32m    392\u001b[0m \u001b[38;5;28;01mdef\u001b[39;00m \u001b[38;5;21msel_func\u001b[39m(bw_func, bw_min\u001b[38;5;241m=\u001b[39m\u001b[38;5;28;01mNone\u001b[39;00m, bw_max\u001b[38;5;241m=\u001b[39m\u001b[38;5;28;01mNone\u001b[39;00m):\n\u001b[1;32m--> 393\u001b[0m     \u001b[38;5;28;01mreturn\u001b[39;00m \u001b[43mbw_func\u001b[49m\u001b[38;5;241;43m.\u001b[39;49m\u001b[43msearch\u001b[49m\u001b[43m(\u001b[49m\n\u001b[0;32m    394\u001b[0m \u001b[43m        \u001b[49m\u001b[43msearch_method\u001b[49m\u001b[38;5;241;43m=\u001b[39;49m\u001b[43msearch_method\u001b[49m\u001b[43m,\u001b[49m\u001b[43m \u001b[49m\u001b[43mcriterion\u001b[49m\u001b[38;5;241;43m=\u001b[39;49m\u001b[43mcriterion\u001b[49m\u001b[43m,\u001b[49m\n\u001b[0;32m    395\u001b[0m \u001b[43m        \u001b[49m\u001b[43mbw_min\u001b[49m\u001b[38;5;241;43m=\u001b[39;49m\u001b[43mbw_min\u001b[49m\u001b[43m,\u001b[49m\u001b[43m \u001b[49m\u001b[43mbw_max\u001b[49m\u001b[38;5;241;43m=\u001b[39;49m\u001b[43mbw_max\u001b[49m\u001b[43m,\u001b[49m\u001b[43m \u001b[49m\u001b[43minterval\u001b[49m\u001b[38;5;241;43m=\u001b[39;49m\u001b[43minterval\u001b[49m\u001b[43m,\u001b[49m\u001b[43m \u001b[49m\u001b[43mtol\u001b[49m\u001b[38;5;241;43m=\u001b[39;49m\u001b[43mtol\u001b[49m\u001b[43m,\u001b[49m\n\u001b[0;32m    396\u001b[0m \u001b[43m        \u001b[49m\u001b[43mmax_iter\u001b[49m\u001b[38;5;241;43m=\u001b[39;49m\u001b[43mmax_iter\u001b[49m\u001b[43m,\u001b[49m\u001b[43m \u001b[49m\u001b[43mpool\u001b[49m\u001b[38;5;241;43m=\u001b[39;49m\u001b[38;5;28;43mself\u001b[39;49m\u001b[38;5;241;43m.\u001b[39;49m\u001b[43mpool\u001b[49m\u001b[43m,\u001b[49m\u001b[43m \u001b[49m\u001b[43mverbose\u001b[49m\u001b[38;5;241;43m=\u001b[39;49m\u001b[38;5;28;43;01mFalse\u001b[39;49;00m\u001b[43m)\u001b[49m\n",
      "File \u001b[1;32m~\\anaconda3\\envs\\ssml\\lib\\site-packages\\mgwr\\sel_bw.py:318\u001b[0m, in \u001b[0;36mSel_BW.search\u001b[1;34m(self, search_method, criterion, bw_min, bw_max, interval, tol, max_iter, init_multi, tol_multi, rss_score, max_iter_multi, multi_bw_min, multi_bw_max, bws_same_times, pool, verbose)\u001b[0m\n\u001b[0;32m    315\u001b[0m     \u001b[38;5;28mself\u001b[39m\u001b[38;5;241m.\u001b[39mbw_init \u001b[38;5;241m=\u001b[39m \u001b[38;5;28mself\u001b[39m\u001b[38;5;241m.\u001b[39mbw[\n\u001b[0;32m    316\u001b[0m         \u001b[38;5;241m-\u001b[39m\u001b[38;5;241m1\u001b[39m]  \u001b[38;5;66;03m#scalar, optimal bw from initial gwr model\u001b[39;00m\n\u001b[0;32m    317\u001b[0m \u001b[38;5;28;01melse\u001b[39;00m:\n\u001b[1;32m--> 318\u001b[0m     \u001b[38;5;28;43mself\u001b[39;49m\u001b[38;5;241;43m.\u001b[39;49m\u001b[43m_bw\u001b[49m\u001b[43m(\u001b[49m\u001b[43m)\u001b[49m\n\u001b[0;32m    319\u001b[0m     \u001b[38;5;28mself\u001b[39m\u001b[38;5;241m.\u001b[39msel_hist \u001b[38;5;241m=\u001b[39m \u001b[38;5;28mself\u001b[39m\u001b[38;5;241m.\u001b[39mbw[\u001b[38;5;241m-\u001b[39m\u001b[38;5;241m1\u001b[39m]\n\u001b[0;32m    321\u001b[0m \u001b[38;5;28mself\u001b[39m\u001b[38;5;241m.\u001b[39mpool \u001b[38;5;241m=\u001b[39m \u001b[38;5;28;01mNone\u001b[39;00m\n",
      "File \u001b[1;32m~\\anaconda3\\envs\\ssml\\lib\\site-packages\\mgwr\\sel_bw.py:336\u001b[0m, in \u001b[0;36mSel_BW._bw\u001b[1;34m(self)\u001b[0m\n\u001b[0;32m    333\u001b[0m     a, c \u001b[38;5;241m=\u001b[39m \u001b[38;5;28mself\u001b[39m\u001b[38;5;241m.\u001b[39m_init_section(\u001b[38;5;28mself\u001b[39m\u001b[38;5;241m.\u001b[39mX_glob, \u001b[38;5;28mself\u001b[39m\u001b[38;5;241m.\u001b[39mX_loc, \u001b[38;5;28mself\u001b[39m\u001b[38;5;241m.\u001b[39mcoords,\n\u001b[0;32m    334\u001b[0m                               \u001b[38;5;28mself\u001b[39m\u001b[38;5;241m.\u001b[39mconstant)\n\u001b[0;32m    335\u001b[0m     delta \u001b[38;5;241m=\u001b[39m \u001b[38;5;241m0.38197\u001b[39m  \u001b[38;5;66;03m#1 - (np.sqrt(5.0)-1.0)/2.0\u001b[39;00m\n\u001b[1;32m--> 336\u001b[0m     \u001b[38;5;28mself\u001b[39m\u001b[38;5;241m.\u001b[39mbw \u001b[38;5;241m=\u001b[39m \u001b[43mgolden_section\u001b[49m\u001b[43m(\u001b[49m\u001b[43ma\u001b[49m\u001b[43m,\u001b[49m\u001b[43m \u001b[49m\u001b[43mc\u001b[49m\u001b[43m,\u001b[49m\u001b[43m \u001b[49m\u001b[43mdelta\u001b[49m\u001b[43m,\u001b[49m\u001b[43m \u001b[49m\u001b[43mgwr_func\u001b[49m\u001b[43m,\u001b[49m\u001b[43m \u001b[49m\u001b[38;5;28;43mself\u001b[39;49m\u001b[38;5;241;43m.\u001b[39;49m\u001b[43mtol\u001b[49m\u001b[43m,\u001b[49m\n\u001b[0;32m    337\u001b[0m \u001b[43m                             \u001b[49m\u001b[38;5;28;43mself\u001b[39;49m\u001b[38;5;241;43m.\u001b[39;49m\u001b[43mmax_iter\u001b[49m\u001b[43m,\u001b[49m\u001b[43m \u001b[49m\u001b[38;5;28;43mself\u001b[39;49m\u001b[38;5;241;43m.\u001b[39;49m\u001b[43mint_score\u001b[49m\u001b[43m,\u001b[49m\n\u001b[0;32m    338\u001b[0m \u001b[43m                             \u001b[49m\u001b[38;5;28;43mself\u001b[39;49m\u001b[38;5;241;43m.\u001b[39;49m\u001b[43mverbose\u001b[49m\u001b[43m)\u001b[49m\n\u001b[0;32m    339\u001b[0m \u001b[38;5;28;01melif\u001b[39;00m \u001b[38;5;28mself\u001b[39m\u001b[38;5;241m.\u001b[39msearch_method \u001b[38;5;241m==\u001b[39m \u001b[38;5;124m'\u001b[39m\u001b[38;5;124minterval\u001b[39m\u001b[38;5;124m'\u001b[39m:\n\u001b[0;32m    340\u001b[0m     \u001b[38;5;28mself\u001b[39m\u001b[38;5;241m.\u001b[39mbw \u001b[38;5;241m=\u001b[39m equal_interval(\u001b[38;5;28mself\u001b[39m\u001b[38;5;241m.\u001b[39mbw_min, \u001b[38;5;28mself\u001b[39m\u001b[38;5;241m.\u001b[39mbw_max, \u001b[38;5;28mself\u001b[39m\u001b[38;5;241m.\u001b[39minterval,\n\u001b[0;32m    341\u001b[0m                              gwr_func, \u001b[38;5;28mself\u001b[39m\u001b[38;5;241m.\u001b[39mint_score, \u001b[38;5;28mself\u001b[39m\u001b[38;5;241m.\u001b[39mverbose)\n",
      "File \u001b[1;32m~\\anaconda3\\envs\\ssml\\lib\\site-packages\\mgwr\\search.py:62\u001b[0m, in \u001b[0;36mgolden_section\u001b[1;34m(a, c, delta, function, tol, max_iter, int_score, verbose)\u001b[0m\n\u001b[0;32m     60\u001b[0m     score_b \u001b[38;5;241m=\u001b[39m \u001b[38;5;28mdict\u001b[39m[b]\n\u001b[0;32m     61\u001b[0m \u001b[38;5;28;01melse\u001b[39;00m:\n\u001b[1;32m---> 62\u001b[0m     score_b \u001b[38;5;241m=\u001b[39m \u001b[43mfunction\u001b[49m\u001b[43m(\u001b[49m\u001b[43mb\u001b[49m\u001b[43m)\u001b[49m\n\u001b[0;32m     63\u001b[0m     \u001b[38;5;28mdict\u001b[39m[b] \u001b[38;5;241m=\u001b[39m score_b\n\u001b[0;32m     64\u001b[0m     \u001b[38;5;28;01mif\u001b[39;00m verbose:\n",
      "File \u001b[1;32m~\\anaconda3\\envs\\ssml\\lib\\site-packages\\mgwr\\sel_bw.py:325\u001b[0m, in \u001b[0;36mSel_BW._bw.<locals>.<lambda>\u001b[1;34m(bw)\u001b[0m\n\u001b[0;32m    324\u001b[0m \u001b[38;5;28;01mdef\u001b[39;00m \u001b[38;5;21m_bw\u001b[39m(\u001b[38;5;28mself\u001b[39m):\n\u001b[1;32m--> 325\u001b[0m     gwr_func \u001b[38;5;241m=\u001b[39m \u001b[38;5;28;01mlambda\u001b[39;00m bw: getDiag[\u001b[38;5;28mself\u001b[39m\u001b[38;5;241m.\u001b[39mcriterion](\u001b[43mGWR\u001b[49m\u001b[43m(\u001b[49m\n\u001b[0;32m    326\u001b[0m \u001b[43m        \u001b[49m\u001b[38;5;28;43mself\u001b[39;49m\u001b[38;5;241;43m.\u001b[39;49m\u001b[43mcoords\u001b[49m\u001b[43m,\u001b[49m\u001b[43m \u001b[49m\u001b[38;5;28;43mself\u001b[39;49m\u001b[38;5;241;43m.\u001b[39;49m\u001b[43my\u001b[49m\u001b[43m,\u001b[49m\u001b[43m \u001b[49m\u001b[38;5;28;43mself\u001b[39;49m\u001b[38;5;241;43m.\u001b[39;49m\u001b[43mX_loc\u001b[49m\u001b[43m,\u001b[49m\u001b[43m \u001b[49m\u001b[43mbw\u001b[49m\u001b[43m,\u001b[49m\u001b[43m \u001b[49m\u001b[43mfamily\u001b[49m\u001b[38;5;241;43m=\u001b[39;49m\u001b[38;5;28;43mself\u001b[39;49m\u001b[38;5;241;43m.\u001b[39;49m\u001b[43mfamily\u001b[49m\u001b[43m,\u001b[49m\u001b[43m \u001b[49m\u001b[43mkernel\u001b[49m\u001b[38;5;241;43m=\u001b[39;49m\n\u001b[0;32m    327\u001b[0m \u001b[43m        \u001b[49m\u001b[38;5;28;43mself\u001b[39;49m\u001b[38;5;241;43m.\u001b[39;49m\u001b[43mkernel\u001b[49m\u001b[43m,\u001b[49m\u001b[43m \u001b[49m\u001b[43mfixed\u001b[49m\u001b[38;5;241;43m=\u001b[39;49m\u001b[38;5;28;43mself\u001b[39;49m\u001b[38;5;241;43m.\u001b[39;49m\u001b[43mfixed\u001b[49m\u001b[43m,\u001b[49m\u001b[43m \u001b[49m\u001b[43mconstant\u001b[49m\u001b[38;5;241;43m=\u001b[39;49m\u001b[38;5;28;43mself\u001b[39;49m\u001b[38;5;241;43m.\u001b[39;49m\u001b[43mconstant\u001b[49m\u001b[43m,\u001b[49m\u001b[43m \u001b[49m\u001b[43moffset\u001b[49m\u001b[38;5;241;43m=\u001b[39;49m\u001b[38;5;28;43mself\u001b[39;49m\u001b[38;5;241;43m.\u001b[39;49m\n\u001b[0;32m    328\u001b[0m \u001b[43m        \u001b[49m\u001b[43moffset\u001b[49m\u001b[43m,\u001b[49m\u001b[43m \u001b[49m\u001b[43mspherical\u001b[49m\u001b[38;5;241;43m=\u001b[39;49m\u001b[38;5;28;43mself\u001b[39;49m\u001b[38;5;241;43m.\u001b[39;49m\u001b[43mspherical\u001b[49m\u001b[43m)\u001b[49m\u001b[38;5;241;43m.\u001b[39;49m\u001b[43mfit\u001b[49m\u001b[43m(\u001b[49m\u001b[43mlite\u001b[49m\u001b[38;5;241;43m=\u001b[39;49m\u001b[38;5;28;43;01mTrue\u001b[39;49;00m\u001b[43m,\u001b[49m\u001b[43m \u001b[49m\u001b[43mpool\u001b[49m\u001b[38;5;241;43m=\u001b[39;49m\u001b[38;5;28;43mself\u001b[39;49m\u001b[38;5;241;43m.\u001b[39;49m\u001b[43mpool\u001b[49m\u001b[43m)\u001b[49m)\n\u001b[0;32m    330\u001b[0m     \u001b[38;5;28mself\u001b[39m\u001b[38;5;241m.\u001b[39m_optimized_function \u001b[38;5;241m=\u001b[39m gwr_func\n\u001b[0;32m    332\u001b[0m     \u001b[38;5;28;01mif\u001b[39;00m \u001b[38;5;28mself\u001b[39m\u001b[38;5;241m.\u001b[39msearch_method \u001b[38;5;241m==\u001b[39m \u001b[38;5;124m'\u001b[39m\u001b[38;5;124mgolden_section\u001b[39m\u001b[38;5;124m'\u001b[39m:\n",
      "File \u001b[1;32m~\\anaconda3\\envs\\ssml\\lib\\site-packages\\mgwr\\gwr.py:330\u001b[0m, in \u001b[0;36mGWR.fit\u001b[1;34m(self, ini_params, tol, max_iter, solve, lite, pool)\u001b[0m\n\u001b[0;32m    327\u001b[0m     m \u001b[38;5;241m=\u001b[39m \u001b[38;5;28mself\u001b[39m\u001b[38;5;241m.\u001b[39mpoints\u001b[38;5;241m.\u001b[39mshape[\u001b[38;5;241m0\u001b[39m]\n\u001b[0;32m    329\u001b[0m \u001b[38;5;28;01mif\u001b[39;00m pool:\n\u001b[1;32m--> 330\u001b[0m     rslt \u001b[38;5;241m=\u001b[39m \u001b[43mpool\u001b[49m\u001b[38;5;241;43m.\u001b[39;49m\u001b[43mmap\u001b[49m\u001b[43m(\u001b[49m\u001b[38;5;28;43mself\u001b[39;49m\u001b[38;5;241;43m.\u001b[39;49m\u001b[43m_local_fit\u001b[49m\u001b[43m,\u001b[49m\n\u001b[0;32m    331\u001b[0m \u001b[43m                    \u001b[49m\u001b[38;5;28;43mrange\u001b[39;49m\u001b[43m(\u001b[49m\u001b[43mm\u001b[49m\u001b[43m)\u001b[49m\u001b[43m)\u001b[49m  \u001b[38;5;66;03m#parallel using mp.Pool\u001b[39;00m\n\u001b[0;32m    332\u001b[0m \u001b[38;5;28;01melse\u001b[39;00m:\n\u001b[0;32m    333\u001b[0m     rslt \u001b[38;5;241m=\u001b[39m \u001b[38;5;28mmap\u001b[39m(\u001b[38;5;28mself\u001b[39m\u001b[38;5;241m.\u001b[39m_local_fit, \u001b[38;5;28mrange\u001b[39m(m))  \u001b[38;5;66;03m#sequential\u001b[39;00m\n",
      "File \u001b[1;32m~\\anaconda3\\envs\\ssml\\lib\\multiprocessing\\pool.py:367\u001b[0m, in \u001b[0;36mPool.map\u001b[1;34m(self, func, iterable, chunksize)\u001b[0m\n\u001b[0;32m    362\u001b[0m \u001b[38;5;28;01mdef\u001b[39;00m \u001b[38;5;21mmap\u001b[39m(\u001b[38;5;28mself\u001b[39m, func, iterable, chunksize\u001b[38;5;241m=\u001b[39m\u001b[38;5;28;01mNone\u001b[39;00m):\n\u001b[0;32m    363\u001b[0m \u001b[38;5;250m    \u001b[39m\u001b[38;5;124;03m'''\u001b[39;00m\n\u001b[0;32m    364\u001b[0m \u001b[38;5;124;03m    Apply `func` to each element in `iterable`, collecting the results\u001b[39;00m\n\u001b[0;32m    365\u001b[0m \u001b[38;5;124;03m    in a list that is returned.\u001b[39;00m\n\u001b[0;32m    366\u001b[0m \u001b[38;5;124;03m    '''\u001b[39;00m\n\u001b[1;32m--> 367\u001b[0m     \u001b[38;5;28;01mreturn\u001b[39;00m \u001b[38;5;28;43mself\u001b[39;49m\u001b[38;5;241;43m.\u001b[39;49m\u001b[43m_map_async\u001b[49m\u001b[43m(\u001b[49m\u001b[43mfunc\u001b[49m\u001b[43m,\u001b[49m\u001b[43m \u001b[49m\u001b[43miterable\u001b[49m\u001b[43m,\u001b[49m\u001b[43m \u001b[49m\u001b[43mmapstar\u001b[49m\u001b[43m,\u001b[49m\u001b[43m \u001b[49m\u001b[43mchunksize\u001b[49m\u001b[43m)\u001b[49m\u001b[38;5;241;43m.\u001b[39;49m\u001b[43mget\u001b[49m\u001b[43m(\u001b[49m\u001b[43m)\u001b[49m\n",
      "File \u001b[1;32m~\\anaconda3\\envs\\ssml\\lib\\multiprocessing\\pool.py:768\u001b[0m, in \u001b[0;36mApplyResult.get\u001b[1;34m(self, timeout)\u001b[0m\n\u001b[0;32m    767\u001b[0m \u001b[38;5;28;01mdef\u001b[39;00m \u001b[38;5;21mget\u001b[39m(\u001b[38;5;28mself\u001b[39m, timeout\u001b[38;5;241m=\u001b[39m\u001b[38;5;28;01mNone\u001b[39;00m):\n\u001b[1;32m--> 768\u001b[0m     \u001b[38;5;28;43mself\u001b[39;49m\u001b[38;5;241;43m.\u001b[39;49m\u001b[43mwait\u001b[49m\u001b[43m(\u001b[49m\u001b[43mtimeout\u001b[49m\u001b[43m)\u001b[49m\n\u001b[0;32m    769\u001b[0m     \u001b[38;5;28;01mif\u001b[39;00m \u001b[38;5;129;01mnot\u001b[39;00m \u001b[38;5;28mself\u001b[39m\u001b[38;5;241m.\u001b[39mready():\n\u001b[0;32m    770\u001b[0m         \u001b[38;5;28;01mraise\u001b[39;00m \u001b[38;5;167;01mTimeoutError\u001b[39;00m\n",
      "File \u001b[1;32m~\\anaconda3\\envs\\ssml\\lib\\multiprocessing\\pool.py:765\u001b[0m, in \u001b[0;36mApplyResult.wait\u001b[1;34m(self, timeout)\u001b[0m\n\u001b[0;32m    764\u001b[0m \u001b[38;5;28;01mdef\u001b[39;00m \u001b[38;5;21mwait\u001b[39m(\u001b[38;5;28mself\u001b[39m, timeout\u001b[38;5;241m=\u001b[39m\u001b[38;5;28;01mNone\u001b[39;00m):\n\u001b[1;32m--> 765\u001b[0m     \u001b[38;5;28;43mself\u001b[39;49m\u001b[38;5;241;43m.\u001b[39;49m\u001b[43m_event\u001b[49m\u001b[38;5;241;43m.\u001b[39;49m\u001b[43mwait\u001b[49m\u001b[43m(\u001b[49m\u001b[43mtimeout\u001b[49m\u001b[43m)\u001b[49m\n",
      "File \u001b[1;32m~\\anaconda3\\envs\\ssml\\lib\\threading.py:607\u001b[0m, in \u001b[0;36mEvent.wait\u001b[1;34m(self, timeout)\u001b[0m\n\u001b[0;32m    605\u001b[0m signaled \u001b[38;5;241m=\u001b[39m \u001b[38;5;28mself\u001b[39m\u001b[38;5;241m.\u001b[39m_flag\n\u001b[0;32m    606\u001b[0m \u001b[38;5;28;01mif\u001b[39;00m \u001b[38;5;129;01mnot\u001b[39;00m signaled:\n\u001b[1;32m--> 607\u001b[0m     signaled \u001b[38;5;241m=\u001b[39m \u001b[38;5;28;43mself\u001b[39;49m\u001b[38;5;241;43m.\u001b[39;49m\u001b[43m_cond\u001b[49m\u001b[38;5;241;43m.\u001b[39;49m\u001b[43mwait\u001b[49m\u001b[43m(\u001b[49m\u001b[43mtimeout\u001b[49m\u001b[43m)\u001b[49m\n\u001b[0;32m    608\u001b[0m \u001b[38;5;28;01mreturn\u001b[39;00m signaled\n",
      "File \u001b[1;32m~\\anaconda3\\envs\\ssml\\lib\\threading.py:320\u001b[0m, in \u001b[0;36mCondition.wait\u001b[1;34m(self, timeout)\u001b[0m\n\u001b[0;32m    318\u001b[0m \u001b[38;5;28;01mtry\u001b[39;00m:    \u001b[38;5;66;03m# restore state no matter what (e.g., KeyboardInterrupt)\u001b[39;00m\n\u001b[0;32m    319\u001b[0m     \u001b[38;5;28;01mif\u001b[39;00m timeout \u001b[38;5;129;01mis\u001b[39;00m \u001b[38;5;28;01mNone\u001b[39;00m:\n\u001b[1;32m--> 320\u001b[0m         \u001b[43mwaiter\u001b[49m\u001b[38;5;241;43m.\u001b[39;49m\u001b[43macquire\u001b[49m\u001b[43m(\u001b[49m\u001b[43m)\u001b[49m\n\u001b[0;32m    321\u001b[0m         gotit \u001b[38;5;241m=\u001b[39m \u001b[38;5;28;01mTrue\u001b[39;00m\n\u001b[0;32m    322\u001b[0m     \u001b[38;5;28;01melse\u001b[39;00m:\n",
      "\u001b[1;31mKeyboardInterrupt\u001b[0m: "
     ]
    }
   ],
   "source": [
    "%%time\n",
    "#run MGWR in parrallel mode. Note: max_iter_multi needs to be specified\n",
    "if __name__ == '__main__':\n",
    "    mgwr_selector = Sel_BW(b_coords, b_y, b_X, multi=True)\n",
    "    mgwr_bw = mgwr_selector.search(pool=pool, max_iter_multi=5, criterion = \"AICc\") #add pool to Sel_BW.search\n",
    "    print(mgwr_bw)\n",
    "    mgwr_results = MGWR(b_coords, b_y, b_X, selector=mgwr_selector).fit(pool=pool)"
   ]
  },
  {
   "cell_type": "code",
   "execution_count": 13,
   "id": "c559cecf",
   "metadata": {
    "tags": []
   },
   "outputs": [
    {
     "name": "stdout",
     "output_type": "stream",
     "text": [
      "===========================================================================\n",
      "Model type                                                         Gaussian\n",
      "Number of observations:                                                1354\n",
      "Number of covariates:                                                     7\n",
      "\n",
      "Global Regression Results\n",
      "---------------------------------------------------------------------------\n",
      "Residual sum of squares:                                       54226586157784.898\n",
      "Log-likelihood:                                                  -18449.097\n",
      "AIC:                                                              36912.194\n",
      "AICc:                                                             36914.301\n",
      "BIC:                                                           54226586148071.930\n",
      "R2:                                                                   0.658\n",
      "Adj. R2:                                                              0.656\n",
      "\n",
      "Variable                              Est.         SE  t(Est/SE)    p-value\n",
      "------------------------------- ---------- ---------- ---------- ----------\n",
      "X0                               14024.475  25951.033      0.540      0.589\n",
      "X1                                 777.633   5865.902      0.133      0.895\n",
      "X2                                5260.178    152.668     34.455      0.000\n",
      "X3                                 132.412     43.388      3.052      0.002\n",
      "X4                                   9.392      1.822      5.154      0.000\n",
      "X5                                  -6.272      0.589    -10.652      0.000\n",
      "X6                                  -6.771      1.432     -4.728      0.000\n",
      "\n",
      "Multi-Scale Geographically Weighted Regression (MGWR) Results\n",
      "---------------------------------------------------------------------------\n",
      "Spatial kernel:                                           Adaptive bisquare\n",
      "Criterion for optimal bandwidth:                                       AICc\n",
      "Score of Change (SOC) type:                                     Smoothing f\n",
      "Termination criterion for MGWR:                                       1e-05\n",
      "\n",
      "MGWR bandwidths\n",
      "---------------------------------------------------------------------------\n",
      "Variable             Bandwidth      ENP_j   Adj t-val(95%)   Adj alpha(95%)\n",
      "X0                      44.000     30.230            3.153            0.002\n",
      "X1                      44.000     37.959            3.219            0.001\n",
      "X2                      46.000     37.344            3.214            0.001\n",
      "X3                      44.000     50.296            3.299            0.001\n",
      "X4                      46.000     29.830            3.149            0.002\n",
      "X5                      44.000     15.379            2.948            0.003\n",
      "X6                      44.000     29.478            3.145            0.002\n",
      "\n",
      "Diagnostic information\n",
      "---------------------------------------------------------------------------\n",
      "Residual sum of squares:                                       30185545536425.992\n",
      "Effective number of parameters (trace(S)):                          230.515\n",
      "Degree of freedom (n - trace(S)):                                  1123.485\n",
      "Sigma estimate:                                                  163913.930\n",
      "Log-likelihood:                                                  -18052.505\n",
      "AIC:                                                              36568.040\n",
      "AICc:                                                             36664.038\n",
      "BIC:                                                              37774.422\n",
      "R2                                                                    0.809\n",
      "Adjusted R2                                                           0.770\n",
      "\n",
      "Summary Statistics For MGWR Parameter Estimates\n",
      "---------------------------------------------------------------------------\n",
      "Variable                   Mean        STD        Min     Median        Max\n",
      "-------------------- ---------- ---------- ---------- ---------- ----------\n",
      "X0                   -218069.737 415635.778 -1271246.940 -117570.036 491872.410\n",
      "X1                    -9275.799  39857.206 -204402.579  -7287.813 220632.158\n",
      "X2                     5122.793   1753.104   1035.742   4892.673  12536.445\n",
      "X3                      898.202   3184.327  -1807.272    377.338  34805.640\n",
      "X4                       27.470     72.438    -99.615     24.660    505.018\n",
      "X5                       15.622     47.458   -216.411      5.447    160.934\n",
      "X6                      -22.786     68.579   -256.152    -12.350    140.983\n",
      "===========================================================================\n",
      "\n"
     ]
    },
    {
     "name": "stderr",
     "output_type": "stream",
     "text": [
      "/home/ec2-user/anaconda3/envs/python3/lib/python3.10/site-packages/spglm/family.py:111: RuntimeWarning: divide by zero encountered in true_divide\n",
      "  return 1. / (self.link.deriv(mu)**2 * self.variance(mu))\n"
     ]
    }
   ],
   "source": [
    "#show MGWR model summary\n",
    "mgwr_results.summary()"
   ]
  },
  {
   "cell_type": "code",
   "execution_count": 14,
   "id": "3c224fb8",
   "metadata": {},
   "outputs": [],
   "source": [
    "#recreate R format table\n",
    "df = gp.GeoDataFrame()\n",
    "df['Intercept'] = mgwr_results.params[:,0]\n",
    "df['room'] = mgwr_results.params[:,1]\n",
    "df['living_area'] = mgwr_results.params[:,2]\n",
    "df['house_age'] = mgwr_results.params[:,3]\n",
    "\n",
    "df['yhat'] = mgwr_results.predy\n",
    "df['residual'] = mgwr_results.y.reshape((-1,1)) - mgwr_results.predy\n",
    "\n",
    "df['intercept_SE'] = mgwr_results.bse[:,0]\n",
    "df['room_SE'] = mgwr_results.bse[:,1]\n",
    "df['living_area_SE'] = mgwr_results.bse[:,2]\n",
    "df['house_age_SE'] = mgwr_results.bse[:,3]\n",
    "\n",
    "df['intercept_TV'] = mgwr_results.tvalues[:,0]\n",
    "df['room_TV'] = mgwr_results.tvalues[:,1]\n",
    "df['living_area_TV'] = mgwr_results.tvalues[:,2]\n",
    "df['house_age_TV'] = mgwr_results.tvalues[:,3]\n",
    "\n",
    "df['geometry'] = funda_data['geometry']"
   ]
  },
  {
   "cell_type": "code",
   "execution_count": 15,
   "id": "68269e6f",
   "metadata": {},
   "outputs": [],
   "source": [
    "#show the GeoDataFrame and write it to a folder\n",
    "df.head()\n",
    "df.to_file('data/test/test_mgwr.gpkg')"
   ]
  },
  {
   "cell_type": "code",
   "execution_count": null,
   "id": "ee3e9569",
   "metadata": {},
   "outputs": [],
   "source": []
  }
 ],
 "metadata": {
  "kernelspec": {
   "display_name": "Python 3 (ipykernel)",
   "language": "python",
   "name": "python3"
  },
  "language_info": {
   "codemirror_mode": {
    "name": "ipython",
    "version": 3
   },
   "file_extension": ".py",
   "mimetype": "text/x-python",
   "name": "python",
   "nbconvert_exporter": "python",
   "pygments_lexer": "ipython3",
   "version": "3.10.9"
  }
 },
 "nbformat": 4,
 "nbformat_minor": 5
}
