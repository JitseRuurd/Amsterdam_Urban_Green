{
 "cells": [
  {
   "cell_type": "code",
   "execution_count": 1,
   "id": "ec5010d0",
   "metadata": {
    "tags": []
   },
   "outputs": [
    {
     "name": "stdout",
     "output_type": "stream",
     "text": [
      "Looking in indexes: https://pypi.org/simple, https://pip.repos.neuron.amazonaws.com\n",
      "Collecting geopandas\n",
      "  Downloading geopandas-0.12.2-py3-none-any.whl (1.1 MB)\n",
      "\u001b[2K     \u001b[90m━━━━━━━━━━━━━━━━━━━━━━━━━━━━━━━━━━━━━━━━\u001b[0m \u001b[32m1.1/1.1 MB\u001b[0m \u001b[31m19.1 MB/s\u001b[0m eta \u001b[36m0:00:00\u001b[0ma \u001b[36m0:00:01\u001b[0m\n",
      "\u001b[?25hCollecting shapely>=1.7\n",
      "  Downloading shapely-2.0.1-cp310-cp310-manylinux_2_17_x86_64.manylinux2014_x86_64.whl (2.3 MB)\n",
      "\u001b[2K     \u001b[90m━━━━━━━━━━━━━━━━━━━━━━━━━━━━━━━━━━━━━━━━\u001b[0m \u001b[32m2.3/2.3 MB\u001b[0m \u001b[31m23.1 MB/s\u001b[0m eta \u001b[36m0:00:00\u001b[0m00:01\u001b[0m00:01\u001b[0m\n",
      "\u001b[?25hCollecting pyproj>=2.6.1.post1\n",
      "  Downloading pyproj-3.4.1-cp310-cp310-manylinux_2_17_x86_64.manylinux2014_x86_64.whl (7.7 MB)\n",
      "\u001b[2K     \u001b[90m━━━━━━━━━━━━━━━━━━━━━━━━━━━━━━━━━━━━━━━━\u001b[0m \u001b[32m7.7/7.7 MB\u001b[0m \u001b[31m31.1 MB/s\u001b[0m eta \u001b[36m0:00:00\u001b[0m:00:01\u001b[0m00:01\u001b[0m\n",
      "\u001b[?25hRequirement already satisfied: pandas>=1.0.0 in /home/ec2-user/anaconda3/envs/python3/lib/python3.10/site-packages (from geopandas) (1.5.2)\n",
      "Requirement already satisfied: packaging in /home/ec2-user/anaconda3/envs/python3/lib/python3.10/site-packages (from geopandas) (21.3)\n",
      "Collecting fiona>=1.8\n",
      "  Downloading Fiona-1.9.2-cp310-cp310-manylinux_2_17_x86_64.manylinux2014_x86_64.whl (16.0 MB)\n",
      "\u001b[2K     \u001b[90m━━━━━━━━━━━━━━━━━━━━━━━━━━━━━━━━━━━━━━━━\u001b[0m \u001b[32m16.0/16.0 MB\u001b[0m \u001b[31m33.1 MB/s\u001b[0m eta \u001b[36m0:00:00\u001b[0m00:01\u001b[0m00:01\u001b[0m\n",
      "\u001b[?25hRequirement already satisfied: attrs>=19.2.0 in /home/ec2-user/anaconda3/envs/python3/lib/python3.10/site-packages (from fiona>=1.8->geopandas) (22.2.0)\n",
      "Collecting munch>=2.3.2\n",
      "  Downloading munch-2.5.0-py2.py3-none-any.whl (10 kB)\n",
      "Requirement already satisfied: click~=8.0 in /home/ec2-user/anaconda3/envs/python3/lib/python3.10/site-packages (from fiona>=1.8->geopandas) (8.1.3)\n",
      "Requirement already satisfied: certifi in /home/ec2-user/anaconda3/envs/python3/lib/python3.10/site-packages (from fiona>=1.8->geopandas) (2022.12.7)\n",
      "Collecting click-plugins>=1.0\n",
      "  Downloading click_plugins-1.1.1-py2.py3-none-any.whl (7.5 kB)\n",
      "Collecting cligj>=0.5\n",
      "  Downloading cligj-0.7.2-py3-none-any.whl (7.1 kB)\n",
      "Requirement already satisfied: python-dateutil>=2.8.1 in /home/ec2-user/anaconda3/envs/python3/lib/python3.10/site-packages (from pandas>=1.0.0->geopandas) (2.8.2)\n",
      "Requirement already satisfied: pytz>=2020.1 in /home/ec2-user/anaconda3/envs/python3/lib/python3.10/site-packages (from pandas>=1.0.0->geopandas) (2022.7)\n",
      "Requirement already satisfied: numpy>=1.21.0 in /home/ec2-user/anaconda3/envs/python3/lib/python3.10/site-packages (from pandas>=1.0.0->geopandas) (1.22.3)\n",
      "Requirement already satisfied: pyparsing!=3.0.5,>=2.0.2 in /home/ec2-user/anaconda3/envs/python3/lib/python3.10/site-packages (from packaging->geopandas) (3.0.9)\n",
      "Requirement already satisfied: six in /home/ec2-user/anaconda3/envs/python3/lib/python3.10/site-packages (from munch>=2.3.2->fiona>=1.8->geopandas) (1.16.0)\n",
      "Installing collected packages: shapely, pyproj, munch, cligj, click-plugins, fiona, geopandas\n",
      "Successfully installed click-plugins-1.1.1 cligj-0.7.2 fiona-1.9.2 geopandas-0.12.2 munch-2.5.0 pyproj-3.4.1 shapely-2.0.1\n",
      "Looking in indexes: https://pypi.org/simple, https://pip.repos.neuron.amazonaws.com\n",
      "Collecting mgwr\n",
      "  Downloading mgwr-2.1.2.tar.gz (41 kB)\n",
      "\u001b[2K     \u001b[90m━━━━━━━━━━━━━━━━━━━━━━━━━━━━━━━━━━━━━━━━\u001b[0m \u001b[32m41.8/41.8 kB\u001b[0m \u001b[31m3.7 MB/s\u001b[0m eta \u001b[36m0:00:00\u001b[0m\n",
      "\u001b[?25h  Preparing metadata (setup.py) ... \u001b[?25ldone\n",
      "\u001b[?25hRequirement already satisfied: scipy>=0.11 in /home/ec2-user/anaconda3/envs/python3/lib/python3.10/site-packages (from mgwr) (1.10.0)\n",
      "Requirement already satisfied: numpy>=1.3 in /home/ec2-user/anaconda3/envs/python3/lib/python3.10/site-packages (from mgwr) (1.22.3)\n",
      "Collecting libpysal>=4.0.0\n",
      "  Downloading libpysal-4.7.0-py3-none-any.whl (2.4 MB)\n",
      "\u001b[2K     \u001b[90m━━━━━━━━━━━━━━━━━━━━━━━━━━━━━━━━━━━━━━━━\u001b[0m \u001b[32m2.4/2.4 MB\u001b[0m \u001b[31m19.2 MB/s\u001b[0m eta \u001b[36m0:00:00\u001b[0m00:01\u001b[0m00:01\u001b[0m\n",
      "\u001b[?25hCollecting spglm>=1.0.6\n",
      "  Downloading spglm-1.0.8.tar.gz (37 kB)\n",
      "  Preparing metadata (setup.py) ... \u001b[?25ldone\n",
      "\u001b[?25hCollecting spreg\n",
      "  Downloading spreg-1.3.0-py3-none-any.whl (220 kB)\n",
      "\u001b[2K     \u001b[90m━━━━━━━━━━━━━━━━━━━━━━━━━━━━━━━━━━━━━━\u001b[0m \u001b[32m220.1/220.1 kB\u001b[0m \u001b[31m47.8 MB/s\u001b[0m eta \u001b[36m0:00:00\u001b[0m\n",
      "\u001b[?25hRequirement already satisfied: beautifulsoup4 in /home/ec2-user/anaconda3/envs/python3/lib/python3.10/site-packages (from libpysal>=4.0.0->mgwr) (4.11.1)\n",
      "Requirement already satisfied: requests in /home/ec2-user/anaconda3/envs/python3/lib/python3.10/site-packages (from libpysal>=4.0.0->mgwr) (2.28.1)\n",
      "Requirement already satisfied: platformdirs in /home/ec2-user/anaconda3/envs/python3/lib/python3.10/site-packages (from libpysal>=4.0.0->mgwr) (2.6.2)\n",
      "Requirement already satisfied: jinja2 in /home/ec2-user/anaconda3/envs/python3/lib/python3.10/site-packages (from libpysal>=4.0.0->mgwr) (3.1.2)\n",
      "Requirement already satisfied: pandas in /home/ec2-user/anaconda3/envs/python3/lib/python3.10/site-packages (from libpysal>=4.0.0->mgwr) (1.5.2)\n",
      "Requirement already satisfied: packaging in /home/ec2-user/anaconda3/envs/python3/lib/python3.10/site-packages (from libpysal>=4.0.0->mgwr) (21.3)\n",
      "Requirement already satisfied: scikit-learn>=0.22 in /home/ec2-user/anaconda3/envs/python3/lib/python3.10/site-packages (from spreg->mgwr) (1.2.0)\n",
      "Requirement already satisfied: threadpoolctl>=2.0.0 in /home/ec2-user/anaconda3/envs/python3/lib/python3.10/site-packages (from scikit-learn>=0.22->spreg->mgwr) (3.1.0)\n",
      "Requirement already satisfied: joblib>=1.1.1 in /home/ec2-user/anaconda3/envs/python3/lib/python3.10/site-packages (from scikit-learn>=0.22->spreg->mgwr) (1.2.0)\n",
      "Requirement already satisfied: soupsieve>1.2 in /home/ec2-user/anaconda3/envs/python3/lib/python3.10/site-packages (from beautifulsoup4->libpysal>=4.0.0->mgwr) (2.3.2.post1)\n",
      "Requirement already satisfied: MarkupSafe>=2.0 in /home/ec2-user/anaconda3/envs/python3/lib/python3.10/site-packages (from jinja2->libpysal>=4.0.0->mgwr) (2.1.1)\n",
      "Requirement already satisfied: pyparsing!=3.0.5,>=2.0.2 in /home/ec2-user/anaconda3/envs/python3/lib/python3.10/site-packages (from packaging->libpysal>=4.0.0->mgwr) (3.0.9)\n",
      "Requirement already satisfied: python-dateutil>=2.8.1 in /home/ec2-user/anaconda3/envs/python3/lib/python3.10/site-packages (from pandas->libpysal>=4.0.0->mgwr) (2.8.2)\n",
      "Requirement already satisfied: pytz>=2020.1 in /home/ec2-user/anaconda3/envs/python3/lib/python3.10/site-packages (from pandas->libpysal>=4.0.0->mgwr) (2022.7)\n",
      "Requirement already satisfied: urllib3<1.27,>=1.21.1 in /home/ec2-user/anaconda3/envs/python3/lib/python3.10/site-packages (from requests->libpysal>=4.0.0->mgwr) (1.26.8)\n",
      "Requirement already satisfied: charset-normalizer<3,>=2 in /home/ec2-user/anaconda3/envs/python3/lib/python3.10/site-packages (from requests->libpysal>=4.0.0->mgwr) (2.1.1)\n",
      "Requirement already satisfied: idna<4,>=2.5 in /home/ec2-user/anaconda3/envs/python3/lib/python3.10/site-packages (from requests->libpysal>=4.0.0->mgwr) (3.4)\n",
      "Requirement already satisfied: certifi>=2017.4.17 in /home/ec2-user/anaconda3/envs/python3/lib/python3.10/site-packages (from requests->libpysal>=4.0.0->mgwr) (2022.12.7)\n",
      "Requirement already satisfied: six>=1.5 in /home/ec2-user/anaconda3/envs/python3/lib/python3.10/site-packages (from python-dateutil>=2.8.1->pandas->libpysal>=4.0.0->mgwr) (1.16.0)\n",
      "Building wheels for collected packages: mgwr, spglm\n",
      "  Building wheel for mgwr (setup.py) ... \u001b[?25ldone\n",
      "\u001b[?25h  Created wheel for mgwr: filename=mgwr-2.1.2-py3-none-any.whl size=46367 sha256=f098fb6dd931c729e8aabc3d1e7a26e7eebb7071d22e90aed2aa9e984d2292bf\n",
      "  Stored in directory: /home/ec2-user/.cache/pip/wheels/db/33/5a/ad99445664ba9f64630503a91629a1ea689cc2abe0c712808d\n",
      "  Building wheel for spglm (setup.py) ... \u001b[?25ldone\n",
      "\u001b[?25h  Created wheel for spglm: filename=spglm-1.0.8-py3-none-any.whl size=38785 sha256=31fd55343472ef3ddde4f8b817ec6284cd6d7910f760a3020ea153a9d29e0275\n",
      "  Stored in directory: /home/ec2-user/.cache/pip/wheels/eb/58/a7/a2e9d87749b79100ff9f0d10521f881ca927f9277427d9034a\n",
      "Successfully built mgwr spglm\n",
      "Installing collected packages: libpysal, spreg, spglm, mgwr\n",
      "Successfully installed libpysal-4.7.0 mgwr-2.1.2 spglm-1.0.8 spreg-1.3.0\n"
     ]
    }
   ],
   "source": [
    "!pip install geopandas\n",
    "!pip install mgwr\n"
   ]
  },
  {
   "cell_type": "code",
   "execution_count": 2,
   "id": "6cf83172-2571-49e7-8779-1c0714fa7991",
   "metadata": {
    "tags": []
   },
   "outputs": [],
   "source": [
    "import numpy as np\n",
    "import os\n",
    "import multiprocessing\n",
    "os.environ['USE_PYGEOS'] = '0'\n",
    "import geopandas as gp\n",
    "import multiprocessing as mp\n",
    "from mgwr.gwr import GWR,MGWR\n",
    "from mgwr.sel_bw import Sel_BW"
   ]
  },
  {
   "cell_type": "code",
   "execution_count": 3,
   "id": "fd9ad555",
   "metadata": {
    "tags": []
   },
   "outputs": [],
   "source": [
    "#Load the funda data\n",
    "funda_data = gp.read_file(\"Yúri/data/test_sample_distances(100p).gpkg\")"
   ]
  },
  {
   "cell_type": "code",
   "execution_count": 4,
   "id": "b8e57597",
   "metadata": {
    "tags": []
   },
   "outputs": [
    {
     "data": {
      "text/html": [
       "<div>\n",
       "<style scoped>\n",
       "    .dataframe tbody tr th:only-of-type {\n",
       "        vertical-align: middle;\n",
       "    }\n",
       "\n",
       "    .dataframe tbody tr th {\n",
       "        vertical-align: top;\n",
       "    }\n",
       "\n",
       "    .dataframe thead th {\n",
       "        text-align: right;\n",
       "    }\n",
       "</style>\n",
       "<table border=\"1\" class=\"dataframe\">\n",
       "  <thead>\n",
       "    <tr style=\"text-align: right;\">\n",
       "      <th></th>\n",
       "      <th>...1</th>\n",
       "      <th>house_id</th>\n",
       "      <th>house_type</th>\n",
       "      <th>building_type</th>\n",
       "      <th>price</th>\n",
       "      <th>price_m2</th>\n",
       "      <th>room</th>\n",
       "      <th>bedroom</th>\n",
       "      <th>bathroom</th>\n",
       "      <th>living_area</th>\n",
       "      <th>...</th>\n",
       "      <th>zip</th>\n",
       "      <th>letters</th>\n",
       "      <th>city</th>\n",
       "      <th>addressline_city</th>\n",
       "      <th>addressline_zip</th>\n",
       "      <th>addresszip</th>\n",
       "      <th>bus_dist</th>\n",
       "      <th>subway_dist</th>\n",
       "      <th>train_dist</th>\n",
       "      <th>geometry</th>\n",
       "    </tr>\n",
       "  </thead>\n",
       "  <tbody>\n",
       "    <tr>\n",
       "      <th>0</th>\n",
       "      <td>0.0</td>\n",
       "      <td>42037381.0</td>\n",
       "      <td>huis</td>\n",
       "      <td>Resale property</td>\n",
       "      <td>495000.0</td>\n",
       "      <td>3960.0</td>\n",
       "      <td>4.0</td>\n",
       "      <td>3.0</td>\n",
       "      <td>1.0</td>\n",
       "      <td>125.0</td>\n",
       "      <td>...</td>\n",
       "      <td>1944</td>\n",
       "      <td>KL</td>\n",
       "      <td>Beverwijk\\r\\n</td>\n",
       "      <td>Beverwijk\\r\\n</td>\n",
       "      <td>1944 KL</td>\n",
       "      <td>Wildemanskruid 37, 1944 KL, Beverwijk\\r\\n</td>\n",
       "      <td>2639.789919</td>\n",
       "      <td>21520.120442</td>\n",
       "      <td>2015.869019</td>\n",
       "      <td>POINT (104832.002 501219.996)</td>\n",
       "    </tr>\n",
       "    <tr>\n",
       "      <th>1</th>\n",
       "      <td>1.0</td>\n",
       "      <td>42032180.0</td>\n",
       "      <td>huis</td>\n",
       "      <td>Resale property</td>\n",
       "      <td>450000.0</td>\n",
       "      <td>3982.3</td>\n",
       "      <td>5.0</td>\n",
       "      <td>4.0</td>\n",
       "      <td>1.0</td>\n",
       "      <td>113.0</td>\n",
       "      <td>...</td>\n",
       "      <td>2133</td>\n",
       "      <td>CD</td>\n",
       "      <td>Hoofddorp\\r\\n</td>\n",
       "      <td>Hoofddorp\\r\\n</td>\n",
       "      <td>2133 CD</td>\n",
       "      <td>Birkholm 185, 2133 CD, Hoofddorp\\r\\n</td>\n",
       "      <td>2261.087447</td>\n",
       "      <td>15526.558113</td>\n",
       "      <td>5372.999947</td>\n",
       "      <td>POINT (106101.113 480140.256)</td>\n",
       "    </tr>\n",
       "    <tr>\n",
       "      <th>2</th>\n",
       "      <td>2.0</td>\n",
       "      <td>88477708.0</td>\n",
       "      <td>huis</td>\n",
       "      <td>Resale property</td>\n",
       "      <td>749000.0</td>\n",
       "      <td>5761.5</td>\n",
       "      <td>4.0</td>\n",
       "      <td>3.0</td>\n",
       "      <td>1.0</td>\n",
       "      <td>130.0</td>\n",
       "      <td>...</td>\n",
       "      <td>1606</td>\n",
       "      <td>ME</td>\n",
       "      <td>Venhuizen\\r\\n</td>\n",
       "      <td>Venhuizen\\r\\n</td>\n",
       "      <td>1606 ME</td>\n",
       "      <td>Zuiderdijk 3, 1606 ME, Venhuizen\\r\\n</td>\n",
       "      <td>3842.606582</td>\n",
       "      <td>37268.173853</td>\n",
       "      <td>4251.110518</td>\n",
       "      <td>POINT (145231.999 521329.999)</td>\n",
       "    </tr>\n",
       "    <tr>\n",
       "      <th>3</th>\n",
       "      <td>3.0</td>\n",
       "      <td>42037325.0</td>\n",
       "      <td>huis</td>\n",
       "      <td>Resale property</td>\n",
       "      <td>550000.0</td>\n",
       "      <td>4198.5</td>\n",
       "      <td>5.0</td>\n",
       "      <td>4.0</td>\n",
       "      <td>1.0</td>\n",
       "      <td>131.0</td>\n",
       "      <td>...</td>\n",
       "      <td>1216</td>\n",
       "      <td>HP</td>\n",
       "      <td>Hilversum\\r\\n</td>\n",
       "      <td>Hilversum\\r\\n</td>\n",
       "      <td>1216 HP</td>\n",
       "      <td>Gomarushof 112, 1216 HP, Hilversum\\r\\n</td>\n",
       "      <td>2977.139577</td>\n",
       "      <td>17977.129564</td>\n",
       "      <td>6912.008049</td>\n",
       "      <td>POINT (137976.519 470153.606)</td>\n",
       "    </tr>\n",
       "    <tr>\n",
       "      <th>4</th>\n",
       "      <td>4.0</td>\n",
       "      <td>42017210.0</td>\n",
       "      <td>huis</td>\n",
       "      <td>Resale property</td>\n",
       "      <td>440000.0</td>\n",
       "      <td>3728.8</td>\n",
       "      <td>5.0</td>\n",
       "      <td>4.0</td>\n",
       "      <td>1.0</td>\n",
       "      <td>118.0</td>\n",
       "      <td>...</td>\n",
       "      <td>2151</td>\n",
       "      <td>HH</td>\n",
       "      <td>Nieuw-Vennep\\r\\n</td>\n",
       "      <td>Nieuw-Vennep\\r\\n</td>\n",
       "      <td>2151 HH</td>\n",
       "      <td>Swaenstein 24, 2151 HH, Nieuw-Vennep\\r\\n</td>\n",
       "      <td>6678.970647</td>\n",
       "      <td>20607.041198</td>\n",
       "      <td>6142.349266</td>\n",
       "      <td>POINT (102036.839 476175.131)</td>\n",
       "    </tr>\n",
       "  </tbody>\n",
       "</table>\n",
       "<p>5 rows × 30 columns</p>\n",
       "</div>"
      ],
      "text/plain": [
       "   ...1    house_id house_type    building_type     price  price_m2  room  \\\n",
       "0   0.0  42037381.0       huis  Resale property  495000.0    3960.0   4.0   \n",
       "1   1.0  42032180.0       huis  Resale property  450000.0    3982.3   5.0   \n",
       "2   2.0  88477708.0       huis  Resale property  749000.0    5761.5   4.0   \n",
       "3   3.0  42037325.0       huis  Resale property  550000.0    4198.5   5.0   \n",
       "4   4.0  42017210.0       huis  Resale property  440000.0    3728.8   5.0   \n",
       "\n",
       "   bedroom  bathroom  living_area  ...   zip letters              city  \\\n",
       "0      3.0       1.0        125.0  ...  1944      KL     Beverwijk\\r\\n   \n",
       "1      4.0       1.0        113.0  ...  2133      CD     Hoofddorp\\r\\n   \n",
       "2      3.0       1.0        130.0  ...  1606      ME     Venhuizen\\r\\n   \n",
       "3      4.0       1.0        131.0  ...  1216      HP     Hilversum\\r\\n   \n",
       "4      4.0       1.0        118.0  ...  2151      HH  Nieuw-Vennep\\r\\n   \n",
       "\n",
       "       addressline_city  addressline_zip  \\\n",
       "0     Beverwijk\\r\\n              1944 KL   \n",
       "1     Hoofddorp\\r\\n              2133 CD   \n",
       "2     Venhuizen\\r\\n              1606 ME   \n",
       "3     Hilversum\\r\\n              1216 HP   \n",
       "4  Nieuw-Vennep\\r\\n              2151 HH   \n",
       "\n",
       "                                  addresszip     bus_dist   subway_dist  \\\n",
       "0  Wildemanskruid 37, 1944 KL, Beverwijk\\r\\n  2639.789919  21520.120442   \n",
       "1       Birkholm 185, 2133 CD, Hoofddorp\\r\\n  2261.087447  15526.558113   \n",
       "2       Zuiderdijk 3, 1606 ME, Venhuizen\\r\\n  3842.606582  37268.173853   \n",
       "3     Gomarushof 112, 1216 HP, Hilversum\\r\\n  2977.139577  17977.129564   \n",
       "4   Swaenstein 24, 2151 HH, Nieuw-Vennep\\r\\n  6678.970647  20607.041198   \n",
       "\n",
       "    train_dist                       geometry  \n",
       "0  2015.869019  POINT (104832.002 501219.996)  \n",
       "1  5372.999947  POINT (106101.113 480140.256)  \n",
       "2  4251.110518  POINT (145231.999 521329.999)  \n",
       "3  6912.008049  POINT (137976.519 470153.606)  \n",
       "4  6142.349266  POINT (102036.839 476175.131)  \n",
       "\n",
       "[5 rows x 30 columns]"
      ]
     },
     "execution_count": 4,
     "metadata": {},
     "output_type": "execute_result"
    }
   ],
   "source": [
    "#show funda data\n",
    "funda_data.head()"
   ]
  },
  {
   "cell_type": "code",
   "execution_count": 5,
   "id": "57602051",
   "metadata": {
    "tags": []
   },
   "outputs": [],
   "source": [
    "#create array with the dependent variable\n",
    "b_y = funda_data['price'].values.reshape((-1,1))"
   ]
  },
  {
   "cell_type": "code",
   "execution_count": 6,
   "id": "f71b862e",
   "metadata": {
    "tags": []
   },
   "outputs": [],
   "source": [
    "#create an array with the indepentend variables (order matters for the extraction of params later)\n",
    "b_X = funda_data[['room','living_area','house_age', 'bus_dist', 'subway_dist', 'train_dist']].values "
   ]
  },
  {
   "cell_type": "code",
   "execution_count": 7,
   "id": "8679d9dc",
   "metadata": {
    "tags": []
   },
   "outputs": [],
   "source": [
    "#create coordinate tuple for the model\n",
    "u = funda_data['geometry'].x\n",
    "v = funda_data['geometry'].y\n",
    "b_coords = list(zip(u, v))"
   ]
  },
  {
   "cell_type": "code",
   "execution_count": 8,
   "id": "1d1a8646",
   "metadata": {
    "tags": []
   },
   "outputs": [
    {
     "data": {
      "text/plain": [
       "4"
      ]
     },
     "execution_count": 8,
     "metadata": {},
     "output_type": "execute_result"
    }
   ],
   "source": [
    "multiprocessing.cpu_count()"
   ]
  },
  {
   "cell_type": "code",
   "execution_count": 9,
   "id": "fb016831",
   "metadata": {
    "tags": []
   },
   "outputs": [
    {
     "name": "stderr",
     "output_type": "stream",
     "text": [
      "/home/ec2-user/anaconda3/envs/python3/lib/python3.10/site-packages/mgwr/gwr.py:1548: RuntimeWarning: invalid value encountered in true_divide\n",
      "  CCT[:, j] += ((pR[:, :, j] / self.X[:, j].reshape(-1, 1))**2).sum(\n",
      "/home/ec2-user/anaconda3/envs/python3/lib/python3.10/site-packages/mgwr/gwr.py:1548: RuntimeWarning: invalid value encountered in true_divide\n",
      "  CCT[:, j] += ((pR[:, :, j] / self.X[:, j].reshape(-1, 1))**2).sum(\n",
      "/home/ec2-user/anaconda3/envs/python3/lib/python3.10/site-packages/mgwr/gwr.py:1548: RuntimeWarning: invalid value encountered in true_divide\n",
      "  CCT[:, j] += ((pR[:, :, j] / self.X[:, j].reshape(-1, 1))**2).sum(\n",
      "/home/ec2-user/anaconda3/envs/python3/lib/python3.10/site-packages/mgwr/gwr.py:1548: RuntimeWarning: invalid value encountered in true_divide\n",
      "  CCT[:, j] += ((pR[:, :, j] / self.X[:, j].reshape(-1, 1))**2).sum(\n"
     ]
    }
   ],
   "source": [
    "#Parrallelization is more favored when you your data are large and/or your machine have many many cores.\n",
    "#mgwr has soft dependency of numba, please install numba if you need better performance (pip install numba).\n",
    "n_proc = 4 #two processors\n",
    "pool = mp.Pool(n_proc) "
   ]
  },
  {
   "cell_type": "code",
   "execution_count": 10,
   "id": "28a7c138",
   "metadata": {
    "tags": []
   },
   "outputs": [
    {
     "name": "stdout",
     "output_type": "stream",
     "text": [
      "84.0\n",
      "CPU times: user 11.7 s, sys: 222 ms, total: 11.9 s\n",
      "Wall time: 11.3 s\n"
     ]
    }
   ],
   "source": [
    "%%time\n",
    "#Run basic GWR in parrallel mode\n",
    "gwr_selector = Sel_BW(b_coords, b_y, b_X)\n",
    "gwr_bw = gwr_selector.search() #add pool to Sel_BW.search\n",
    "print(gwr_bw)\n",
    "gwr_results = GWR(b_coords, b_y, b_X, gwr_bw).fit()"
   ]
  },
  {
   "cell_type": "code",
   "execution_count": 11,
   "id": "21ee9361",
   "metadata": {
    "tags": []
   },
   "outputs": [
    {
     "name": "stderr",
     "output_type": "stream",
     "text": [
      "/home/ec2-user/anaconda3/envs/python3/lib/python3.10/site-packages/spglm/family.py:111: RuntimeWarning: divide by zero encountered in true_divide\n",
      "  return 1. / (self.link.deriv(mu)**2 * self.variance(mu))\n"
     ]
    },
    {
     "name": "stdout",
     "output_type": "stream",
     "text": [
      "===========================================================================\n",
      "Model type                                                         Gaussian\n",
      "Number of observations:                                                1354\n",
      "Number of covariates:                                                     7\n",
      "\n",
      "Global Regression Results\n",
      "---------------------------------------------------------------------------\n",
      "Residual sum of squares:                                       54226586157784.898\n",
      "Log-likelihood:                                                  -18449.097\n",
      "AIC:                                                              36912.194\n",
      "AICc:                                                             36914.301\n",
      "BIC:                                                           54226586148071.930\n",
      "R2:                                                                   0.658\n",
      "Adj. R2:                                                              0.656\n",
      "\n",
      "Variable                              Est.         SE  t(Est/SE)    p-value\n",
      "------------------------------- ---------- ---------- ---------- ----------\n",
      "X0                               14024.475  25951.033      0.540      0.589\n",
      "X1                                 777.633   5865.902      0.133      0.895\n",
      "X2                                5260.178    152.668     34.455      0.000\n",
      "X3                                 132.412     43.388      3.052      0.002\n",
      "X4                                   9.392      1.822      5.154      0.000\n",
      "X5                                  -6.272      0.589    -10.652      0.000\n",
      "X6                                  -6.771      1.432     -4.728      0.000\n",
      "\n",
      "Geographically Weighted Regression (GWR) Results\n",
      "---------------------------------------------------------------------------\n",
      "Spatial kernel:                                           Adaptive bisquare\n",
      "Bandwidth used:                                                      84.000\n",
      "\n",
      "Diagnostic information\n",
      "---------------------------------------------------------------------------\n",
      "Residual sum of squares:                                       19632075741773.289\n",
      "Effective number of parameters (trace(S)):                          207.204\n",
      "Degree of freedom (n - trace(S)):                                  1146.796\n",
      "Sigma estimate:                                                  130839.825\n",
      "Log-likelihood:                                                  -17761.261\n",
      "AIC:                                                              35938.928\n",
      "AICc:                                                             36015.024\n",
      "BIC:                                                              37023.840\n",
      "R2:                                                                   0.876\n",
      "Adjusted R2:                                                          0.854\n",
      "Adj. alpha (95%):                                                     0.002\n",
      "Adj. critical t value (95%):                                          3.146\n",
      "\n",
      "Summary Statistics For GWR Parameter Estimates\n",
      "---------------------------------------------------------------------------\n",
      "Variable                   Mean        STD        Min     Median        Max\n",
      "-------------------- ---------- ---------- ---------- ---------- ----------\n",
      "X0                   -129667.826 753848.299 -4259435.664 -34045.922 4399840.362\n",
      "X1                   -12749.028  26585.647 -90641.090 -16077.285  76322.863\n",
      "X2                     5079.249   1583.344   1712.961   4979.457   9317.417\n",
      "X3                      521.259   1083.148  -1838.118    148.301   5253.316\n",
      "X4                       13.137     67.376   -344.327     12.932    462.622\n",
      "X5                      -57.251    888.100 -17216.267      0.071    325.959\n",
      "X6                       57.009    887.259   -381.898     -2.870  17176.302\n",
      "===========================================================================\n",
      "\n"
     ]
    }
   ],
   "source": [
    "#show summary\n",
    "gwr_results.summary()"
   ]
  },
  {
   "cell_type": "code",
   "execution_count": 12,
   "id": "196984a0",
   "metadata": {
    "tags": []
   },
   "outputs": [
    {
     "data": {
      "application/vnd.jupyter.widget-view+json": {
       "model_id": "eada9b6da7a547f6bd8796bb41f58734",
       "version_major": 2,
       "version_minor": 0
      },
      "text/plain": [
       "Backfitting:   0%|          | 0/10 [00:00<?, ?it/s]"
      ]
     },
     "metadata": {},
     "output_type": "display_data"
    },
    {
     "name": "stdout",
     "output_type": "stream",
     "text": [
      "[44. 44. 46. 44. 46. 44. 44.]\n"
     ]
    },
    {
     "data": {
      "application/vnd.jupyter.widget-view+json": {
       "model_id": "3dbd603ecb554a309f6d24153597b98d",
       "version_major": 2,
       "version_minor": 0
      },
      "text/plain": [
       "Inference:   0%|          | 0/4 [00:00<?, ?it/s]"
      ]
     },
     "metadata": {},
     "output_type": "display_data"
    },
    {
     "name": "stdout",
     "output_type": "stream",
     "text": [
      "CPU times: user 51.5 s, sys: 5.11 s, total: 56.7 s\n",
      "Wall time: 4min 34s\n"
     ]
    }
   ],
   "source": [
    "%%time\n",
    "#run MGWR in parrallel mode. Note: max_iter_multi needs to be specified\n",
    "mgwr_selector = Sel_BW(b_coords, b_y, b_X, multi=True)\n",
    "mgwr_bw = mgwr_selector.search(pool=pool, max_iter_multi=10, criterion = \"AICc\") #add pool to Sel_BW.search\n",
    "print(mgwr_bw)\n",
    "mgwr_results = MGWR(b_coords, b_y, b_X, selector=mgwr_selector).fit(pool=pool)"
   ]
  },
  {
   "cell_type": "code",
   "execution_count": 13,
   "id": "c559cecf",
   "metadata": {
    "tags": []
   },
   "outputs": [
    {
     "name": "stdout",
     "output_type": "stream",
     "text": [
      "===========================================================================\n",
      "Model type                                                         Gaussian\n",
      "Number of observations:                                                1354\n",
      "Number of covariates:                                                     7\n",
      "\n",
      "Global Regression Results\n",
      "---------------------------------------------------------------------------\n",
      "Residual sum of squares:                                       54226586157784.898\n",
      "Log-likelihood:                                                  -18449.097\n",
      "AIC:                                                              36912.194\n",
      "AICc:                                                             36914.301\n",
      "BIC:                                                           54226586148071.930\n",
      "R2:                                                                   0.658\n",
      "Adj. R2:                                                              0.656\n",
      "\n",
      "Variable                              Est.         SE  t(Est/SE)    p-value\n",
      "------------------------------- ---------- ---------- ---------- ----------\n",
      "X0                               14024.475  25951.033      0.540      0.589\n",
      "X1                                 777.633   5865.902      0.133      0.895\n",
      "X2                                5260.178    152.668     34.455      0.000\n",
      "X3                                 132.412     43.388      3.052      0.002\n",
      "X4                                   9.392      1.822      5.154      0.000\n",
      "X5                                  -6.272      0.589    -10.652      0.000\n",
      "X6                                  -6.771      1.432     -4.728      0.000\n",
      "\n",
      "Multi-Scale Geographically Weighted Regression (MGWR) Results\n",
      "---------------------------------------------------------------------------\n",
      "Spatial kernel:                                           Adaptive bisquare\n",
      "Criterion for optimal bandwidth:                                       AICc\n",
      "Score of Change (SOC) type:                                     Smoothing f\n",
      "Termination criterion for MGWR:                                       1e-05\n",
      "\n",
      "MGWR bandwidths\n",
      "---------------------------------------------------------------------------\n",
      "Variable             Bandwidth      ENP_j   Adj t-val(95%)   Adj alpha(95%)\n",
      "X0                      44.000     30.230            3.153            0.002\n",
      "X1                      44.000     37.959            3.219            0.001\n",
      "X2                      46.000     37.344            3.214            0.001\n",
      "X3                      44.000     50.296            3.299            0.001\n",
      "X4                      46.000     29.830            3.149            0.002\n",
      "X5                      44.000     15.379            2.948            0.003\n",
      "X6                      44.000     29.478            3.145            0.002\n",
      "\n",
      "Diagnostic information\n",
      "---------------------------------------------------------------------------\n",
      "Residual sum of squares:                                       30185545536425.992\n",
      "Effective number of parameters (trace(S)):                          230.515\n",
      "Degree of freedom (n - trace(S)):                                  1123.485\n",
      "Sigma estimate:                                                  163913.930\n",
      "Log-likelihood:                                                  -18052.505\n",
      "AIC:                                                              36568.040\n",
      "AICc:                                                             36664.038\n",
      "BIC:                                                              37774.422\n",
      "R2                                                                    0.809\n",
      "Adjusted R2                                                           0.770\n",
      "\n",
      "Summary Statistics For MGWR Parameter Estimates\n",
      "---------------------------------------------------------------------------\n",
      "Variable                   Mean        STD        Min     Median        Max\n",
      "-------------------- ---------- ---------- ---------- ---------- ----------\n",
      "X0                   -218069.737 415635.778 -1271246.940 -117570.036 491872.410\n",
      "X1                    -9275.799  39857.206 -204402.579  -7287.813 220632.158\n",
      "X2                     5122.793   1753.104   1035.742   4892.673  12536.445\n",
      "X3                      898.202   3184.327  -1807.272    377.338  34805.640\n",
      "X4                       27.470     72.438    -99.615     24.660    505.018\n",
      "X5                       15.622     47.458   -216.411      5.447    160.934\n",
      "X6                      -22.786     68.579   -256.152    -12.350    140.983\n",
      "===========================================================================\n",
      "\n"
     ]
    },
    {
     "name": "stderr",
     "output_type": "stream",
     "text": [
      "/home/ec2-user/anaconda3/envs/python3/lib/python3.10/site-packages/spglm/family.py:111: RuntimeWarning: divide by zero encountered in true_divide\n",
      "  return 1. / (self.link.deriv(mu)**2 * self.variance(mu))\n"
     ]
    }
   ],
   "source": [
    "#show MGWR model summary\n",
    "mgwr_results.summary()"
   ]
  },
  {
   "cell_type": "code",
   "execution_count": 14,
   "id": "3c224fb8",
   "metadata": {},
   "outputs": [],
   "source": [
    "#recreate R format table\n",
    "df = gp.GeoDataFrame()\n",
    "df['Intercept'] = mgwr_results.params[:,0]\n",
    "df['room'] = mgwr_results.params[:,1]\n",
    "df['living_area'] = mgwr_results.params[:,2]\n",
    "df['house_age'] = mgwr_results.params[:,3]\n",
    "\n",
    "df['yhat'] = mgwr_results.predy\n",
    "df['residual'] = mgwr_results.y.reshape((-1,1)) - mgwr_results.predy\n",
    "\n",
    "df['intercept_SE'] = mgwr_results.bse[:,0]\n",
    "df['room_SE'] = mgwr_results.bse[:,1]\n",
    "df['living_area_SE'] = mgwr_results.bse[:,2]\n",
    "df['house_age_SE'] = mgwr_results.bse[:,3]\n",
    "\n",
    "df['intercept_TV'] = mgwr_results.tvalues[:,0]\n",
    "df['room_TV'] = mgwr_results.tvalues[:,1]\n",
    "df['living_area_TV'] = mgwr_results.tvalues[:,2]\n",
    "df['house_age_TV'] = mgwr_results.tvalues[:,3]\n",
    "\n",
    "df['geometry'] = funda_data['geometry']"
   ]
  },
  {
   "cell_type": "code",
   "execution_count": 15,
   "id": "68269e6f",
   "metadata": {},
   "outputs": [],
   "source": [
    "#show the GeoDataFrame and write it to a folder\n",
    "df.head()\n",
    "df.to_file('data/test/test_mgwr.gpkg')"
   ]
  },
  {
   "cell_type": "code",
   "execution_count": null,
   "id": "ee3e9569",
   "metadata": {},
   "outputs": [],
   "source": []
  }
 ],
 "metadata": {
  "kernelspec": {
   "display_name": "conda_python3",
   "language": "python",
   "name": "conda_python3"
  },
  "language_info": {
   "codemirror_mode": {
    "name": "ipython",
    "version": 3
   },
   "file_extension": ".py",
   "mimetype": "text/x-python",
   "name": "python",
   "nbconvert_exporter": "python",
   "pygments_lexer": "ipython3",
   "version": "3.10.8"
  }
 },
 "nbformat": 4,
 "nbformat_minor": 5
}
