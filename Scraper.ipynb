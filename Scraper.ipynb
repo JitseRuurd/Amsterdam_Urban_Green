{
 "cells": [
  {
   "cell_type": "code",
   "execution_count": null,
   "id": "f3c050ab",
   "metadata": {},
   "outputs": [
    {
     "name": "stderr",
     "output_type": "stream",
     "text": [
      "\u001b[38;20m2023-03-15 12:44:08,974 - INFO - *** Phase 1: Fetch all the available links from all pages ***  (scrape.py:107)\u001b[0m\n",
      " 43%|██████████████████████████████████▋                                              | 83/194 [00:55<01:13,  1.50it/s]\n",
      "\u001b[38;20m2023-03-15 12:45:04,232 - INFO - *** Got all the urls. 1408 houses found in 83 pages. *** (scrape.py:118)\u001b[0m\n",
      "\u001b[38;20m2023-03-15 12:45:04,235 - INFO - *** Phase 2: Start scraping results from individual links *** (scrape.py:183)\u001b[0m\n",
      "C:\\Users\\jitse\\anaconda3\\lib\\site-packages\\funda_scraper\\scrape.py:188: TqdmWarning: Iterable length 1408 > 1000 but `chunksize` is not set. This may seriously degrade multiprocess performance. Set `chunksize=1` or more.\n",
      "  content = process_map(self.scrape_from_url, self.links, max_workers=pools)\n"
     ]
    },
    {
     "data": {
      "application/vnd.jupyter.widget-view+json": {
       "model_id": "2f5079206145494aba1f9a84533ca2d7",
       "version_major": 2,
       "version_minor": 0
      },
      "text/plain": [
       "  0%|          | 0/1408 [00:00<?, ?it/s]"
      ]
     },
     "metadata": {},
     "output_type": "display_data"
    }
   ],
   "source": [
    "from funda_scraper import FundaScraper\n",
    "\n",
    "scraper = FundaScraper(area=\"amsterdam\", want_to=\"rent\", find_past=False, n_pages = 193)\n",
    "df = scraper.run()\n",
    "df.head()"
   ]
  },
  {
   "cell_type": "code",
   "execution_count": null,
   "id": "944cbb2e",
   "metadata": {},
   "outputs": [],
   "source": [
    "import pandas as pd\n",
    "\n",
    "df.to_csv('funda_rent_15-03-2023')"
   ]
  }
 ],
 "metadata": {
  "kernelspec": {
   "display_name": "Python 3 (ipykernel)",
   "language": "python",
   "name": "python3"
  },
  "language_info": {
   "codemirror_mode": {
    "name": "ipython",
    "version": 3
   },
   "file_extension": ".py",
   "mimetype": "text/x-python",
   "name": "python",
   "nbconvert_exporter": "python",
   "pygments_lexer": "ipython3",
   "version": "3.9.12"
  }
 },
 "nbformat": 4,
 "nbformat_minor": 5
}
