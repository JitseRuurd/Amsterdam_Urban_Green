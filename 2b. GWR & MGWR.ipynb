{
 "cells": [
  {
   "cell_type": "code",
   "execution_count": 1,
   "id": "ec5010d0",
   "metadata": {
    "tags": []
   },
   "outputs": [
    {
     "name": "stdout",
     "output_type": "stream",
     "text": [
      "Looking in indexes: https://pypi.org/simple, https://pip.repos.neuron.amazonaws.com\n",
      "Collecting geopandas\n",
      "  Downloading geopandas-0.12.2-py3-none-any.whl (1.1 MB)\n",
      "\u001b[2K     \u001b[90m━━━━━━━━━━━━━━━━━━━━━━━━━━━━━━━━━━━━━━━━\u001b[0m \u001b[32m1.1/1.1 MB\u001b[0m \u001b[31m10.6 MB/s\u001b[0m eta \u001b[36m0:00:00\u001b[0m00:01\u001b[0m00:01\u001b[0m\n",
      "\u001b[?25hRequirement already satisfied: packaging in /home/ec2-user/anaconda3/envs/python3/lib/python3.10/site-packages (from geopandas) (21.3)\n",
      "Collecting pyproj>=2.6.1.post1\n",
      "  Downloading pyproj-3.5.0-cp310-cp310-manylinux_2_17_x86_64.manylinux2014_x86_64.whl (7.7 MB)\n",
      "\u001b[2K     \u001b[90m━━━━━━━━━━━━━━━━━━━━━━━━━━━━━━━━━━━━━━━━\u001b[0m \u001b[32m7.7/7.7 MB\u001b[0m \u001b[31m34.9 MB/s\u001b[0m eta \u001b[36m0:00:00\u001b[0m00:01\u001b[0m00:01\u001b[0m\n",
      "\u001b[?25hCollecting shapely>=1.7\n",
      "  Downloading shapely-2.0.1-cp310-cp310-manylinux_2_17_x86_64.manylinux2014_x86_64.whl (2.3 MB)\n",
      "\u001b[2K     \u001b[90m━━━━━━━━━━━━━━━━━━━━━━━━━━━━━━━━━━━━━━━━\u001b[0m \u001b[32m2.3/2.3 MB\u001b[0m \u001b[31m26.8 MB/s\u001b[0m eta \u001b[36m0:00:00\u001b[0m:00:01\u001b[0m\n",
      "\u001b[?25hRequirement already satisfied: pandas>=1.0.0 in /home/ec2-user/anaconda3/envs/python3/lib/python3.10/site-packages (from geopandas) (1.5.2)\n",
      "Collecting fiona>=1.8\n",
      "  Downloading Fiona-1.9.2-cp310-cp310-manylinux_2_17_x86_64.manylinux2014_x86_64.whl (16.0 MB)\n",
      "\u001b[2K     \u001b[90m━━━━━━━━━━━━━━━━━━━━━━━━━━━━━━━━━━━━━━━━\u001b[0m \u001b[32m16.0/16.0 MB\u001b[0m \u001b[31m33.6 MB/s\u001b[0m eta \u001b[36m0:00:00\u001b[0m00:01\u001b[0m00:01\u001b[0m\n",
      "\u001b[?25hCollecting click-plugins>=1.0\n",
      "  Downloading click_plugins-1.1.1-py2.py3-none-any.whl (7.5 kB)\n",
      "Requirement already satisfied: certifi in /home/ec2-user/anaconda3/envs/python3/lib/python3.10/site-packages (from fiona>=1.8->geopandas) (2022.12.7)\n",
      "Requirement already satisfied: click~=8.0 in /home/ec2-user/anaconda3/envs/python3/lib/python3.10/site-packages (from fiona>=1.8->geopandas) (8.1.3)\n",
      "Collecting munch>=2.3.2\n",
      "  Downloading munch-2.5.0-py2.py3-none-any.whl (10 kB)\n",
      "Requirement already satisfied: attrs>=19.2.0 in /home/ec2-user/anaconda3/envs/python3/lib/python3.10/site-packages (from fiona>=1.8->geopandas) (22.2.0)\n",
      "Collecting cligj>=0.5\n",
      "  Downloading cligj-0.7.2-py3-none-any.whl (7.1 kB)\n",
      "Requirement already satisfied: python-dateutil>=2.8.1 in /home/ec2-user/anaconda3/envs/python3/lib/python3.10/site-packages (from pandas>=1.0.0->geopandas) (2.8.2)\n",
      "Requirement already satisfied: pytz>=2020.1 in /home/ec2-user/anaconda3/envs/python3/lib/python3.10/site-packages (from pandas>=1.0.0->geopandas) (2022.7)\n",
      "Requirement already satisfied: numpy>=1.21.0 in /home/ec2-user/anaconda3/envs/python3/lib/python3.10/site-packages (from pandas>=1.0.0->geopandas) (1.22.3)\n",
      "Requirement already satisfied: pyparsing!=3.0.5,>=2.0.2 in /home/ec2-user/anaconda3/envs/python3/lib/python3.10/site-packages (from packaging->geopandas) (3.0.9)\n",
      "Requirement already satisfied: six in /home/ec2-user/anaconda3/envs/python3/lib/python3.10/site-packages (from munch>=2.3.2->fiona>=1.8->geopandas) (1.16.0)\n",
      "Installing collected packages: shapely, pyproj, munch, cligj, click-plugins, fiona, geopandas\n",
      "Successfully installed click-plugins-1.1.1 cligj-0.7.2 fiona-1.9.2 geopandas-0.12.2 munch-2.5.0 pyproj-3.5.0 shapely-2.0.1\n",
      "Looking in indexes: https://pypi.org/simple, https://pip.repos.neuron.amazonaws.com\n",
      "Collecting mgwr\n",
      "  Downloading mgwr-2.1.2.tar.gz (41 kB)\n",
      "\u001b[2K     \u001b[90m━━━━━━━━━━━━━━━━━━━━━━━━━━━━━━━━━━━━━━━━\u001b[0m \u001b[32m41.8/41.8 kB\u001b[0m \u001b[31m3.1 MB/s\u001b[0m eta \u001b[36m0:00:00\u001b[0m\n",
      "\u001b[?25h  Preparing metadata (setup.py) ... \u001b[?25ldone\n",
      "\u001b[?25hRequirement already satisfied: scipy>=0.11 in /home/ec2-user/anaconda3/envs/python3/lib/python3.10/site-packages (from mgwr) (1.10.0)\n",
      "Requirement already satisfied: numpy>=1.3 in /home/ec2-user/anaconda3/envs/python3/lib/python3.10/site-packages (from mgwr) (1.22.3)\n",
      "Collecting libpysal>=4.0.0\n",
      "  Downloading libpysal-4.7.0-py3-none-any.whl (2.4 MB)\n",
      "\u001b[2K     \u001b[90m━━━━━━━━━━━━━━━━━━━━━━━━━━━━━━━━━━━━━━━━\u001b[0m \u001b[32m2.4/2.4 MB\u001b[0m \u001b[31m19.7 MB/s\u001b[0m eta \u001b[36m0:00:00\u001b[0m00:01\u001b[0m00:01\u001b[0m\n",
      "\u001b[?25hCollecting spglm>=1.0.6\n",
      "  Downloading spglm-1.0.8.tar.gz (37 kB)\n",
      "  Preparing metadata (setup.py) ... \u001b[?25ldone\n",
      "\u001b[?25hCollecting spreg\n",
      "  Downloading spreg-1.3.1-py3-none-any.whl (220 kB)\n",
      "\u001b[2K     \u001b[90m━━━━━━━━━━━━━━━━━━━━━━━━━━━━━━━━━━━━━━\u001b[0m \u001b[32m220.1/220.1 kB\u001b[0m \u001b[31m44.2 MB/s\u001b[0m eta \u001b[36m0:00:00\u001b[0m\n",
      "\u001b[?25hRequirement already satisfied: pandas in /home/ec2-user/anaconda3/envs/python3/lib/python3.10/site-packages (from libpysal>=4.0.0->mgwr) (1.5.2)\n",
      "Requirement already satisfied: jinja2 in /home/ec2-user/anaconda3/envs/python3/lib/python3.10/site-packages (from libpysal>=4.0.0->mgwr) (3.1.2)\n",
      "Requirement already satisfied: packaging in /home/ec2-user/anaconda3/envs/python3/lib/python3.10/site-packages (from libpysal>=4.0.0->mgwr) (21.3)\n",
      "Requirement already satisfied: requests in /home/ec2-user/anaconda3/envs/python3/lib/python3.10/site-packages (from libpysal>=4.0.0->mgwr) (2.28.1)\n",
      "Requirement already satisfied: platformdirs in /home/ec2-user/anaconda3/envs/python3/lib/python3.10/site-packages (from libpysal>=4.0.0->mgwr) (2.6.2)\n",
      "Requirement already satisfied: beautifulsoup4 in /home/ec2-user/anaconda3/envs/python3/lib/python3.10/site-packages (from libpysal>=4.0.0->mgwr) (4.11.1)\n",
      "Requirement already satisfied: scikit-learn>=0.22 in /home/ec2-user/anaconda3/envs/python3/lib/python3.10/site-packages (from spreg->mgwr) (1.2.0)\n",
      "Requirement already satisfied: threadpoolctl>=2.0.0 in /home/ec2-user/anaconda3/envs/python3/lib/python3.10/site-packages (from scikit-learn>=0.22->spreg->mgwr) (3.1.0)\n",
      "Requirement already satisfied: joblib>=1.1.1 in /home/ec2-user/anaconda3/envs/python3/lib/python3.10/site-packages (from scikit-learn>=0.22->spreg->mgwr) (1.2.0)\n",
      "Requirement already satisfied: soupsieve>1.2 in /home/ec2-user/anaconda3/envs/python3/lib/python3.10/site-packages (from beautifulsoup4->libpysal>=4.0.0->mgwr) (2.3.2.post1)\n",
      "Requirement already satisfied: MarkupSafe>=2.0 in /home/ec2-user/anaconda3/envs/python3/lib/python3.10/site-packages (from jinja2->libpysal>=4.0.0->mgwr) (2.1.1)\n",
      "Requirement already satisfied: pyparsing!=3.0.5,>=2.0.2 in /home/ec2-user/anaconda3/envs/python3/lib/python3.10/site-packages (from packaging->libpysal>=4.0.0->mgwr) (3.0.9)\n",
      "Requirement already satisfied: python-dateutil>=2.8.1 in /home/ec2-user/anaconda3/envs/python3/lib/python3.10/site-packages (from pandas->libpysal>=4.0.0->mgwr) (2.8.2)\n",
      "Requirement already satisfied: pytz>=2020.1 in /home/ec2-user/anaconda3/envs/python3/lib/python3.10/site-packages (from pandas->libpysal>=4.0.0->mgwr) (2022.7)\n",
      "Requirement already satisfied: certifi>=2017.4.17 in /home/ec2-user/anaconda3/envs/python3/lib/python3.10/site-packages (from requests->libpysal>=4.0.0->mgwr) (2022.12.7)\n",
      "Requirement already satisfied: idna<4,>=2.5 in /home/ec2-user/anaconda3/envs/python3/lib/python3.10/site-packages (from requests->libpysal>=4.0.0->mgwr) (3.4)\n",
      "Requirement already satisfied: urllib3<1.27,>=1.21.1 in /home/ec2-user/anaconda3/envs/python3/lib/python3.10/site-packages (from requests->libpysal>=4.0.0->mgwr) (1.26.8)\n",
      "Requirement already satisfied: charset-normalizer<3,>=2 in /home/ec2-user/anaconda3/envs/python3/lib/python3.10/site-packages (from requests->libpysal>=4.0.0->mgwr) (2.1.1)\n",
      "Requirement already satisfied: six>=1.5 in /home/ec2-user/anaconda3/envs/python3/lib/python3.10/site-packages (from python-dateutil>=2.8.1->pandas->libpysal>=4.0.0->mgwr) (1.16.0)\n",
      "Building wheels for collected packages: mgwr, spglm\n",
      "  Building wheel for mgwr (setup.py) ... \u001b[?25ldone\n",
      "\u001b[?25h  Created wheel for mgwr: filename=mgwr-2.1.2-py3-none-any.whl size=46367 sha256=922e23ea364af0fc72ce1f9b9519a9b038b1a0122c740c001991ad774de8ba68\n",
      "  Stored in directory: /home/ec2-user/.cache/pip/wheels/db/33/5a/ad99445664ba9f64630503a91629a1ea689cc2abe0c712808d\n",
      "  Building wheel for spglm (setup.py) ... \u001b[?25ldone\n",
      "\u001b[?25h  Created wheel for spglm: filename=spglm-1.0.8-py3-none-any.whl size=38785 sha256=9bf57eb4194c805f9ae3afe8b25b04d31f93d0ed27561d545b2b89c5b7b55d89\n",
      "  Stored in directory: /home/ec2-user/.cache/pip/wheels/eb/58/a7/a2e9d87749b79100ff9f0d10521f881ca927f9277427d9034a\n",
      "Successfully built mgwr spglm\n",
      "Installing collected packages: libpysal, spreg, spglm, mgwr\n",
      "Successfully installed libpysal-4.7.0 mgwr-2.1.2 spglm-1.0.8 spreg-1.3.1\n",
      "Looking in indexes: https://pypi.org/simple, https://pip.repos.neuron.amazonaws.com\n",
      "Requirement already satisfied: numba in /home/ec2-user/anaconda3/envs/python3/lib/python3.10/site-packages (0.56.4)\n",
      "Requirement already satisfied: llvmlite<0.40,>=0.39.0dev0 in /home/ec2-user/anaconda3/envs/python3/lib/python3.10/site-packages (from numba) (0.39.1)\n",
      "Requirement already satisfied: setuptools in /home/ec2-user/anaconda3/envs/python3/lib/python3.10/site-packages (from numba) (65.6.3)\n",
      "Requirement already satisfied: numpy<1.24,>=1.18 in /home/ec2-user/anaconda3/envs/python3/lib/python3.10/site-packages (from numba) (1.22.3)\n"
     ]
    }
   ],
   "source": [
    "!pip install geopandas\n",
    "!pip install mgwr\n",
    "!pip install numba"
   ]
  },
  {
   "cell_type": "code",
   "execution_count": 1,
   "id": "6cf83172-2571-49e7-8779-1c0714fa7991",
   "metadata": {
    "tags": []
   },
   "outputs": [],
   "source": [
    "import numpy as np\n",
    "import pandas as pd\n",
    "import pickle\n",
    "import os\n",
    "import multiprocessing\n",
    "os.environ['USE_PYGEOS'] = '0'\n",
    "import geopandas as gp\n",
    "import multiprocessing as mp\n",
    "from mgwr.gwr import GWR,MGWR\n",
    "from mgwr.sel_bw import Sel_BW"
   ]
  },
  {
   "cell_type": "code",
   "execution_count": 86,
   "id": "fd9ad555",
   "metadata": {
    "tags": []
   },
   "outputs": [],
   "source": [
    "#Load the funda data\n",
    "funda_data = gp.read_file(\"data/Houseprices/funda_buy_amsterdam_31-03-2023_full_distances.gpkg\")\n",
    "\n",
    "funda_data = funda_data.loc[funda_data['price'] < 2500000]\n",
    "# funda_data = pd.DataFrame(funda_data)\n",
    "\n",
    "# funda_data = gp.GeoDataFrame(pd.get_dummies(funda_data, columns = [\"house_type\", \"building_type\", \"energy_label\", \"has_balcony\", \"has_garden\"]))"
   ]
  },
  {
   "cell_type": "code",
   "execution_count": 87,
   "id": "b8e57597",
   "metadata": {
    "tags": []
   },
   "outputs": [
    {
     "data": {
      "text/html": [
       "<div>\n",
       "<style scoped>\n",
       "    .dataframe tbody tr th:only-of-type {\n",
       "        vertical-align: middle;\n",
       "    }\n",
       "\n",
       "    .dataframe tbody tr th {\n",
       "        vertical-align: top;\n",
       "    }\n",
       "\n",
       "    .dataframe thead th {\n",
       "        text-align: right;\n",
       "    }\n",
       "</style>\n",
       "<table border=\"1\" class=\"dataframe\">\n",
       "  <thead>\n",
       "    <tr style=\"text-align: right;\">\n",
       "      <th></th>\n",
       "      <th>X</th>\n",
       "      <th>house_id</th>\n",
       "      <th>house_type</th>\n",
       "      <th>building_type</th>\n",
       "      <th>price</th>\n",
       "      <th>price_m2</th>\n",
       "      <th>room</th>\n",
       "      <th>bedroom</th>\n",
       "      <th>bathroom</th>\n",
       "      <th>living_area</th>\n",
       "      <th>...</th>\n",
       "      <th>metro_dist</th>\n",
       "      <th>train_dist</th>\n",
       "      <th>school_dist</th>\n",
       "      <th>shops_dist</th>\n",
       "      <th>centre_dist</th>\n",
       "      <th>zuid_dist</th>\n",
       "      <th>ndvi100</th>\n",
       "      <th>ndvi300</th>\n",
       "      <th>ndvi500</th>\n",
       "      <th>geometry</th>\n",
       "    </tr>\n",
       "  </thead>\n",
       "  <tbody>\n",
       "    <tr>\n",
       "      <th>0</th>\n",
       "      <td>18</td>\n",
       "      <td>42082895</td>\n",
       "      <td>appartement</td>\n",
       "      <td>Resale property</td>\n",
       "      <td>675000</td>\n",
       "      <td>7500.0</td>\n",
       "      <td>3</td>\n",
       "      <td>2</td>\n",
       "      <td>1</td>\n",
       "      <td>90</td>\n",
       "      <td>...</td>\n",
       "      <td>668.095770</td>\n",
       "      <td>1290.089283</td>\n",
       "      <td>153.948872</td>\n",
       "      <td>151.069423</td>\n",
       "      <td>2391.694363</td>\n",
       "      <td>2455.223172</td>\n",
       "      <td>0.162702</td>\n",
       "      <td>0.196920</td>\n",
       "      <td>0.195819</td>\n",
       "      <td>POINT (121858.014 484983.965)</td>\n",
       "    </tr>\n",
       "    <tr>\n",
       "      <th>1</th>\n",
       "      <td>51</td>\n",
       "      <td>42057103</td>\n",
       "      <td>appartement</td>\n",
       "      <td>Resale property</td>\n",
       "      <td>1295000</td>\n",
       "      <td>6475.0</td>\n",
       "      <td>5</td>\n",
       "      <td>3</td>\n",
       "      <td>0</td>\n",
       "      <td>200</td>\n",
       "      <td>...</td>\n",
       "      <td>373.221221</td>\n",
       "      <td>1985.945869</td>\n",
       "      <td>313.440368</td>\n",
       "      <td>110.727430</td>\n",
       "      <td>1788.727768</td>\n",
       "      <td>2560.149839</td>\n",
       "      <td>0.142849</td>\n",
       "      <td>0.185552</td>\n",
       "      <td>0.184949</td>\n",
       "      <td>POINT (121381.001 485541.002)</td>\n",
       "    </tr>\n",
       "    <tr>\n",
       "      <th>2</th>\n",
       "      <td>79</td>\n",
       "      <td>42038931</td>\n",
       "      <td>appartement</td>\n",
       "      <td>Resale property</td>\n",
       "      <td>385000</td>\n",
       "      <td>7549.0</td>\n",
       "      <td>4</td>\n",
       "      <td>3</td>\n",
       "      <td>0</td>\n",
       "      <td>51</td>\n",
       "      <td>...</td>\n",
       "      <td>576.663789</td>\n",
       "      <td>1378.133276</td>\n",
       "      <td>130.618369</td>\n",
       "      <td>387.194432</td>\n",
       "      <td>2546.495664</td>\n",
       "      <td>2210.323492</td>\n",
       "      <td>0.233371</td>\n",
       "      <td>0.195763</td>\n",
       "      <td>0.209202</td>\n",
       "      <td>POINT (121691.846 484800.990)</td>\n",
       "    </tr>\n",
       "    <tr>\n",
       "      <th>3</th>\n",
       "      <td>107</td>\n",
       "      <td>42005049</td>\n",
       "      <td>appartement</td>\n",
       "      <td>Resale property</td>\n",
       "      <td>650000</td>\n",
       "      <td>7738.1</td>\n",
       "      <td>4</td>\n",
       "      <td>3</td>\n",
       "      <td>1</td>\n",
       "      <td>84</td>\n",
       "      <td>...</td>\n",
       "      <td>689.699113</td>\n",
       "      <td>1524.552850</td>\n",
       "      <td>260.958705</td>\n",
       "      <td>100.917074</td>\n",
       "      <td>2003.207149</td>\n",
       "      <td>2709.243910</td>\n",
       "      <td>0.183670</td>\n",
       "      <td>0.184882</td>\n",
       "      <td>0.170842</td>\n",
       "      <td>POINT (121834.000 485376.000)</td>\n",
       "    </tr>\n",
       "    <tr>\n",
       "      <th>4</th>\n",
       "      <td>212</td>\n",
       "      <td>42165208</td>\n",
       "      <td>appartement</td>\n",
       "      <td>Resale property</td>\n",
       "      <td>465000</td>\n",
       "      <td>8157.9</td>\n",
       "      <td>3</td>\n",
       "      <td>2</td>\n",
       "      <td>1</td>\n",
       "      <td>57</td>\n",
       "      <td>...</td>\n",
       "      <td>778.780657</td>\n",
       "      <td>1085.901160</td>\n",
       "      <td>180.489983</td>\n",
       "      <td>112.154131</td>\n",
       "      <td>2594.803303</td>\n",
       "      <td>2462.246204</td>\n",
       "      <td>0.215336</td>\n",
       "      <td>0.205068</td>\n",
       "      <td>0.201115</td>\n",
       "      <td>POINT (122003.041 484808.014)</td>\n",
       "    </tr>\n",
       "    <tr>\n",
       "      <th>...</th>\n",
       "      <td>...</td>\n",
       "      <td>...</td>\n",
       "      <td>...</td>\n",
       "      <td>...</td>\n",
       "      <td>...</td>\n",
       "      <td>...</td>\n",
       "      <td>...</td>\n",
       "      <td>...</td>\n",
       "      <td>...</td>\n",
       "      <td>...</td>\n",
       "      <td>...</td>\n",
       "      <td>...</td>\n",
       "      <td>...</td>\n",
       "      <td>...</td>\n",
       "      <td>...</td>\n",
       "      <td>...</td>\n",
       "      <td>...</td>\n",
       "      <td>...</td>\n",
       "      <td>...</td>\n",
       "      <td>...</td>\n",
       "      <td>...</td>\n",
       "    </tr>\n",
       "    <tr>\n",
       "      <th>1714</th>\n",
       "      <td>524</td>\n",
       "      <td>88454958</td>\n",
       "      <td>appartement</td>\n",
       "      <td>Resale property</td>\n",
       "      <td>289000</td>\n",
       "      <td>3524.4</td>\n",
       "      <td>3</td>\n",
       "      <td>2</td>\n",
       "      <td>1</td>\n",
       "      <td>82</td>\n",
       "      <td>...</td>\n",
       "      <td>304.495796</td>\n",
       "      <td>1894.684593</td>\n",
       "      <td>48.763585</td>\n",
       "      <td>754.328744</td>\n",
       "      <td>9220.212311</td>\n",
       "      <td>7952.978298</td>\n",
       "      <td>0.303762</td>\n",
       "      <td>0.319314</td>\n",
       "      <td>0.292101</td>\n",
       "      <td>POINT (127290.990 480243.999)</td>\n",
       "    </tr>\n",
       "    <tr>\n",
       "      <th>1715</th>\n",
       "      <td>527</td>\n",
       "      <td>88460312</td>\n",
       "      <td>appartement</td>\n",
       "      <td>Resale property</td>\n",
       "      <td>335000</td>\n",
       "      <td>3764.0</td>\n",
       "      <td>4</td>\n",
       "      <td>3</td>\n",
       "      <td>1</td>\n",
       "      <td>89</td>\n",
       "      <td>...</td>\n",
       "      <td>465.786814</td>\n",
       "      <td>1740.296080</td>\n",
       "      <td>29.809326</td>\n",
       "      <td>818.953743</td>\n",
       "      <td>9167.566064</td>\n",
       "      <td>7835.367130</td>\n",
       "      <td>0.287997</td>\n",
       "      <td>0.326126</td>\n",
       "      <td>0.297022</td>\n",
       "      <td>POINT (127136.997 480186.005)</td>\n",
       "    </tr>\n",
       "    <tr>\n",
       "      <th>1716</th>\n",
       "      <td>1009</td>\n",
       "      <td>42065127</td>\n",
       "      <td>appartement</td>\n",
       "      <td>Resale property</td>\n",
       "      <td>299000</td>\n",
       "      <td>4271.4</td>\n",
       "      <td>3</td>\n",
       "      <td>2</td>\n",
       "      <td>1</td>\n",
       "      <td>70</td>\n",
       "      <td>...</td>\n",
       "      <td>486.295154</td>\n",
       "      <td>1719.114500</td>\n",
       "      <td>33.504192</td>\n",
       "      <td>834.294781</td>\n",
       "      <td>9169.880396</td>\n",
       "      <td>7827.847089</td>\n",
       "      <td>0.303994</td>\n",
       "      <td>0.323948</td>\n",
       "      <td>0.301183</td>\n",
       "      <td>POINT (127121.997 480171.002)</td>\n",
       "    </tr>\n",
       "    <tr>\n",
       "      <th>1717</th>\n",
       "      <td>1460</td>\n",
       "      <td>42912098</td>\n",
       "      <td>appartement</td>\n",
       "      <td>Resale property</td>\n",
       "      <td>280000</td>\n",
       "      <td>4058.0</td>\n",
       "      <td>3</td>\n",
       "      <td>2</td>\n",
       "      <td>1</td>\n",
       "      <td>69</td>\n",
       "      <td>...</td>\n",
       "      <td>166.117549</td>\n",
       "      <td>2034.389126</td>\n",
       "      <td>184.375679</td>\n",
       "      <td>620.397055</td>\n",
       "      <td>9219.168740</td>\n",
       "      <td>8015.276792</td>\n",
       "      <td>0.367509</td>\n",
       "      <td>0.294422</td>\n",
       "      <td>0.296932</td>\n",
       "      <td>POINT (127397.001 480335.000)</td>\n",
       "    </tr>\n",
       "    <tr>\n",
       "      <th>1718</th>\n",
       "      <td>1996</td>\n",
       "      <td>88310423</td>\n",
       "      <td>appartement</td>\n",
       "      <td>Resale property</td>\n",
       "      <td>330000</td>\n",
       "      <td>4024.4</td>\n",
       "      <td>4</td>\n",
       "      <td>3</td>\n",
       "      <td>1</td>\n",
       "      <td>82</td>\n",
       "      <td>...</td>\n",
       "      <td>460.594255</td>\n",
       "      <td>1746.458418</td>\n",
       "      <td>33.056539</td>\n",
       "      <td>811.930380</td>\n",
       "      <td>9163.370256</td>\n",
       "      <td>7834.334066</td>\n",
       "      <td>0.275925</td>\n",
       "      <td>0.323914</td>\n",
       "      <td>0.296031</td>\n",
       "      <td>POINT (127139.001 480193.003)</td>\n",
       "    </tr>\n",
       "  </tbody>\n",
       "</table>\n",
       "<p>1657 rows × 39 columns</p>\n",
       "</div>"
      ],
      "text/plain": [
       "         X  house_id   house_type    building_type    price  price_m2  room  \\\n",
       "0       18  42082895  appartement  Resale property   675000    7500.0     3   \n",
       "1       51  42057103  appartement  Resale property  1295000    6475.0     5   \n",
       "2       79  42038931  appartement  Resale property   385000    7549.0     4   \n",
       "3      107  42005049  appartement  Resale property   650000    7738.1     4   \n",
       "4      212  42165208  appartement  Resale property   465000    8157.9     3   \n",
       "...    ...       ...          ...              ...      ...       ...   ...   \n",
       "1714   524  88454958  appartement  Resale property   289000    3524.4     3   \n",
       "1715   527  88460312  appartement  Resale property   335000    3764.0     4   \n",
       "1716  1009  42065127  appartement  Resale property   299000    4271.4     3   \n",
       "1717  1460  42912098  appartement  Resale property   280000    4058.0     3   \n",
       "1718  1996  88310423  appartement  Resale property   330000    4024.4     4   \n",
       "\n",
       "      bedroom  bathroom  living_area  ...  metro_dist   train_dist  \\\n",
       "0           2         1           90  ...  668.095770  1290.089283   \n",
       "1           3         0          200  ...  373.221221  1985.945869   \n",
       "2           3         0           51  ...  576.663789  1378.133276   \n",
       "3           3         1           84  ...  689.699113  1524.552850   \n",
       "4           2         1           57  ...  778.780657  1085.901160   \n",
       "...       ...       ...          ...  ...         ...          ...   \n",
       "1714        2         1           82  ...  304.495796  1894.684593   \n",
       "1715        3         1           89  ...  465.786814  1740.296080   \n",
       "1716        2         1           70  ...  486.295154  1719.114500   \n",
       "1717        2         1           69  ...  166.117549  2034.389126   \n",
       "1718        3         1           82  ...  460.594255  1746.458418   \n",
       "\n",
       "     school_dist  shops_dist  centre_dist    zuid_dist   ndvi100   ndvi300  \\\n",
       "0     153.948872  151.069423  2391.694363  2455.223172  0.162702  0.196920   \n",
       "1     313.440368  110.727430  1788.727768  2560.149839  0.142849  0.185552   \n",
       "2     130.618369  387.194432  2546.495664  2210.323492  0.233371  0.195763   \n",
       "3     260.958705  100.917074  2003.207149  2709.243910  0.183670  0.184882   \n",
       "4     180.489983  112.154131  2594.803303  2462.246204  0.215336  0.205068   \n",
       "...          ...         ...          ...          ...       ...       ...   \n",
       "1714   48.763585  754.328744  9220.212311  7952.978298  0.303762  0.319314   \n",
       "1715   29.809326  818.953743  9167.566064  7835.367130  0.287997  0.326126   \n",
       "1716   33.504192  834.294781  9169.880396  7827.847089  0.303994  0.323948   \n",
       "1717  184.375679  620.397055  9219.168740  8015.276792  0.367509  0.294422   \n",
       "1718   33.056539  811.930380  9163.370256  7834.334066  0.275925  0.323914   \n",
       "\n",
       "       ndvi500                       geometry  \n",
       "0     0.195819  POINT (121858.014 484983.965)  \n",
       "1     0.184949  POINT (121381.001 485541.002)  \n",
       "2     0.209202  POINT (121691.846 484800.990)  \n",
       "3     0.170842  POINT (121834.000 485376.000)  \n",
       "4     0.201115  POINT (122003.041 484808.014)  \n",
       "...        ...                            ...  \n",
       "1714  0.292101  POINT (127290.990 480243.999)  \n",
       "1715  0.297022  POINT (127136.997 480186.005)  \n",
       "1716  0.301183  POINT (127121.997 480171.002)  \n",
       "1717  0.296932  POINT (127397.001 480335.000)  \n",
       "1718  0.296031  POINT (127139.001 480193.003)  \n",
       "\n",
       "[1657 rows x 39 columns]"
      ]
     },
     "execution_count": 87,
     "metadata": {},
     "output_type": "execute_result"
    }
   ],
   "source": [
    "#show funda data\n",
    "funda_data\n"
   ]
  },
  {
   "cell_type": "code",
   "execution_count": 88,
   "id": "57602051",
   "metadata": {
    "tags": []
   },
   "outputs": [],
   "source": [
    "#create array with the dependent variable\n",
    "b_y = funda_data['price_m2'].values.reshape((-1,1))"
   ]
  },
  {
   "cell_type": "code",
   "execution_count": 89,
   "id": "f71b862e",
   "metadata": {
    "tags": []
   },
   "outputs": [],
   "source": [
    "# #create an array with the indepentend variables (order matters for the extraction of params later)\n",
    "# b_X = funda_data[['room', 'bedroom', 'bathroom', 'living_area',\n",
    "#                   'house_age', 'bus_dist', 'subway_dist', 'train_dist',\n",
    "#                   'university_dist', 'school_dist', 'mall_dist', 'supermarket_dist',\n",
    "#                   'energy_label_A', 'energy_label_B', 'energy_label_C', 'energy_label_D',\n",
    "#                   'energy_label_E', 'energy_label_F', 'energy_label_G', 'energy_label_na',\n",
    "#                   'has_balcony_0.0', 'has_balcony_1.0', 'has_garden_0.0', 'has_garden_1.0']].values \n",
    "\n",
    "# cols = ['room', 'bedroom', 'bathroom', 'living_area',\n",
    "#                   'house_age', 'train_dist', 'metro_dist', 'tram_dist', 'ndvi100']\n",
    "\n",
    "cols = ['living_area','room', 'bedroom', 'bathroom',\n",
    "                  'house_age', 'train_dist', 'metro_dist', 'tram_dist', 'ndvi500', 'centre_dist', 'zuid_dist', 'shops_dist', 'school_dist']\n",
    "\n",
    "b_X = funda_data[cols].values "
   ]
  },
  {
   "cell_type": "code",
   "execution_count": 90,
   "id": "8679d9dc",
   "metadata": {
    "tags": []
   },
   "outputs": [],
   "source": [
    "#create coordinate tuple for the model\n",
    "u = funda_data['geometry'].x\n",
    "v = funda_data['geometry'].y\n",
    "b_coords = list(zip(u, v))"
   ]
  },
  {
   "cell_type": "code",
   "execution_count": 91,
   "id": "1d1a8646",
   "metadata": {
    "tags": []
   },
   "outputs": [
    {
     "data": {
      "text/plain": [
       "8"
      ]
     },
     "execution_count": 91,
     "metadata": {},
     "output_type": "execute_result"
    }
   ],
   "source": [
    "multiprocessing.cpu_count()"
   ]
  },
  {
   "cell_type": "code",
   "execution_count": 92,
   "id": "98779759-2d6a-465d-9151-2f79043e2a0c",
   "metadata": {
    "tags": []
   },
   "outputs": [
    {
     "name": "stdout",
     "output_type": "stream",
     "text": [
      "env: OMP_NUM_THREADS=1\n"
     ]
    }
   ],
   "source": [
    "#This might be needed to turn off the OpenMP multi-threading\n",
    "%env OMP_NUM_THREADS = 1"
   ]
  },
  {
   "cell_type": "code",
   "execution_count": 93,
   "id": "fb016831",
   "metadata": {
    "tags": []
   },
   "outputs": [],
   "source": [
    "#Parrallelization is more favored when you your data are large and/or your machine have many many cores.\n",
    "#mgwr has soft dependency of numba, please install numba if you need better performance (pip install numba).\n",
    "n_proc = 4 #two processors\n",
    "pool = mp.Pool(n_proc) "
   ]
  },
  {
   "cell_type": "code",
   "execution_count": 94,
   "id": "28a7c138",
   "metadata": {
    "tags": []
   },
   "outputs": [
    {
     "name": "stdout",
     "output_type": "stream",
     "text": [
      "187.0\n",
      "CPU times: total: 78.1 ms\n",
      "Wall time: 13.1 s\n"
     ]
    }
   ],
   "source": [
    "%%time\n",
    "#Run basic GWR in parrallel mode\n",
    "\n",
    "gwr_selector = Sel_BW(b_coords, b_y, b_X)\n",
    "gwr_bw = gwr_selector.search(pool = pool) #add pool to Sel_BW.search\n",
    "print(gwr_bw)\n",
    "gwr_results = GWR(b_coords, b_y, b_X, gwr_bw).fit(pool = pool)"
   ]
  },
  {
   "cell_type": "code",
   "execution_count": 95,
   "id": "21ee9361",
   "metadata": {
    "tags": []
   },
   "outputs": [
    {
     "name": "stdout",
     "output_type": "stream",
     "text": [
      "===========================================================================\n",
      "Model type                                                         Gaussian\n",
      "Number of observations:                                                1657\n",
      "Number of covariates:                                                    14\n",
      "\n",
      "Global Regression Results\n",
      "---------------------------------------------------------------------------\n",
      "Residual sum of squares:                                       3148160057.137\n",
      "Log-likelihood:                                                  -14329.071\n",
      "AIC:                                                              28686.142\n",
      "AICc:                                                             28688.434\n",
      "BIC:                                                           3148147877.966\n",
      "R2:                                                                   0.539\n",
      "Adj. R2:                                                              0.536\n",
      "\n",
      "Variable                              Est.         SE  t(Est/SE)    p-value\n",
      "------------------------------- ---------- ---------- ---------- ----------\n",
      "X0                               10911.202    185.227     58.907      0.000\n",
      "X1                                  -5.520      1.220     -4.523      0.000\n",
      "X2                                 -92.165     55.364     -1.665      0.096\n",
      "X3                                   5.442     63.648      0.086      0.932\n",
      "X4                                 344.458     67.989      5.066      0.000\n",
      "X5                                   0.300      0.098      3.071      0.002\n",
      "X6                                  -0.070      0.055     -1.287      0.198\n",
      "X7                                   0.404      0.061      6.673      0.000\n",
      "X8                                   0.378      0.061      6.146      0.000\n",
      "X9                               -3187.317    687.085     -4.639      0.000\n",
      "X10                                 -0.496      0.024    -20.790      0.000\n",
      "X11                                 -0.402      0.027    -14.956      0.000\n",
      "X12                                  1.066      0.199      5.363      0.000\n",
      "X13                                  0.489      0.198      2.474      0.013\n",
      "\n",
      "Geographically Weighted Regression (GWR) Results\n",
      "---------------------------------------------------------------------------\n",
      "Spatial kernel:                                           Adaptive bisquare\n",
      "Bandwidth used:                                                     187.000\n",
      "\n",
      "Diagnostic information\n",
      "---------------------------------------------------------------------------\n",
      "Residual sum of squares:                                       1778503445.680\n",
      "Effective number of parameters (trace(S)):                          247.745\n",
      "Degree of freedom (n - trace(S)):                                  1409.255\n",
      "Sigma estimate:                                                    1123.395\n",
      "Log-likelihood:                                                  -13855.959\n",
      "AIC:                                                              28209.409\n",
      "AICc:                                                             28297.698\n",
      "BIC:                                                              29555.807\n",
      "R2:                                                                   0.740\n",
      "Adjusted R2:                                                          0.694\n",
      "Adj. alpha (95%):                                                     0.003\n",
      "Adj. critical t value (95%):                                          2.991\n",
      "\n",
      "Summary Statistics For GWR Parameter Estimates\n",
      "---------------------------------------------------------------------------\n",
      "Variable                   Mean        STD        Min     Median        Max\n",
      "-------------------- ---------- ---------- ---------- ---------- ----------\n",
      "X0                    10293.020   6724.627 -16376.968  10694.896  29974.138\n",
      "X1                       -9.945      5.540    -24.105     -9.773      2.550\n",
      "X2                      -26.081    328.027   -925.745     36.656    586.048\n",
      "X3                       58.300    366.876   -614.983    -50.848   1039.117\n",
      "X4                      306.082    279.250   -414.033    247.184   1075.384\n",
      "X5                       -1.590      4.964    -23.325      0.056     19.869\n",
      "X6                        0.545      1.609     -2.348      0.298      8.807\n",
      "X7                        0.415      1.370     -6.863      0.306      4.818\n",
      "X8                       -0.016      1.345     -5.645      0.206      4.632\n",
      "X9                     3384.141   9541.920 -21042.051   2557.824  41221.374\n",
      "X10                      -1.334      2.214    -15.252     -0.890      1.895\n",
      "X11                      -0.255      1.496     -3.954     -0.304      6.693\n",
      "X12                       0.718      1.611     -4.172      0.396      5.741\n",
      "X13                      -0.347      1.453     -4.753     -0.099      2.717\n",
      "===========================================================================\n",
      "\n"
     ]
    }
   ],
   "source": [
    "#show summary\n",
    "gwr_results.summary()"
   ]
  },
  {
   "cell_type": "code",
   "execution_count": null,
   "id": "196984a0",
   "metadata": {
    "tags": []
   },
   "outputs": [
    {
     "data": {
      "application/vnd.jupyter.widget-view+json": {
       "model_id": "0c4a97911c034c248cdb3796fbf822f9",
       "version_major": 2,
       "version_minor": 0
      },
      "text/plain": [
       "Backfitting:   0%|          | 0/50 [00:00<?, ?it/s]"
      ]
     },
     "metadata": {},
     "output_type": "display_data"
    },
    {
     "name": "stdout",
     "output_type": "stream",
     "text": [
      "Current iteration: 1 ,SOC: 0.001916\n",
      "Bandwidths: 43.0, 928.0, 888.0, 1651.0, 1651.0, 1656.0, 1301.0, 1409.0, 1277.0, 1078.0, 1118.0, 810.0, 941.0, 1653.0\n",
      "Current iteration: 2 ,SOC: 0.0006123\n",
      "Bandwidths: 43.0, 906.0, 1091.0, 1656.0, 1656.0, 1652.0, 1656.0, 1551.0, 1648.0, 1321.0, 1270.0, 913.0, 910.0, 1653.0\n"
     ]
    }
   ],
   "source": [
    "%%time\n",
    "#run MGWR in parrallel mode. Note: max_iter_multi needs to be specified\n",
    "\n",
    "mgwr_selector = Sel_BW(b_coords, b_y, b_X, multi=True)\n",
    "mgwr_bw = mgwr_selector.search(pool=pool, max_iter_multi=50, criterion = \"AIC\", verbose = True, init_multi = 1600) #add pool to Sel_BW.search\n",
    "print(mgwr_bw)\n"
   ]
  },
  {
   "cell_type": "code",
   "execution_count": 54,
   "id": "b241de0a-aefb-4499-9969-222561209c53",
   "metadata": {
    "tags": []
   },
   "outputs": [],
   "source": [
    "#pickle.dump(mgwr_selector, open('data/models/mgwr_selector_ndvi_m2.pkl', 'wb'))"
   ]
  },
  {
   "cell_type": "code",
   "execution_count": 55,
   "id": "c610bee8",
   "metadata": {},
   "outputs": [],
   "source": [
    "# mgwr_selector = pickle.load(open('data/models/mgwr_selector_ndvi_m2.pkl', 'rb'))"
   ]
  },
  {
   "cell_type": "code",
   "execution_count": 56,
   "id": "3e77ca18-2fd4-4147-acfd-705e39d42ccf",
   "metadata": {
    "tags": []
   },
   "outputs": [],
   "source": [
    "# mgwr_results = MGWR(b_coords, b_y, b_X, selector=mgwr_selector).fit(pool = pool)\n"
   ]
  },
  {
   "cell_type": "code",
   "execution_count": 57,
   "id": "c559cecf",
   "metadata": {
    "tags": []
   },
   "outputs": [],
   "source": [
    "#show MGWR model summary\n",
    "# mgwr_results.summary()"
   ]
  },
  {
   "cell_type": "code",
   "execution_count": 58,
   "id": "3c224fb8",
   "metadata": {
    "tags": []
   },
   "outputs": [],
   "source": [
    "#recreate R format table\n",
    "\n",
    "def return_geopackage(mgwr_results,cols, path_name):\n",
    "    df = gp.GeoDataFrame()\n",
    "    df['Intercept'] = mgwr_results.params[:,0]\n",
    "    df['intercept_SE'] = mgwr_results.bse[:,0]\n",
    "    df['intercept_TV'] = mgwr_results.tvalues[:,0]\n",
    "    \n",
    "    df['yhat'] = mgwr_results.predy\n",
    "    df['residual'] = mgwr_results.y.reshape((-1,1)) - mgwr_results.predy\n",
    "    \n",
    "    for i,col in enumerate(cols):\n",
    "        \n",
    "        df[col] = mgwr_results.params[:,i+1]\n",
    "\n",
    "        df[col+'_SE'] = mgwr_results.bse[:,i+1]\n",
    "        df[col+'_TV'] = mgwr_results.tvalues[:,i+1]\n",
    "        \n",
    "    df['geometry'] = funda_data['geometry']\n",
    "    df.to_file(path_name)"
   ]
  },
  {
   "cell_type": "code",
   "execution_count": 59,
   "id": "68269e6f",
   "metadata": {
    "tags": []
   },
   "outputs": [],
   "source": [
    "#show the GeoDataFrame and write it to a folder\n",
    "return_geopackage(gwr_results,cols, 'data/models/gwr_results_amsterdam_ndvi500_m2.gpkg')"
   ]
  },
  {
   "cell_type": "code",
   "execution_count": 17,
   "id": "ee3e9569",
   "metadata": {
    "tags": []
   },
   "outputs": [],
   "source": [
    "#pickle.dump(mgwr_results, open('data/models/mgwr_results_amsterdam_ndvi_m2.pkl', 'wb'))"
   ]
  },
  {
   "cell_type": "code",
   "execution_count": 47,
   "id": "302f9c53",
   "metadata": {},
   "outputs": [],
   "source": [
    "#gwr_results = pickle.load(open('data/models/mgwr_results_amsterdam_ndvi_m2.pkl', 'rb'))"
   ]
  },
  {
   "cell_type": "code",
   "execution_count": null,
   "id": "ded9ccad",
   "metadata": {},
   "outputs": [],
   "source": []
  }
 ],
 "metadata": {
  "kernelspec": {
   "display_name": "Python 3 (ipykernel)",
   "language": "python",
   "name": "python3"
  },
  "language_info": {
   "codemirror_mode": {
    "name": "ipython",
    "version": 3
   },
   "file_extension": ".py",
   "mimetype": "text/x-python",
   "name": "python",
   "nbconvert_exporter": "python",
   "pygments_lexer": "ipython3",
   "version": "3.10.9"
  }
 },
 "nbformat": 4,
 "nbformat_minor": 5
}
