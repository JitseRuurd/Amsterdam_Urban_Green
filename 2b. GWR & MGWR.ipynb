{
 "cells": [
  {
   "cell_type": "code",
   "execution_count": 1,
   "id": "ec5010d0",
   "metadata": {
    "tags": []
   },
   "outputs": [
    {
     "name": "stdout",
     "output_type": "stream",
     "text": [
      "Requirement already satisfied: geopandas in c:\\users\\jitse\\anaconda3\\lib\\site-packages (0.12.2)\n",
      "Requirement already satisfied: fiona>=1.8 in c:\\users\\jitse\\anaconda3\\lib\\site-packages (from geopandas) (1.9.2)\n",
      "Requirement already satisfied: packaging in c:\\users\\jitse\\anaconda3\\lib\\site-packages (from geopandas) (21.3)\n",
      "Requirement already satisfied: shapely>=1.7 in c:\\users\\jitse\\anaconda3\\lib\\site-packages (from geopandas) (2.0.1)\n",
      "Requirement already satisfied: pyproj>=2.6.1.post1 in c:\\users\\jitse\\anaconda3\\lib\\site-packages (from geopandas) (3.5.0)\n",
      "Requirement already satisfied: pandas>=1.0.0 in c:\\users\\jitse\\anaconda3\\lib\\site-packages (from geopandas) (1.4.2)\n",
      "Requirement already satisfied: munch>=2.3.2 in c:\\users\\jitse\\anaconda3\\lib\\site-packages (from fiona>=1.8->geopandas) (2.5.0)\n",
      "Requirement already satisfied: click~=8.0 in c:\\users\\jitse\\anaconda3\\lib\\site-packages (from fiona>=1.8->geopandas) (8.0.4)\n",
      "Requirement already satisfied: certifi in c:\\users\\jitse\\anaconda3\\lib\\site-packages (from fiona>=1.8->geopandas) (2022.12.7)\n",
      "Requirement already satisfied: cligj>=0.5 in c:\\users\\jitse\\anaconda3\\lib\\site-packages (from fiona>=1.8->geopandas) (0.7.2)\n",
      "Requirement already satisfied: importlib-metadata in c:\\users\\jitse\\anaconda3\\lib\\site-packages (from fiona>=1.8->geopandas) (4.11.3)\n",
      "Requirement already satisfied: attrs>=19.2.0 in c:\\users\\jitse\\anaconda3\\lib\\site-packages (from fiona>=1.8->geopandas) (21.4.0)\n",
      "Requirement already satisfied: click-plugins>=1.0 in c:\\users\\jitse\\anaconda3\\lib\\site-packages (from fiona>=1.8->geopandas) (1.1.1)\n",
      "Requirement already satisfied: python-dateutil>=2.8.1 in c:\\users\\jitse\\anaconda3\\lib\\site-packages (from pandas>=1.0.0->geopandas) (2.8.2)\n",
      "Requirement already satisfied: numpy>=1.18.5 in c:\\users\\jitse\\anaconda3\\lib\\site-packages (from pandas>=1.0.0->geopandas) (1.21.5)\n",
      "Requirement already satisfied: pytz>=2020.1 in c:\\users\\jitse\\anaconda3\\lib\\site-packages (from pandas>=1.0.0->geopandas) (2021.3)\n",
      "Requirement already satisfied: pyparsing!=3.0.5,>=2.0.2 in c:\\users\\jitse\\anaconda3\\lib\\site-packages (from packaging->geopandas) (3.0.4)\n",
      "Requirement already satisfied: colorama in c:\\users\\jitse\\anaconda3\\lib\\site-packages (from click~=8.0->fiona>=1.8->geopandas) (0.4.4)\n",
      "Requirement already satisfied: six in c:\\users\\jitse\\anaconda3\\lib\\site-packages (from munch>=2.3.2->fiona>=1.8->geopandas) (1.16.0)\n",
      "Requirement already satisfied: zipp>=0.5 in c:\\users\\jitse\\anaconda3\\lib\\site-packages (from importlib-metadata->fiona>=1.8->geopandas) (3.7.0)\n",
      "Requirement already satisfied: mgwr in c:\\users\\jitse\\anaconda3\\lib\\site-packages (2.1.2)\n",
      "Requirement already satisfied: spglm>=1.0.6 in c:\\users\\jitse\\anaconda3\\lib\\site-packages (from mgwr) (1.0.8)\n",
      "Requirement already satisfied: scipy>=0.11 in c:\\users\\jitse\\anaconda3\\lib\\site-packages (from mgwr) (1.7.3)\n",
      "Requirement already satisfied: libpysal>=4.0.0 in c:\\users\\jitse\\anaconda3\\lib\\site-packages (from mgwr) (4.7.0)\n",
      "Requirement already satisfied: spreg in c:\\users\\jitse\\anaconda3\\lib\\site-packages (from mgwr) (1.3.0)\n",
      "Requirement already satisfied: numpy>=1.3 in c:\\users\\jitse\\anaconda3\\lib\\site-packages (from mgwr) (1.21.5)\n",
      "Requirement already satisfied: pandas in c:\\users\\jitse\\anaconda3\\lib\\site-packages (from libpysal>=4.0.0->mgwr) (1.4.2)\n",
      "Requirement already satisfied: jinja2 in c:\\users\\jitse\\anaconda3\\lib\\site-packages (from libpysal>=4.0.0->mgwr) (3.0.3)\n",
      "Requirement already satisfied: beautifulsoup4 in c:\\users\\jitse\\anaconda3\\lib\\site-packages (from libpysal>=4.0.0->mgwr) (4.11.1)\n",
      "Requirement already satisfied: packaging in c:\\users\\jitse\\anaconda3\\lib\\site-packages (from libpysal>=4.0.0->mgwr) (21.3)\n",
      "Requirement already satisfied: requests in c:\\users\\jitse\\anaconda3\\lib\\site-packages (from libpysal>=4.0.0->mgwr) (2.28.1)\n",
      "Requirement already satisfied: platformdirs in c:\\users\\jitse\\anaconda3\\lib\\site-packages (from libpysal>=4.0.0->mgwr) (2.6.2)\n",
      "Requirement already satisfied: scikit-learn>=0.22 in c:\\users\\jitse\\anaconda3\\lib\\site-packages (from spreg->mgwr) (1.1.3)\n",
      "Requirement already satisfied: joblib>=1.0.0 in c:\\users\\jitse\\anaconda3\\lib\\site-packages (from scikit-learn>=0.22->spreg->mgwr) (1.1.0)\n",
      "Requirement already satisfied: threadpoolctl>=2.0.0 in c:\\users\\jitse\\anaconda3\\lib\\site-packages (from scikit-learn>=0.22->spreg->mgwr) (2.2.0)\n",
      "Requirement already satisfied: soupsieve>1.2 in c:\\users\\jitse\\anaconda3\\lib\\site-packages (from beautifulsoup4->libpysal>=4.0.0->mgwr) (2.3.1)\n",
      "Requirement already satisfied: MarkupSafe>=2.0 in c:\\users\\jitse\\anaconda3\\lib\\site-packages (from jinja2->libpysal>=4.0.0->mgwr) (2.0.1)\n",
      "Requirement already satisfied: pyparsing!=3.0.5,>=2.0.2 in c:\\users\\jitse\\anaconda3\\lib\\site-packages (from packaging->libpysal>=4.0.0->mgwr) (3.0.4)\n",
      "Requirement already satisfied: pytz>=2020.1 in c:\\users\\jitse\\anaconda3\\lib\\site-packages (from pandas->libpysal>=4.0.0->mgwr) (2021.3)\n",
      "Requirement already satisfied: python-dateutil>=2.8.1 in c:\\users\\jitse\\anaconda3\\lib\\site-packages (from pandas->libpysal>=4.0.0->mgwr) (2.8.2)\n",
      "Requirement already satisfied: charset-normalizer<3,>=2 in c:\\users\\jitse\\anaconda3\\lib\\site-packages (from requests->libpysal>=4.0.0->mgwr) (2.0.4)\n",
      "Requirement already satisfied: certifi>=2017.4.17 in c:\\users\\jitse\\anaconda3\\lib\\site-packages (from requests->libpysal>=4.0.0->mgwr) (2022.12.7)\n",
      "Requirement already satisfied: idna<4,>=2.5 in c:\\users\\jitse\\anaconda3\\lib\\site-packages (from requests->libpysal>=4.0.0->mgwr) (3.4)\n",
      "Requirement already satisfied: urllib3<1.27,>=1.21.1 in c:\\users\\jitse\\anaconda3\\lib\\site-packages (from requests->libpysal>=4.0.0->mgwr) (1.26.13)\n",
      "Requirement already satisfied: six>=1.5 in c:\\users\\jitse\\anaconda3\\lib\\site-packages (from python-dateutil>=2.8.1->pandas->libpysal>=4.0.0->mgwr) (1.16.0)\n",
      "Requirement already satisfied: numba in c:\\users\\jitse\\anaconda3\\lib\\site-packages (0.55.1)\n",
      "Requirement already satisfied: setuptools in c:\\users\\jitse\\anaconda3\\lib\\site-packages (from numba) (65.6.3)\n",
      "Requirement already satisfied: llvmlite<0.39,>=0.38.0rc1 in c:\\users\\jitse\\anaconda3\\lib\\site-packages (from numba) (0.38.0)\n",
      "Requirement already satisfied: numpy<1.22,>=1.18 in c:\\users\\jitse\\anaconda3\\lib\\site-packages (from numba) (1.21.5)\n"
     ]
    }
   ],
   "source": [
    "!pip install geopandas\n",
    "!pip install mgwr\n",
    "!pip install numba"
   ]
  },
  {
   "cell_type": "code",
   "execution_count": 2,
   "id": "6cf83172-2571-49e7-8779-1c0714fa7991",
   "metadata": {
    "tags": []
   },
   "outputs": [],
   "source": [
    "import numpy as np\n",
    "import pandas as pd\n",
    "import pickle\n",
    "import os\n",
    "import multiprocessing\n",
    "os.environ['USE_PYGEOS'] = '0'\n",
    "import geopandas as gp\n",
    "import multiprocessing as mp\n",
    "from mgwr.gwr import GWR,MGWR\n",
    "from mgwr.sel_bw import Sel_BW"
   ]
  },
  {
   "cell_type": "code",
   "execution_count": 7,
   "id": "fd9ad555",
   "metadata": {
    "tags": []
   },
   "outputs": [],
   "source": [
    "#Load the funda data\n",
    "funda_data = gp.read_file(\"data/funda_buy_28-03-2023_full_distances.gpkg\")\n",
    "\n",
    "# funda_data = pd.DataFrame(funda_data)\n",
    "\n",
    "# funda_data = gp.GeoDataFrame(pd.get_dummies(funda_data, columns = [\"house_type\", \"building_type\", \"energy_label\", \"has_balcony\", \"has_garden\"]))"
   ]
  },
  {
   "cell_type": "code",
   "execution_count": 8,
   "id": "b8e57597",
   "metadata": {
    "tags": []
   },
   "outputs": [
    {
     "data": {
      "text/html": [
       "<div>\n",
       "<style scoped>\n",
       "    .dataframe tbody tr th:only-of-type {\n",
       "        vertical-align: middle;\n",
       "    }\n",
       "\n",
       "    .dataframe tbody tr th {\n",
       "        vertical-align: top;\n",
       "    }\n",
       "\n",
       "    .dataframe thead th {\n",
       "        text-align: right;\n",
       "    }\n",
       "</style>\n",
       "<table border=\"1\" class=\"dataframe\">\n",
       "  <thead>\n",
       "    <tr style=\"text-align: right;\">\n",
       "      <th></th>\n",
       "      <th>...1</th>\n",
       "      <th>...2</th>\n",
       "      <th>house_id</th>\n",
       "      <th>house_type</th>\n",
       "      <th>building_type</th>\n",
       "      <th>price</th>\n",
       "      <th>price_m2</th>\n",
       "      <th>room</th>\n",
       "      <th>bedroom</th>\n",
       "      <th>bathroom</th>\n",
       "      <th>...</th>\n",
       "      <th>st_perimet</th>\n",
       "      <th>bus_dist</th>\n",
       "      <th>subway_dist</th>\n",
       "      <th>train_dist</th>\n",
       "      <th>university_dist</th>\n",
       "      <th>school_dist</th>\n",
       "      <th>hospital_dist</th>\n",
       "      <th>mall_dist</th>\n",
       "      <th>supermarket_dist</th>\n",
       "      <th>geometry</th>\n",
       "    </tr>\n",
       "  </thead>\n",
       "  <tbody>\n",
       "    <tr>\n",
       "      <th>0</th>\n",
       "      <td>2.0</td>\n",
       "      <td>1.0</td>\n",
       "      <td>88438538.0</td>\n",
       "      <td>huis</td>\n",
       "      <td>Resale property</td>\n",
       "      <td>515000.0</td>\n",
       "      <td>4327.7</td>\n",
       "      <td>6.0</td>\n",
       "      <td>4.0</td>\n",
       "      <td>0.0</td>\n",
       "      <td>...</td>\n",
       "      <td>661793.548709</td>\n",
       "      <td>48.287385</td>\n",
       "      <td>72823.821958</td>\n",
       "      <td>37242.168681</td>\n",
       "      <td>45737.145495</td>\n",
       "      <td>114.856918</td>\n",
       "      <td>10887.306844</td>\n",
       "      <td>10673.161006</td>\n",
       "      <td>346.305218</td>\n",
       "      <td>POINT (115415.102 562934.410)</td>\n",
       "    </tr>\n",
       "    <tr>\n",
       "      <th>1</th>\n",
       "      <td>3.0</td>\n",
       "      <td>2.0</td>\n",
       "      <td>42954353.0</td>\n",
       "      <td>huis</td>\n",
       "      <td>Resale property</td>\n",
       "      <td>400000.0</td>\n",
       "      <td>3669.7</td>\n",
       "      <td>5.0</td>\n",
       "      <td>4.0</td>\n",
       "      <td>1.0</td>\n",
       "      <td>...</td>\n",
       "      <td>661793.548709</td>\n",
       "      <td>2238.827293</td>\n",
       "      <td>24032.154788</td>\n",
       "      <td>4082.658441</td>\n",
       "      <td>11607.008159</td>\n",
       "      <td>534.086517</td>\n",
       "      <td>612.562468</td>\n",
       "      <td>4174.955689</td>\n",
       "      <td>229.425515</td>\n",
       "      <td>POINT (101584.001 500981.995)</td>\n",
       "    </tr>\n",
       "    <tr>\n",
       "      <th>2</th>\n",
       "      <td>4.0</td>\n",
       "      <td>3.0</td>\n",
       "      <td>42048957.0</td>\n",
       "      <td>huis</td>\n",
       "      <td>Resale property</td>\n",
       "      <td>449000.0</td>\n",
       "      <td>3805.1</td>\n",
       "      <td>6.0</td>\n",
       "      <td>4.0</td>\n",
       "      <td>1.0</td>\n",
       "      <td>...</td>\n",
       "      <td>661793.548709</td>\n",
       "      <td>8967.645367</td>\n",
       "      <td>24944.862763</td>\n",
       "      <td>8506.276991</td>\n",
       "      <td>8812.450336</td>\n",
       "      <td>226.402517</td>\n",
       "      <td>7989.265875</td>\n",
       "      <td>800.931212</td>\n",
       "      <td>489.383006</td>\n",
       "      <td>POINT (105924.643 507742.212)</td>\n",
       "    </tr>\n",
       "    <tr>\n",
       "      <th>3</th>\n",
       "      <td>6.0</td>\n",
       "      <td>5.0</td>\n",
       "      <td>42026862.0</td>\n",
       "      <td>huis</td>\n",
       "      <td>Resale property</td>\n",
       "      <td>550000.0</td>\n",
       "      <td>5000.0</td>\n",
       "      <td>4.0</td>\n",
       "      <td>3.0</td>\n",
       "      <td>1.0</td>\n",
       "      <td>...</td>\n",
       "      <td>661793.548709</td>\n",
       "      <td>2814.126342</td>\n",
       "      <td>6056.986976</td>\n",
       "      <td>3496.778087</td>\n",
       "      <td>3194.255205</td>\n",
       "      <td>256.180597</td>\n",
       "      <td>1518.237236</td>\n",
       "      <td>3800.247983</td>\n",
       "      <td>490.721764</td>\n",
       "      <td>POINT (115144.000 484579.000)</td>\n",
       "    </tr>\n",
       "    <tr>\n",
       "      <th>4</th>\n",
       "      <td>7.0</td>\n",
       "      <td>6.0</td>\n",
       "      <td>42046726.0</td>\n",
       "      <td>huis</td>\n",
       "      <td>Resale property</td>\n",
       "      <td>695000.0</td>\n",
       "      <td>3948.9</td>\n",
       "      <td>6.0</td>\n",
       "      <td>4.0</td>\n",
       "      <td>1.0</td>\n",
       "      <td>...</td>\n",
       "      <td>661793.548709</td>\n",
       "      <td>2282.536350</td>\n",
       "      <td>18086.155516</td>\n",
       "      <td>2811.469742</td>\n",
       "      <td>8697.159686</td>\n",
       "      <td>489.214342</td>\n",
       "      <td>1983.483710</td>\n",
       "      <td>2225.233823</td>\n",
       "      <td>678.155570</td>\n",
       "      <td>POINT (103400.326 480554.963)</td>\n",
       "    </tr>\n",
       "  </tbody>\n",
       "</table>\n",
       "<p>5 rows × 40 columns</p>\n",
       "</div>"
      ],
      "text/plain": [
       "   ...1  ...2    house_id house_type    building_type     price  price_m2  \\\n",
       "0   2.0   1.0  88438538.0       huis  Resale property  515000.0    4327.7   \n",
       "1   3.0   2.0  42954353.0       huis  Resale property  400000.0    3669.7   \n",
       "2   4.0   3.0  42048957.0       huis  Resale property  449000.0    3805.1   \n",
       "3   6.0   5.0  42026862.0       huis  Resale property  550000.0    5000.0   \n",
       "4   7.0   6.0  42046726.0       huis  Resale property  695000.0    3948.9   \n",
       "\n",
       "   room  bedroom  bathroom  ...     st_perimet     bus_dist   subway_dist  \\\n",
       "0   6.0      4.0       0.0  ...  661793.548709    48.287385  72823.821958   \n",
       "1   5.0      4.0       1.0  ...  661793.548709  2238.827293  24032.154788   \n",
       "2   6.0      4.0       1.0  ...  661793.548709  8967.645367  24944.862763   \n",
       "3   4.0      3.0       1.0  ...  661793.548709  2814.126342   6056.986976   \n",
       "4   6.0      4.0       1.0  ...  661793.548709  2282.536350  18086.155516   \n",
       "\n",
       "     train_dist university_dist  school_dist  hospital_dist     mall_dist  \\\n",
       "0  37242.168681    45737.145495   114.856918   10887.306844  10673.161006   \n",
       "1   4082.658441    11607.008159   534.086517     612.562468   4174.955689   \n",
       "2   8506.276991     8812.450336   226.402517    7989.265875    800.931212   \n",
       "3   3496.778087     3194.255205   256.180597    1518.237236   3800.247983   \n",
       "4   2811.469742     8697.159686   489.214342    1983.483710   2225.233823   \n",
       "\n",
       "  supermarket_dist                       geometry  \n",
       "0       346.305218  POINT (115415.102 562934.410)  \n",
       "1       229.425515  POINT (101584.001 500981.995)  \n",
       "2       489.383006  POINT (105924.643 507742.212)  \n",
       "3       490.721764  POINT (115144.000 484579.000)  \n",
       "4       678.155570  POINT (103400.326 480554.963)  \n",
       "\n",
       "[5 rows x 40 columns]"
      ]
     },
     "execution_count": 8,
     "metadata": {},
     "output_type": "execute_result"
    }
   ],
   "source": [
    "#show funda data\n",
    "funda_data['house_type'] = funda_data['house_type'].astype('category')\n",
    "funda_data.head()"
   ]
  },
  {
   "cell_type": "code",
   "execution_count": 9,
   "id": "57602051",
   "metadata": {
    "tags": []
   },
   "outputs": [],
   "source": [
    "#create array with the dependent variable\n",
    "b_y = funda_data['price'].values.reshape((-1,1))"
   ]
  },
  {
   "cell_type": "code",
   "execution_count": 10,
   "id": "f71b862e",
   "metadata": {
    "tags": []
   },
   "outputs": [],
   "source": [
    "# #create an array with the indepentend variables (order matters for the extraction of params later)\n",
    "# b_X = funda_data[['room', 'bedroom', 'bathroom', 'living_area',\n",
    "#                   'house_age', 'bus_dist', 'subway_dist', 'train_dist',\n",
    "#                   'university_dist', 'school_dist', 'mall_dist', 'supermarket_dist',\n",
    "#                   'energy_label_A', 'energy_label_B', 'energy_label_C', 'energy_label_D',\n",
    "#                   'energy_label_E', 'energy_label_F', 'energy_label_G', 'energy_label_na',\n",
    "#                   'has_balcony_0.0', 'has_balcony_1.0', 'has_garden_0.0', 'has_garden_1.0']].values \n",
    "\n",
    "cols = ['room', 'bedroom', 'bathroom', 'living_area',\n",
    "                  'house_age', 'bus_dist', 'subway_dist', 'train_dist',\n",
    "                  'university_dist', 'school_dist', 'mall_dist', 'supermarket_dist']\n",
    "\n",
    "b_X = funda_data[cols].values "
   ]
  },
  {
   "cell_type": "code",
   "execution_count": 11,
   "id": "8679d9dc",
   "metadata": {
    "tags": []
   },
   "outputs": [],
   "source": [
    "#create coordinate tuple for the model\n",
    "u = funda_data['geometry'].x\n",
    "v = funda_data['geometry'].y\n",
    "b_coords = list(zip(u, v))"
   ]
  },
  {
   "cell_type": "code",
   "execution_count": 12,
   "id": "1d1a8646",
   "metadata": {
    "tags": []
   },
   "outputs": [
    {
     "data": {
      "text/plain": [
       "8"
      ]
     },
     "execution_count": 12,
     "metadata": {},
     "output_type": "execute_result"
    }
   ],
   "source": [
    "multiprocessing.cpu_count()"
   ]
  },
  {
   "cell_type": "code",
   "execution_count": 13,
   "id": "98779759-2d6a-465d-9151-2f79043e2a0c",
   "metadata": {
    "tags": []
   },
   "outputs": [
    {
     "name": "stdout",
     "output_type": "stream",
     "text": [
      "env: OMP_NUM_THREADS=1\n"
     ]
    }
   ],
   "source": [
    "#This might be needed to turn off the OpenMP multi-threading\n",
    "%env OMP_NUM_THREADS = 1"
   ]
  },
  {
   "cell_type": "code",
   "execution_count": 16,
   "id": "fb016831",
   "metadata": {
    "tags": []
   },
   "outputs": [],
   "source": [
    "#Parrallelization is more favored when you your data are large and/or your machine have many many cores.\n",
    "#mgwr has soft dependency of numba, please install numba if you need better performance (pip install numba).\n",
    "n_proc = 4 #two processors\n",
    "pool = mp.Pool(n_proc) "
   ]
  },
  {
   "cell_type": "code",
   "execution_count": 17,
   "id": "28a7c138",
   "metadata": {
    "tags": []
   },
   "outputs": [
    {
     "name": "stdout",
     "output_type": "stream",
     "text": [
      "132.0\n",
      "CPU times: total: 344 ms\n",
      "Wall time: 2min 3s\n"
     ]
    }
   ],
   "source": [
    "%%time\n",
    "#Run basic GWR in parrallel mode\n",
    "\n",
    "gwr_selector = Sel_BW(b_coords, b_y, b_X)\n",
    "gwr_bw = gwr_selector.search(pool = pool) #add pool to Sel_BW.search\n",
    "print(gwr_bw)\n",
    "gwr_results = GWR(b_coords, b_y, b_X, gwr_bw).fit(pool = pool)"
   ]
  },
  {
   "cell_type": "code",
   "execution_count": 18,
   "id": "21ee9361",
   "metadata": {
    "tags": []
   },
   "outputs": [
    {
     "name": "stdout",
     "output_type": "stream",
     "text": [
      "===========================================================================\n",
      "Model type                                                         Gaussian\n",
      "Number of observations:                                                7211\n",
      "Number of covariates:                                                    13\n",
      "\n",
      "Global Regression Results\n",
      "---------------------------------------------------------------------------\n",
      "Residual sum of squares:                                       790706956935048.125\n",
      "Log-likelihood:                                                 -101885.887\n",
      "AIC:                                                             203797.774\n",
      "AICc:                                                            203799.833\n",
      "BIC:                                                           790706956871105.625\n",
      "R2:                                                                   0.633\n",
      "Adj. R2:                                                              0.633\n",
      "\n",
      "Variable                              Est.         SE  t(Est/SE)    p-value\n",
      "------------------------------- ---------- ---------- ---------- ----------\n",
      "X0                               39238.626  12383.610      3.169      0.002\n",
      "X1                               43841.234   5086.627      8.619      0.000\n",
      "X2                              -65593.421   5768.272    -11.371      0.000\n",
      "X3                              115584.621   7010.109     16.488      0.000\n",
      "X4                                5135.878     85.602     59.997      0.000\n",
      "X5                                  32.267     14.764      2.185      0.029\n",
      "X6                                  -7.411      1.653     -4.484      0.000\n",
      "X7                                  -5.127      0.456    -11.242      0.000\n",
      "X8                                   1.770      0.949      1.866      0.062\n",
      "X9                                  -8.665      0.702    -12.336      0.000\n",
      "X10                                 31.544      8.111      3.889      0.000\n",
      "X11                                  2.816      1.910      1.475      0.140\n",
      "X12                                 -8.532      9.159     -0.932      0.352\n",
      "\n",
      "Geographically Weighted Regression (GWR) Results\n",
      "---------------------------------------------------------------------------\n",
      "Spatial kernel:                                           Adaptive bisquare\n",
      "Bandwidth used:                                                     132.000\n",
      "\n",
      "Diagnostic information\n",
      "---------------------------------------------------------------------------\n",
      "Residual sum of squares:                                       200370934074773.188\n",
      "Effective number of parameters (trace(S)):                         1333.576\n",
      "Degree of freedom (n - trace(S)):                                  5877.424\n",
      "Sigma estimate:                                                  184639.182\n",
      "Log-likelihood:                                                  -96936.411\n",
      "AIC:                                                             196541.976\n",
      "AICc:                                                            197148.716\n",
      "BIC:                                                             205728.350\n",
      "R2:                                                                   0.907\n",
      "Adjusted R2:                                                          0.886\n",
      "Adj. alpha (95%):                                                     0.000\n",
      "Adj. critical t value (95%):                                          3.489\n",
      "\n",
      "Summary Statistics For GWR Parameter Estimates\n",
      "---------------------------------------------------------------------------\n",
      "Variable                   Mean        STD        Min     Median        Max\n",
      "-------------------- ---------- ---------- ---------- ---------- ----------\n",
      "X0                   282041.025 9812392.249 -109871149.667 223509.968 52916266.826\n",
      "X1                      940.480  62771.268 -415608.135   4208.103 406339.553\n",
      "X2                   -23712.304  63756.989 -432657.764 -22707.427 194595.079\n",
      "X3                    36323.012  70794.845 -569450.643  25040.693 331902.552\n",
      "X4                     5253.913   3053.580    320.577   4571.318  25450.901\n",
      "X5                     -161.931   1255.329 -14647.539    -25.403  11004.418\n",
      "X6                       15.560    487.739  -4380.077     11.473   6165.799\n",
      "X7                     1724.564  31923.625 -331726.825     -4.748 535430.592\n",
      "X8                    -1767.334  32327.580 -540890.017      0.269 335494.529\n",
      "X9                      103.253   1584.334 -12674.946     -0.214  22414.724\n",
      "X10                       4.478    188.062  -1125.941     17.372    735.531\n",
      "X11                     -48.714    403.891  -8019.531     10.316   1945.036\n",
      "X12                      89.726    289.537  -1886.341     53.739   3196.727\n",
      "===========================================================================\n",
      "\n"
     ]
    }
   ],
   "source": [
    "#show summary\n",
    "gwr_results.summary()"
   ]
  },
  {
   "cell_type": "code",
   "execution_count": null,
   "id": "196984a0",
   "metadata": {
    "tags": []
   },
   "outputs": [
    {
     "data": {
      "application/vnd.jupyter.widget-view+json": {
       "model_id": "23aaeaa22380422eaf42b1da223c6a9a",
       "version_major": 2,
       "version_minor": 0
      },
      "text/plain": [
       "Backfitting:   0%|          | 0/200 [00:00<?, ?it/s]"
      ]
     },
     "metadata": {},
     "output_type": "display_data"
    }
   ],
   "source": [
    "%%time\n",
    "#run MGWR in parrallel mode. Note: max_iter_multi needs to be specified\n",
    "\n",
    "mgwr_selector = Sel_BW(b_coords, b_y, b_X, multi=True)\n",
    "mgwr_bw = mgwr_selector.search(pool=pool, max_iter_multi=200, criterion = \"AICc\") #add pool to Sel_BW.search\n",
    "print(mgwr_bw)\n",
    "mgwr_results = MGWR(b_coords, b_y, b_X, selector=mgwr_selector).fit(pool=pool)"
   ]
  },
  {
   "cell_type": "code",
   "execution_count": null,
   "id": "c559cecf",
   "metadata": {
    "tags": []
   },
   "outputs": [],
   "source": [
    "#show MGWR model summary\n",
    "mgwr_results.summary()"
   ]
  },
  {
   "cell_type": "code",
   "execution_count": 24,
   "id": "3c224fb8",
   "metadata": {},
   "outputs": [],
   "source": [
    "#recreate R format table\n",
    "\n",
    "def return_geopackage(mgwr_results,cols, path_name):\n",
    "    df = gp.GeoDataFrame()\n",
    "    df['Intercept'] = mgwr_results.params[:,0]\n",
    "    df['intercept_SE'] = mgwr_results.bse[:,0]\n",
    "    df['intercept_TV'] = mgwr_results.tvalues[:,0]\n",
    "    \n",
    "    df['yhat'] = mgwr_results.predy\n",
    "    df['residual'] = mgwr_results.y.reshape((-1,1)) - mgwr_results.predy\n",
    "    \n",
    "    for i,col in enumerate(cols):\n",
    "        \n",
    "        df[col] = mgwr_results.params[:,i+1]\n",
    "\n",
    "        df[col+'_SE'] = mgwr_results.bse[:,i+1]\n",
    "        df[col+'_TV'] = mgwr_results.tvalues[:,i+1]\n",
    "        \n",
    "    df['geometry'] = funda_data['geometry']\n",
    "    df.to_file(path_name)"
   ]
  },
  {
   "cell_type": "code",
   "execution_count": 25,
   "id": "68269e6f",
   "metadata": {},
   "outputs": [],
   "source": [
    "#show the GeoDataFrame and write it to a folder\n",
    "return_geopackage(gwr_results,cols, 'data/gwr_results_full.gpkg')"
   ]
  },
  {
   "cell_type": "code",
   "execution_count": 87,
   "id": "ee3e9569",
   "metadata": {},
   "outputs": [],
   "source": [
    "# pickle.dump(gwr_results, open('data/models/gwr_results.pkl', 'wb'))"
   ]
  },
  {
   "cell_type": "code",
   "execution_count": 8,
   "id": "302f9c53",
   "metadata": {},
   "outputs": [],
   "source": [
    "# gwr_results = pickle.load(open('data/models/gwr_results.pkl', 'rb'))"
   ]
  }
 ],
 "metadata": {
  "kernelspec": {
   "display_name": "Python 3 (ipykernel)",
   "language": "python",
   "name": "python3"
  },
  "language_info": {
   "codemirror_mode": {
    "name": "ipython",
    "version": 3
   },
   "file_extension": ".py",
   "mimetype": "text/x-python",
   "name": "python",
   "nbconvert_exporter": "python",
   "pygments_lexer": "ipython3",
   "version": "3.9.12"
  }
 },
 "nbformat": 4,
 "nbformat_minor": 5
}
