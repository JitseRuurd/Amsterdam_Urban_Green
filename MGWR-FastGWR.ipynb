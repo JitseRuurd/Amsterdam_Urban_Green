{
 "cells": [
  {
   "cell_type": "code",
   "execution_count": 1,
   "id": "8eacc0f1",
   "metadata": {},
   "outputs": [],
   "source": [
    "####\n",
    "# 1. Initialise\n",
    "####\n",
    "# Load Packages\n",
    "import math\n",
    "import sys,os\n",
    "import numpy as np\n",
    "import pandas as pd\n",
    "\n",
    "from mgwr.gwr import GWR,GWRResults\n",
    "from mgwr.sel_bw import Sel_BW"
   ]
  },
  {
   "cell_type": "code",
   "execution_count": 4,
   "id": "5ec5bfdb",
   "metadata": {},
   "outputs": [
    {
     "data": {
      "text/html": [
       "<div>\n",
       "<style scoped>\n",
       "    .dataframe tbody tr th:only-of-type {\n",
       "        vertical-align: middle;\n",
       "    }\n",
       "\n",
       "    .dataframe tbody tr th {\n",
       "        vertical-align: top;\n",
       "    }\n",
       "\n",
       "    .dataframe thead th {\n",
       "        text-align: right;\n",
       "    }\n",
       "</style>\n",
       "<table border=\"1\" class=\"dataframe\">\n",
       "  <thead>\n",
       "    <tr style=\"text-align: right;\">\n",
       "      <th></th>\n",
       "      <th>utmX</th>\n",
       "      <th>utmY</th>\n",
       "      <th>value</th>\n",
       "      <th>nbaths</th>\n",
       "      <th>nbeds</th>\n",
       "      <th>area</th>\n",
       "      <th>age</th>\n",
       "    </tr>\n",
       "  </thead>\n",
       "  <tbody>\n",
       "    <tr>\n",
       "      <th>0</th>\n",
       "      <td>374161.333830</td>\n",
       "      <td>3.757568e+06</td>\n",
       "      <td>56.976</td>\n",
       "      <td>1.0</td>\n",
       "      <td>2.0</td>\n",
       "      <td>954.0</td>\n",
       "      <td>71.0</td>\n",
       "    </tr>\n",
       "    <tr>\n",
       "      <th>1</th>\n",
       "      <td>412657.822910</td>\n",
       "      <td>3.761734e+06</td>\n",
       "      <td>157.982</td>\n",
       "      <td>2.0</td>\n",
       "      <td>4.0</td>\n",
       "      <td>1614.0</td>\n",
       "      <td>45.0</td>\n",
       "    </tr>\n",
       "    <tr>\n",
       "      <th>2</th>\n",
       "      <td>391600.475640</td>\n",
       "      <td>3.782212e+06</td>\n",
       "      <td>512.612</td>\n",
       "      <td>4.0</td>\n",
       "      <td>4.0</td>\n",
       "      <td>2962.0</td>\n",
       "      <td>54.0</td>\n",
       "    </tr>\n",
       "    <tr>\n",
       "      <th>3</th>\n",
       "      <td>375056.064681</td>\n",
       "      <td>3.748579e+06</td>\n",
       "      <td>111.437</td>\n",
       "      <td>2.0</td>\n",
       "      <td>3.0</td>\n",
       "      <td>1292.0</td>\n",
       "      <td>65.0</td>\n",
       "    </tr>\n",
       "    <tr>\n",
       "      <th>4</th>\n",
       "      <td>388693.693038</td>\n",
       "      <td>3.779865e+06</td>\n",
       "      <td>128.327</td>\n",
       "      <td>1.0</td>\n",
       "      <td>3.0</td>\n",
       "      <td>1169.0</td>\n",
       "      <td>78.0</td>\n",
       "    </tr>\n",
       "  </tbody>\n",
       "</table>\n",
       "</div>"
      ],
      "text/plain": [
       "            utmX          utmY    value  nbaths  nbeds    area   age\n",
       "0  374161.333830  3.757568e+06   56.976     1.0    2.0   954.0  71.0\n",
       "1  412657.822910  3.761734e+06  157.982     2.0    4.0  1614.0  45.0\n",
       "2  391600.475640  3.782212e+06  512.612     4.0    4.0  2962.0  54.0\n",
       "3  375056.064681  3.748579e+06  111.437     2.0    3.0  1292.0  65.0\n",
       "4  388693.693038  3.779865e+06  128.327     1.0    3.0  1169.0  78.0"
      ]
     },
     "execution_count": 4,
     "metadata": {},
     "output_type": "execute_result"
    }
   ],
   "source": [
    "####\n",
    "# 2. Obtain Data\n",
    "####\n",
    "# Load Data\n",
    "zillow = pd.read_csv('https://raw.github.com/Ziqi-Li/FastGWR/master/Zillow-test-dataset/zillow_1k.csv')\n",
    "\n",
    "# Examine Data\n",
    "zillow.head()"
   ]
  },
  {
   "cell_type": "code",
   "execution_count": 5,
   "id": "3bce44cd",
   "metadata": {},
   "outputs": [],
   "source": [
    "####\n",
    "# 3. Pre-Processing\n",
    "####\n",
    "# Pre-Process Data\n",
    "y = zillow.value.values.reshape(-1,1)\n",
    "X = zillow.iloc[:,3:].values\n",
    "k = zillow.shape[1]\n",
    "u = zillow.utmX\n",
    "v = zillow.utmY\n",
    "n = zillow.shape[0]\n",
    "coords = np.array(list(zip(u,v)))"
   ]
  },
  {
   "cell_type": "code",
   "execution_count": 8,
   "id": "31f60575",
   "metadata": {},
   "outputs": [
    {
     "name": "stdout",
     "output_type": "stream",
     "text": [
      "Bandwidth:  413.0 , score:  12584.09\n",
      "Bandwidth:  637.0 , score:  12610.63\n",
      "Bandwidth:  274.0 , score:  12560.15\n",
      "Bandwidth:  189.0 , score:  12539.42\n",
      "Bandwidth:  136.0 , score:  12521.75\n",
      "Bandwidth:  103.0 , score:  12507.03\n",
      "Bandwidth:  83.0 , score:  12494.53\n",
      "Bandwidth:  70.0 , score:  12484.69\n",
      "Bandwidth:  63.0 , score:  12475.10\n",
      "Bandwidth:  58.0 , score:  12471.57\n",
      "Bandwidth:  55.0 , score:  12467.20\n",
      "Bandwidth:  53.0 , score:  12465.24\n",
      "Bandwidth:  52.0 , score:  12463.64\n",
      "Bandwidth:  51.0 , score:  12462.69\n"
     ]
    }
   ],
   "source": [
    "####\n",
    "# 4. GWR: Fit\n",
    "####\n",
    "# Search Bandwidth\n",
    "bw_adj = Sel_BW(coords, y, X, fixed = False, kernel = 'gaussian').search(verbose = True)\n",
    "\n",
    "# Fit Model\n",
    "gwr_model = GWR(coords, y, X, bw_adj, fixed = False, kernel = 'gaussian').fit()"
   ]
  },
  {
   "cell_type": "code",
   "execution_count": 14,
   "id": "c741d2eb",
   "metadata": {},
   "outputs": [
    {
     "data": {
      "text/html": [
       "<div>\n",
       "<style scoped>\n",
       "    .dataframe tbody tr th:only-of-type {\n",
       "        vertical-align: middle;\n",
       "    }\n",
       "\n",
       "    .dataframe tbody tr th {\n",
       "        vertical-align: top;\n",
       "    }\n",
       "\n",
       "    .dataframe thead th {\n",
       "        text-align: right;\n",
       "    }\n",
       "</style>\n",
       "<table border=\"1\" class=\"dataframe\">\n",
       "  <thead>\n",
       "    <tr style=\"text-align: right;\">\n",
       "      <th></th>\n",
       "      <th>value</th>\n",
       "      <th>nbaths</th>\n",
       "      <th>nbeds</th>\n",
       "      <th>area</th>\n",
       "      <th>age</th>\n",
       "    </tr>\n",
       "  </thead>\n",
       "  <tbody>\n",
       "    <tr>\n",
       "      <th>0</th>\n",
       "      <td>122.811233</td>\n",
       "      <td>25.256714</td>\n",
       "      <td>-49.684341</td>\n",
       "      <td>0.194813</td>\n",
       "      <td>-2.628218</td>\n",
       "    </tr>\n",
       "    <tr>\n",
       "      <th>1</th>\n",
       "      <td>7.855473</td>\n",
       "      <td>3.637686</td>\n",
       "      <td>-7.975085</td>\n",
       "      <td>0.118298</td>\n",
       "      <td>-0.748558</td>\n",
       "    </tr>\n",
       "    <tr>\n",
       "      <th>2</th>\n",
       "      <td>-14.679705</td>\n",
       "      <td>47.118100</td>\n",
       "      <td>-6.984508</td>\n",
       "      <td>0.083002</td>\n",
       "      <td>-0.442852</td>\n",
       "    </tr>\n",
       "    <tr>\n",
       "      <th>3</th>\n",
       "      <td>126.520632</td>\n",
       "      <td>11.022774</td>\n",
       "      <td>-54.047796</td>\n",
       "      <td>0.196336</td>\n",
       "      <td>-2.510468</td>\n",
       "    </tr>\n",
       "    <tr>\n",
       "      <th>4</th>\n",
       "      <td>3.689107</td>\n",
       "      <td>46.441138</td>\n",
       "      <td>-11.950367</td>\n",
       "      <td>0.086789</td>\n",
       "      <td>-0.556383</td>\n",
       "    </tr>\n",
       "  </tbody>\n",
       "</table>\n",
       "</div>"
      ],
      "text/plain": [
       "        value     nbaths      nbeds      area       age\n",
       "0  122.811233  25.256714 -49.684341  0.194813 -2.628218\n",
       "1    7.855473   3.637686  -7.975085  0.118298 -0.748558\n",
       "2  -14.679705  47.118100  -6.984508  0.083002 -0.442852\n",
       "3  126.520632  11.022774 -54.047796  0.196336 -2.510468\n",
       "4    3.689107  46.441138 -11.950367  0.086789 -0.556383"
      ]
     },
     "execution_count": 14,
     "metadata": {},
     "output_type": "execute_result"
    }
   ],
   "source": [
    "####\n",
    "# 5. GWR: Evaluate\n",
    "####\n",
    "# Evaluate Data\n",
    "df_gwr = pd.DataFrame(gwr_model.params, columns = ['value', 'nbaths', 'nbeds', 'area', 'age'])\n",
    "\n",
    "# Examine Data\n",
    "df_gwr.head()"
   ]
  },
  {
   "cell_type": "code",
   "execution_count": null,
   "id": "89bec512",
   "metadata": {},
   "outputs": [
    {
     "data": {
      "application/json": {
       "ascii": false,
       "bar_format": null,
       "colour": null,
       "elapsed": 0.00862884521484375,
       "initial": 0,
       "n": 0,
       "ncols": null,
       "nrows": 24,
       "postfix": null,
       "prefix": "Backfitting",
       "rate": null,
       "total": 200,
       "unit": "it",
       "unit_divisor": 1000,
       "unit_scale": false
      },
      "application/vnd.jupyter.widget-view+json": {
       "model_id": "80e5871ad1cc4e5a8e7623e967aa172f",
       "version_major": 2,
       "version_minor": 0
      },
      "text/plain": [
       "Backfitting:   0%|          | 0/200 [00:00<?, ?it/s]"
      ]
     },
     "metadata": {},
     "output_type": "display_data"
    },
    {
     "name": "stdout",
     "output_type": "stream",
     "text": [
      "Current iteration: 1 ,SOC: 0.0094306\n",
      "Bandwidths: 50.0, 55.0, 48.0, 64.0, 57.0\n",
      "Current iteration: 2 ,SOC: 0.0068096\n",
      "Bandwidths: 64.0, 70.0, 70.0, 80.0, 83.0\n",
      "Current iteration: 3 ,SOC: 0.0059313\n",
      "Bandwidths: 88.0, 88.0, 105.0, 88.0, 116.0\n",
      "Current iteration: 4 ,SOC: 0.0051959\n",
      "Bandwidths: 132.0, 108.0, 116.0, 120.0, 129.0\n",
      "Current iteration: 5 ,SOC: 0.003833\n",
      "Bandwidths: 143.0, 121.0, 128.0, 128.0, 149.0\n",
      "Current iteration: 6 ,SOC: 0.0035922\n",
      "Bandwidths: 183.0, 127.0, 153.0, 128.0, 190.0\n",
      "Current iteration: 7 ,SOC: 0.0031828\n",
      "Bandwidths: 202.0, 132.0, 170.0, 120.0, 270.0\n",
      "Current iteration: 8 ,SOC: 0.0029173\n",
      "Bandwidths: 235.0, 159.0, 174.0, 98.0, 305.0\n"
     ]
    }
   ],
   "source": [
    "####\n",
    "# 6. MGWR: Fit\n",
    "####\n",
    "# Search Bandwidth\n",
    "selector = Sel_BW(coords,y,X,multi=True)\n",
    "bws = selector.search(verbose=True)\n",
    "print(\"Optimal Bandwidths:\",bws)\n",
    "\n",
    "#Fitting the model with optimal bandwidth\n",
    "#pysal_result_mgwr=MGWR(coords,y,X,selector=selector).fit()"
   ]
  }
 ],
 "metadata": {
  "kernelspec": {
   "display_name": "Python 3 (ipykernel)",
   "language": "python",
   "name": "python3"
  },
  "language_info": {
   "codemirror_mode": {
    "name": "ipython",
    "version": 3
   },
   "file_extension": ".py",
   "mimetype": "text/x-python",
   "name": "python",
   "nbconvert_exporter": "python",
   "pygments_lexer": "ipython3",
   "version": "3.9.12"
  }
 },
 "nbformat": 4,
 "nbformat_minor": 5
}
