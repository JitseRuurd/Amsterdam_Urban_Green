{
 "cells": [
  {
   "cell_type": "code",
   "execution_count": 1,
   "id": "ec5010d0",
   "metadata": {
    "tags": []
   },
   "outputs": [
    {
     "name": "stdout",
     "output_type": "stream",
     "text": [
      "Requirement already satisfied: geopandas in c:\\users\\jitse\\anaconda3\\lib\\site-packages (0.12.2)\n",
      "Requirement already satisfied: fiona>=1.8 in c:\\users\\jitse\\anaconda3\\lib\\site-packages (from geopandas) (1.9.2)\n",
      "Requirement already satisfied: shapely>=1.7 in c:\\users\\jitse\\anaconda3\\lib\\site-packages (from geopandas) (2.0.1)\n",
      "Requirement already satisfied: pandas>=1.0.0 in c:\\users\\jitse\\anaconda3\\lib\\site-packages (from geopandas) (1.4.2)\n",
      "Requirement already satisfied: pyproj>=2.6.1.post1 in c:\\users\\jitse\\anaconda3\\lib\\site-packages (from geopandas) (3.5.0)\n",
      "Requirement already satisfied: packaging in c:\\users\\jitse\\anaconda3\\lib\\site-packages (from geopandas) (21.3)\n",
      "Requirement already satisfied: click-plugins>=1.0 in c:\\users\\jitse\\anaconda3\\lib\\site-packages (from fiona>=1.8->geopandas) (1.1.1)\n",
      "Requirement already satisfied: importlib-metadata in c:\\users\\jitse\\anaconda3\\lib\\site-packages (from fiona>=1.8->geopandas) (4.11.3)\n",
      "Requirement already satisfied: attrs>=19.2.0 in c:\\users\\jitse\\anaconda3\\lib\\site-packages (from fiona>=1.8->geopandas) (21.4.0)\n",
      "Requirement already satisfied: certifi in c:\\users\\jitse\\anaconda3\\lib\\site-packages (from fiona>=1.8->geopandas) (2022.12.7)\n",
      "Requirement already satisfied: cligj>=0.5 in c:\\users\\jitse\\anaconda3\\lib\\site-packages (from fiona>=1.8->geopandas) (0.7.2)\n",
      "Requirement already satisfied: munch>=2.3.2 in c:\\users\\jitse\\anaconda3\\lib\\site-packages (from fiona>=1.8->geopandas) (2.5.0)\n",
      "Requirement already satisfied: click~=8.0 in c:\\users\\jitse\\anaconda3\\lib\\site-packages (from fiona>=1.8->geopandas) (8.0.4)\n",
      "Requirement already satisfied: python-dateutil>=2.8.1 in c:\\users\\jitse\\anaconda3\\lib\\site-packages (from pandas>=1.0.0->geopandas) (2.8.2)\n",
      "Requirement already satisfied: pytz>=2020.1 in c:\\users\\jitse\\anaconda3\\lib\\site-packages (from pandas>=1.0.0->geopandas) (2021.3)\n",
      "Requirement already satisfied: numpy>=1.18.5 in c:\\users\\jitse\\anaconda3\\lib\\site-packages (from pandas>=1.0.0->geopandas) (1.21.5)\n",
      "Requirement already satisfied: pyparsing!=3.0.5,>=2.0.2 in c:\\users\\jitse\\anaconda3\\lib\\site-packages (from packaging->geopandas) (3.0.4)\n",
      "Requirement already satisfied: colorama in c:\\users\\jitse\\anaconda3\\lib\\site-packages (from click~=8.0->fiona>=1.8->geopandas) (0.4.4)\n",
      "Requirement already satisfied: six in c:\\users\\jitse\\anaconda3\\lib\\site-packages (from munch>=2.3.2->fiona>=1.8->geopandas) (1.16.0)\n",
      "Requirement already satisfied: zipp>=0.5 in c:\\users\\jitse\\anaconda3\\lib\\site-packages (from importlib-metadata->fiona>=1.8->geopandas) (3.7.0)\n",
      "Requirement already satisfied: mgwr in c:\\users\\jitse\\anaconda3\\lib\\site-packages (2.1.2)\n",
      "Requirement already satisfied: libpysal>=4.0.0 in c:\\users\\jitse\\anaconda3\\lib\\site-packages (from mgwr) (4.7.0)\n",
      "Requirement already satisfied: scipy>=0.11 in c:\\users\\jitse\\anaconda3\\lib\\site-packages (from mgwr) (1.7.3)\n",
      "Requirement already satisfied: spreg in c:\\users\\jitse\\anaconda3\\lib\\site-packages (from mgwr) (1.3.0)\n",
      "Requirement already satisfied: spglm>=1.0.6 in c:\\users\\jitse\\anaconda3\\lib\\site-packages (from mgwr) (1.0.8)\n",
      "Requirement already satisfied: numpy>=1.3 in c:\\users\\jitse\\anaconda3\\lib\\site-packages (from mgwr) (1.21.5)\n",
      "Requirement already satisfied: beautifulsoup4 in c:\\users\\jitse\\anaconda3\\lib\\site-packages (from libpysal>=4.0.0->mgwr) (4.11.1)\n",
      "Requirement already satisfied: jinja2 in c:\\users\\jitse\\anaconda3\\lib\\site-packages (from libpysal>=4.0.0->mgwr) (3.0.3)\n",
      "Requirement already satisfied: platformdirs in c:\\users\\jitse\\anaconda3\\lib\\site-packages (from libpysal>=4.0.0->mgwr) (2.6.2)\n",
      "Requirement already satisfied: packaging in c:\\users\\jitse\\anaconda3\\lib\\site-packages (from libpysal>=4.0.0->mgwr) (21.3)\n",
      "Requirement already satisfied: pandas in c:\\users\\jitse\\anaconda3\\lib\\site-packages (from libpysal>=4.0.0->mgwr) (1.4.2)\n",
      "Requirement already satisfied: requests in c:\\users\\jitse\\anaconda3\\lib\\site-packages (from libpysal>=4.0.0->mgwr) (2.28.1)\n",
      "Requirement already satisfied: scikit-learn>=0.22 in c:\\users\\jitse\\anaconda3\\lib\\site-packages (from spreg->mgwr) (1.1.3)\n",
      "Requirement already satisfied: threadpoolctl>=2.0.0 in c:\\users\\jitse\\anaconda3\\lib\\site-packages (from scikit-learn>=0.22->spreg->mgwr) (2.2.0)\n",
      "Requirement already satisfied: joblib>=1.0.0 in c:\\users\\jitse\\anaconda3\\lib\\site-packages (from scikit-learn>=0.22->spreg->mgwr) (1.1.0)\n",
      "Requirement already satisfied: soupsieve>1.2 in c:\\users\\jitse\\anaconda3\\lib\\site-packages (from beautifulsoup4->libpysal>=4.0.0->mgwr) (2.3.1)\n",
      "Requirement already satisfied: MarkupSafe>=2.0 in c:\\users\\jitse\\anaconda3\\lib\\site-packages (from jinja2->libpysal>=4.0.0->mgwr) (2.0.1)\n",
      "Requirement already satisfied: pyparsing!=3.0.5,>=2.0.2 in c:\\users\\jitse\\anaconda3\\lib\\site-packages (from packaging->libpysal>=4.0.0->mgwr) (3.0.4)\n",
      "Requirement already satisfied: pytz>=2020.1 in c:\\users\\jitse\\anaconda3\\lib\\site-packages (from pandas->libpysal>=4.0.0->mgwr) (2021.3)\n",
      "Requirement already satisfied: python-dateutil>=2.8.1 in c:\\users\\jitse\\anaconda3\\lib\\site-packages (from pandas->libpysal>=4.0.0->mgwr) (2.8.2)\n",
      "Requirement already satisfied: certifi>=2017.4.17 in c:\\users\\jitse\\anaconda3\\lib\\site-packages (from requests->libpysal>=4.0.0->mgwr) (2022.12.7)\n",
      "Requirement already satisfied: urllib3<1.27,>=1.21.1 in c:\\users\\jitse\\anaconda3\\lib\\site-packages (from requests->libpysal>=4.0.0->mgwr) (1.26.13)\n",
      "Requirement already satisfied: idna<4,>=2.5 in c:\\users\\jitse\\anaconda3\\lib\\site-packages (from requests->libpysal>=4.0.0->mgwr) (3.4)\n",
      "Requirement already satisfied: charset-normalizer<3,>=2 in c:\\users\\jitse\\anaconda3\\lib\\site-packages (from requests->libpysal>=4.0.0->mgwr) (2.0.4)\n",
      "Requirement already satisfied: six>=1.5 in c:\\users\\jitse\\anaconda3\\lib\\site-packages (from python-dateutil>=2.8.1->pandas->libpysal>=4.0.0->mgwr) (1.16.0)\n",
      "Requirement already satisfied: numba in c:\\users\\jitse\\anaconda3\\lib\\site-packages (0.55.1)\n",
      "Requirement already satisfied: llvmlite<0.39,>=0.38.0rc1 in c:\\users\\jitse\\anaconda3\\lib\\site-packages (from numba) (0.38.0)\n",
      "Requirement already satisfied: setuptools in c:\\users\\jitse\\anaconda3\\lib\\site-packages (from numba) (65.6.3)\n",
      "Requirement already satisfied: numpy<1.22,>=1.18 in c:\\users\\jitse\\anaconda3\\lib\\site-packages (from numba) (1.21.5)\n"
     ]
    }
   ],
   "source": [
    "!pip install geopandas\n",
    "!pip install mgwr\n",
    "!pip install numba"
   ]
  },
  {
   "cell_type": "code",
   "execution_count": 2,
   "id": "6cf83172-2571-49e7-8779-1c0714fa7991",
   "metadata": {
    "tags": []
   },
   "outputs": [],
   "source": [
    "import numpy as np\n",
    "import pandas as pd\n",
    "import pickle\n",
    "import os\n",
    "import multiprocessing\n",
    "os.environ['USE_PYGEOS'] = '0'\n",
    "import geopandas as gp\n",
    "import multiprocessing as mp\n",
    "from mgwr.gwr import GWR,MGWR\n",
    "from mgwr.sel_bw import Sel_BW"
   ]
  },
  {
   "cell_type": "code",
   "execution_count": 3,
   "id": "fd9ad555",
   "metadata": {
    "tags": []
   },
   "outputs": [],
   "source": [
    "#Load the funda data\n",
    "funda_data = gp.read_file(\"data/funda_buy_amsterdam_31-03-2023_full_distances.gpkg\")\n",
    "\n",
    "# funda_data = pd.DataFrame(funda_data)\n",
    "\n",
    "# funda_data = gp.GeoDataFrame(pd.get_dummies(funda_data, columns = [\"house_type\", \"building_type\", \"energy_label\", \"has_balcony\", \"has_garden\"]))"
   ]
  },
  {
   "cell_type": "code",
   "execution_count": 4,
   "id": "b8e57597",
   "metadata": {
    "tags": []
   },
   "outputs": [
    {
     "data": {
      "text/html": [
       "<div>\n",
       "<style scoped>\n",
       "    .dataframe tbody tr th:only-of-type {\n",
       "        vertical-align: middle;\n",
       "    }\n",
       "\n",
       "    .dataframe tbody tr th {\n",
       "        vertical-align: top;\n",
       "    }\n",
       "\n",
       "    .dataframe thead th {\n",
       "        text-align: right;\n",
       "    }\n",
       "</style>\n",
       "<table border=\"1\" class=\"dataframe\">\n",
       "  <thead>\n",
       "    <tr style=\"text-align: right;\">\n",
       "      <th></th>\n",
       "      <th>X</th>\n",
       "      <th>house_id</th>\n",
       "      <th>house_type</th>\n",
       "      <th>building_type</th>\n",
       "      <th>price</th>\n",
       "      <th>price_m2</th>\n",
       "      <th>room</th>\n",
       "      <th>bedroom</th>\n",
       "      <th>bathroom</th>\n",
       "      <th>living_area</th>\n",
       "      <th>...</th>\n",
       "      <th>city</th>\n",
       "      <th>addressline_city</th>\n",
       "      <th>addressline_zip</th>\n",
       "      <th>addresszip</th>\n",
       "      <th>Postcode4</th>\n",
       "      <th>Opp_m2</th>\n",
       "      <th>tram_dist</th>\n",
       "      <th>metro_dist</th>\n",
       "      <th>train_dist</th>\n",
       "      <th>geometry</th>\n",
       "    </tr>\n",
       "  </thead>\n",
       "  <tbody>\n",
       "    <tr>\n",
       "      <th>0</th>\n",
       "      <td>18</td>\n",
       "      <td>42082895</td>\n",
       "      <td>appartement</td>\n",
       "      <td>Resale property</td>\n",
       "      <td>675000</td>\n",
       "      <td>7500.0</td>\n",
       "      <td>3</td>\n",
       "      <td>2</td>\n",
       "      <td>1</td>\n",
       "      <td>90</td>\n",
       "      <td>...</td>\n",
       "      <td>Amsterdam\\n</td>\n",
       "      <td>Amsterdam\\n</td>\n",
       "      <td>1073 SC</td>\n",
       "      <td>Tolstraat 60 3, 1073 SC, Amsterdam\\n</td>\n",
       "      <td>1073</td>\n",
       "      <td>585996</td>\n",
       "      <td>166.539057</td>\n",
       "      <td>668.095770</td>\n",
       "      <td>1290.089283</td>\n",
       "      <td>POINT (121858.014 484983.965)</td>\n",
       "    </tr>\n",
       "    <tr>\n",
       "      <th>1</th>\n",
       "      <td>51</td>\n",
       "      <td>42057103</td>\n",
       "      <td>appartement</td>\n",
       "      <td>Resale property</td>\n",
       "      <td>1295000</td>\n",
       "      <td>6475.0</td>\n",
       "      <td>5</td>\n",
       "      <td>3</td>\n",
       "      <td>0</td>\n",
       "      <td>200</td>\n",
       "      <td>...</td>\n",
       "      <td>Amsterdam\\n</td>\n",
       "      <td>Amsterdam\\n</td>\n",
       "      <td>1073 XH</td>\n",
       "      <td>Quellijnstraat 119 C, 1073 XH, Amsterdam\\n</td>\n",
       "      <td>1073</td>\n",
       "      <td>585996</td>\n",
       "      <td>208.399329</td>\n",
       "      <td>373.221221</td>\n",
       "      <td>1985.945869</td>\n",
       "      <td>POINT (121381.001 485541.002)</td>\n",
       "    </tr>\n",
       "    <tr>\n",
       "      <th>2</th>\n",
       "      <td>79</td>\n",
       "      <td>42038931</td>\n",
       "      <td>appartement</td>\n",
       "      <td>Resale property</td>\n",
       "      <td>385000</td>\n",
       "      <td>7549.0</td>\n",
       "      <td>4</td>\n",
       "      <td>3</td>\n",
       "      <td>0</td>\n",
       "      <td>51</td>\n",
       "      <td>...</td>\n",
       "      <td>Amsterdam\\n</td>\n",
       "      <td>Amsterdam\\n</td>\n",
       "      <td>1073 KA</td>\n",
       "      <td>Burgemeester Tellegenstraat 5 II, 1073 KA, Ams...</td>\n",
       "      <td>1073</td>\n",
       "      <td>585996</td>\n",
       "      <td>375.173601</td>\n",
       "      <td>576.663789</td>\n",
       "      <td>1378.133276</td>\n",
       "      <td>POINT (121691.846 484800.990)</td>\n",
       "    </tr>\n",
       "    <tr>\n",
       "      <th>3</th>\n",
       "      <td>107</td>\n",
       "      <td>42005049</td>\n",
       "      <td>appartement</td>\n",
       "      <td>Resale property</td>\n",
       "      <td>650000</td>\n",
       "      <td>7738.1</td>\n",
       "      <td>4</td>\n",
       "      <td>3</td>\n",
       "      <td>1</td>\n",
       "      <td>84</td>\n",
       "      <td>...</td>\n",
       "      <td>Amsterdam\\n</td>\n",
       "      <td>Amsterdam\\n</td>\n",
       "      <td>1073 VJ</td>\n",
       "      <td>Tweede Jan van der Heijdenstraat 38 2, 1073 VJ...</td>\n",
       "      <td>1073</td>\n",
       "      <td>585996</td>\n",
       "      <td>78.048891</td>\n",
       "      <td>689.699113</td>\n",
       "      <td>1524.552850</td>\n",
       "      <td>POINT (121834.000 485376.000)</td>\n",
       "    </tr>\n",
       "    <tr>\n",
       "      <th>4</th>\n",
       "      <td>212</td>\n",
       "      <td>42165208</td>\n",
       "      <td>appartement</td>\n",
       "      <td>Resale property</td>\n",
       "      <td>465000</td>\n",
       "      <td>8157.9</td>\n",
       "      <td>3</td>\n",
       "      <td>2</td>\n",
       "      <td>1</td>\n",
       "      <td>57</td>\n",
       "      <td>...</td>\n",
       "      <td>Amsterdam\\n</td>\n",
       "      <td>Amsterdam\\n</td>\n",
       "      <td>1073 RH</td>\n",
       "      <td>Mauvestraat 37 H, 1073 RH, Amsterdam\\n</td>\n",
       "      <td>1073</td>\n",
       "      <td>585996</td>\n",
       "      <td>152.028798</td>\n",
       "      <td>778.780657</td>\n",
       "      <td>1085.901160</td>\n",
       "      <td>POINT (122003.041 484808.014)</td>\n",
       "    </tr>\n",
       "  </tbody>\n",
       "</table>\n",
       "<p>5 rows × 32 columns</p>\n",
       "</div>"
      ],
      "text/plain": [
       "     X  house_id   house_type    building_type    price  price_m2  room  \\\n",
       "0   18  42082895  appartement  Resale property   675000    7500.0     3   \n",
       "1   51  42057103  appartement  Resale property  1295000    6475.0     5   \n",
       "2   79  42038931  appartement  Resale property   385000    7549.0     4   \n",
       "3  107  42005049  appartement  Resale property   650000    7738.1     4   \n",
       "4  212  42165208  appartement  Resale property   465000    8157.9     3   \n",
       "\n",
       "   bedroom  bathroom  living_area  ...         city  addressline_city  \\\n",
       "0        2         1           90  ...  Amsterdam\\n  Amsterdam\\n        \n",
       "1        3         0          200  ...  Amsterdam\\n  Amsterdam\\n        \n",
       "2        3         0           51  ...  Amsterdam\\n  Amsterdam\\n        \n",
       "3        3         1           84  ...  Amsterdam\\n  Amsterdam\\n        \n",
       "4        2         1           57  ...  Amsterdam\\n  Amsterdam\\n        \n",
       "\n",
       "  addressline_zip                                         addresszip  \\\n",
       "0         1073 SC          Tolstraat 60 3, 1073 SC, Amsterdam\\n        \n",
       "1         1073 XH    Quellijnstraat 119 C, 1073 XH, Amsterdam\\n        \n",
       "2         1073 KA  Burgemeester Tellegenstraat 5 II, 1073 KA, Ams...   \n",
       "3         1073 VJ  Tweede Jan van der Heijdenstraat 38 2, 1073 VJ...   \n",
       "4         1073 RH        Mauvestraat 37 H, 1073 RH, Amsterdam\\n        \n",
       "\n",
       "   Postcode4  Opp_m2   tram_dist  metro_dist   train_dist  \\\n",
       "0       1073  585996  166.539057  668.095770  1290.089283   \n",
       "1       1073  585996  208.399329  373.221221  1985.945869   \n",
       "2       1073  585996  375.173601  576.663789  1378.133276   \n",
       "3       1073  585996   78.048891  689.699113  1524.552850   \n",
       "4       1073  585996  152.028798  778.780657  1085.901160   \n",
       "\n",
       "                        geometry  \n",
       "0  POINT (121858.014 484983.965)  \n",
       "1  POINT (121381.001 485541.002)  \n",
       "2  POINT (121691.846 484800.990)  \n",
       "3  POINT (121834.000 485376.000)  \n",
       "4  POINT (122003.041 484808.014)  \n",
       "\n",
       "[5 rows x 32 columns]"
      ]
     },
     "execution_count": 4,
     "metadata": {},
     "output_type": "execute_result"
    }
   ],
   "source": [
    "#show funda data\n",
    "funda_data.head()"
   ]
  },
  {
   "cell_type": "code",
   "execution_count": 6,
   "id": "57602051",
   "metadata": {
    "tags": []
   },
   "outputs": [],
   "source": [
    "#create array with the dependent variable\n",
    "b_y = funda_data['price'].values.reshape((-1,1))"
   ]
  },
  {
   "cell_type": "code",
   "execution_count": 5,
   "id": "f71b862e",
   "metadata": {
    "tags": []
   },
   "outputs": [],
   "source": [
    "# #create an array with the indepentend variables (order matters for the extraction of params later)\n",
    "# b_X = funda_data[['room', 'bedroom', 'bathroom', 'living_area',\n",
    "#                   'house_age', 'bus_dist', 'subway_dist', 'train_dist',\n",
    "#                   'university_dist', 'school_dist', 'mall_dist', 'supermarket_dist',\n",
    "#                   'energy_label_A', 'energy_label_B', 'energy_label_C', 'energy_label_D',\n",
    "#                   'energy_label_E', 'energy_label_F', 'energy_label_G', 'energy_label_na',\n",
    "#                   'has_balcony_0.0', 'has_balcony_1.0', 'has_garden_0.0', 'has_garden_1.0']].values \n",
    "\n",
    "cols = ['room', 'bedroom', 'bathroom', 'living_area',\n",
    "                  'house_age', 'tram_dist',\n",
    "                  'metro_dist', 'train_dist']\n",
    "\n",
    "b_X = funda_data[cols].values "
   ]
  },
  {
   "cell_type": "code",
   "execution_count": 7,
   "id": "8679d9dc",
   "metadata": {
    "tags": []
   },
   "outputs": [],
   "source": [
    "#create coordinate tuple for the model\n",
    "u = funda_data['geometry'].x\n",
    "v = funda_data['geometry'].y\n",
    "b_coords = list(zip(u, v))"
   ]
  },
  {
   "cell_type": "code",
   "execution_count": 8,
   "id": "1d1a8646",
   "metadata": {
    "tags": []
   },
   "outputs": [
    {
     "data": {
      "text/plain": [
       "8"
      ]
     },
     "execution_count": 8,
     "metadata": {},
     "output_type": "execute_result"
    }
   ],
   "source": [
    "multiprocessing.cpu_count()"
   ]
  },
  {
   "cell_type": "code",
   "execution_count": 9,
   "id": "98779759-2d6a-465d-9151-2f79043e2a0c",
   "metadata": {
    "tags": []
   },
   "outputs": [
    {
     "name": "stdout",
     "output_type": "stream",
     "text": [
      "env: OMP_NUM_THREADS=1\n"
     ]
    }
   ],
   "source": [
    "#This might be needed to turn off the OpenMP multi-threading\n",
    "%env OMP_NUM_THREADS = 1"
   ]
  },
  {
   "cell_type": "code",
   "execution_count": 10,
   "id": "fb016831",
   "metadata": {
    "tags": []
   },
   "outputs": [],
   "source": [
    "#Parrallelization is more favored when you your data are large and/or your machine have many many cores.\n",
    "#mgwr has soft dependency of numba, please install numba if you need better performance (pip install numba).\n",
    "n_proc = 4 #two processors\n",
    "pool = mp.Pool(n_proc) "
   ]
  },
  {
   "cell_type": "code",
   "execution_count": 11,
   "id": "28a7c138",
   "metadata": {
    "tags": []
   },
   "outputs": [
    {
     "name": "stdout",
     "output_type": "stream",
     "text": [
      "115.0\n",
      "CPU times: total: 109 ms\n",
      "Wall time: 14.3 s\n"
     ]
    }
   ],
   "source": [
    "%%time\n",
    "#Run basic GWR in parrallel mode\n",
    "\n",
    "gwr_selector = Sel_BW(b_coords, b_y, b_X)\n",
    "gwr_bw = gwr_selector.search(pool = pool) #add pool to Sel_BW.search\n",
    "print(gwr_bw)\n",
    "gwr_results = GWR(b_coords, b_y, b_X, gwr_bw).fit(pool = pool)"
   ]
  },
  {
   "cell_type": "code",
   "execution_count": 12,
   "id": "21ee9361",
   "metadata": {
    "tags": []
   },
   "outputs": [
    {
     "name": "stdout",
     "output_type": "stream",
     "text": [
      "===========================================================================\n",
      "Model type                                                         Gaussian\n",
      "Number of observations:                                                1719\n",
      "Number of covariates:                                                     9\n",
      "\n",
      "Global Regression Results\n",
      "---------------------------------------------------------------------------\n",
      "Residual sum of squares:                                       258489807631463.062\n",
      "Log-likelihood:                                                  -24559.573\n",
      "AIC:                                                              49137.147\n",
      "AICc:                                                             49139.276\n",
      "BIC:                                                           258489807618724.406\n",
      "R2:                                                                   0.750\n",
      "Adj. R2:                                                              0.749\n",
      "\n",
      "Variable                              Est.         SE  t(Est/SE)    p-value\n",
      "------------------------------- ---------- ---------- ---------- ----------\n",
      "X0                               20660.842  27074.020      0.763      0.445\n",
      "X1                              -39565.251  13582.272     -2.913      0.004\n",
      "X2                              -64579.959  15570.161     -4.148      0.000\n",
      "X3                               65387.246  16411.455      3.984      0.000\n",
      "X4                               10607.841    253.933     41.774      0.000\n",
      "X5                                  13.955     26.122      0.534      0.593\n",
      "X6                                 -84.607     10.771     -7.855      0.000\n",
      "X7                                 -78.395     13.388     -5.856      0.000\n",
      "X8                                  25.065     14.349      1.747      0.081\n",
      "\n",
      "Geographically Weighted Regression (GWR) Results\n",
      "---------------------------------------------------------------------------\n",
      "Spatial kernel:                                           Adaptive bisquare\n",
      "Bandwidth used:                                                     115.000\n",
      "\n",
      "Diagnostic information\n",
      "---------------------------------------------------------------------------\n",
      "Residual sum of squares:                                       100552823035482.672\n",
      "Effective number of parameters (trace(S)):                          274.216\n",
      "Degree of freedom (n - trace(S)):                                  1444.784\n",
      "Sigma estimate:                                                  263812.653\n",
      "Log-likelihood:                                                  -23748.057\n",
      "AIC:                                                              48046.545\n",
      "AICc:                                                             48151.923\n",
      "BIC:                                                              49546.332\n",
      "R2:                                                                   0.903\n",
      "Adjusted R2:                                                          0.884\n",
      "Adj. alpha (95%):                                                     0.002\n",
      "Adj. critical t value (95%):                                          3.154\n",
      "\n",
      "Summary Statistics For GWR Parameter Estimates\n",
      "---------------------------------------------------------------------------\n",
      "Variable                   Mean        STD        Min     Median        Max\n",
      "-------------------- ---------- ---------- ---------- ---------- ----------\n",
      "X0                     6497.181 315241.129 -1497017.365  71110.436 1307154.098\n",
      "X1                   -24614.879  95181.765 -337324.530  -2117.406 262102.141\n",
      "X2                   -37124.546  94001.408 -381766.521 -31321.762 168038.540\n",
      "X3                    27209.660  71309.330 -343353.751  21215.655 346229.411\n",
      "X4                     8533.679   4459.251   1946.734   7543.097  25915.599\n",
      "X5                     -158.597   1942.674 -23857.079    -22.076   8679.771\n",
      "X6                     -104.112    462.201  -3016.582    -14.586   2032.386\n",
      "X7                       -5.523    197.520   -986.094    -14.410    967.335\n",
      "X8                       48.580    214.645   -461.828     -0.568   1153.832\n",
      "===========================================================================\n",
      "\n"
     ]
    }
   ],
   "source": [
    "#show summary\n",
    "gwr_results.summary()"
   ]
  },
  {
   "cell_type": "code",
   "execution_count": null,
   "id": "196984a0",
   "metadata": {
    "tags": []
   },
   "outputs": [
    {
     "data": {
      "application/vnd.jupyter.widget-view+json": {
       "model_id": "23aaeaa22380422eaf42b1da223c6a9a",
       "version_major": 2,
       "version_minor": 0
      },
      "text/plain": [
       "Backfitting:   0%|          | 0/200 [00:00<?, ?it/s]"
      ]
     },
     "metadata": {},
     "output_type": "display_data"
    }
   ],
   "source": [
    "%%time\n",
    "#run MGWR in parrallel mode. Note: max_iter_multi needs to be specified\n",
    "\n",
    "mgwr_selector = Sel_BW(b_coords, b_y, b_X, multi=True)\n",
    "mgwr_bw = mgwr_selector.search(pool=pool, max_iter_multi=200, criterion = \"AICc\") #add pool to Sel_BW.search\n",
    "print(mgwr_bw)\n",
    "mgwr_results = MGWR(b_coords, b_y, b_X, selector=mgwr_selector).fit(pool=pool)"
   ]
  },
  {
   "cell_type": "code",
   "execution_count": null,
   "id": "c559cecf",
   "metadata": {
    "tags": []
   },
   "outputs": [],
   "source": [
    "#show MGWR model summary\n",
    "mgwr_results.summary()"
   ]
  },
  {
   "cell_type": "code",
   "execution_count": 13,
   "id": "3c224fb8",
   "metadata": {},
   "outputs": [],
   "source": [
    "#recreate R format table\n",
    "\n",
    "def return_geopackage(mgwr_results,cols, path_name):\n",
    "    df = gp.GeoDataFrame()\n",
    "    df['Intercept'] = mgwr_results.params[:,0]\n",
    "    df['intercept_SE'] = mgwr_results.bse[:,0]\n",
    "    df['intercept_TV'] = mgwr_results.tvalues[:,0]\n",
    "    \n",
    "    df['yhat'] = mgwr_results.predy\n",
    "    df['residual'] = mgwr_results.y.reshape((-1,1)) - mgwr_results.predy\n",
    "    \n",
    "    for i,col in enumerate(cols):\n",
    "        \n",
    "        df[col] = mgwr_results.params[:,i+1]\n",
    "\n",
    "        df[col+'_SE'] = mgwr_results.bse[:,i+1]\n",
    "        df[col+'_TV'] = mgwr_results.tvalues[:,i+1]\n",
    "        \n",
    "    df['geometry'] = funda_data['geometry']\n",
    "    df.to_file(path_name)"
   ]
  },
  {
   "cell_type": "code",
   "execution_count": 14,
   "id": "68269e6f",
   "metadata": {},
   "outputs": [],
   "source": [
    "#show the GeoDataFrame and write it to a folder\n",
    "return_geopackage(gwr_results,cols, 'data/gwr_results_amsterdam.gpkg')"
   ]
  },
  {
   "cell_type": "code",
   "execution_count": 87,
   "id": "ee3e9569",
   "metadata": {},
   "outputs": [],
   "source": [
    "# pickle.dump(gwr_results, open('data/models/gwr_results.pkl', 'wb'))"
   ]
  },
  {
   "cell_type": "code",
   "execution_count": 8,
   "id": "302f9c53",
   "metadata": {},
   "outputs": [],
   "source": [
    "# gwr_results = pickle.load(open('data/models/gwr_results.pkl', 'rb'))"
   ]
  }
 ],
 "metadata": {
  "kernelspec": {
   "display_name": "Python 3 (ipykernel)",
   "language": "python",
   "name": "python3"
  },
  "language_info": {
   "codemirror_mode": {
    "name": "ipython",
    "version": 3
   },
   "file_extension": ".py",
   "mimetype": "text/x-python",
   "name": "python",
   "nbconvert_exporter": "python",
   "pygments_lexer": "ipython3",
   "version": "3.9.12"
  }
 },
 "nbformat": 4,
 "nbformat_minor": 5
}
