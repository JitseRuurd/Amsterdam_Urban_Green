{
 "cells": [
  {
   "cell_type": "code",
   "execution_count": 1,
   "id": "f3c050ab",
   "metadata": {},
   "outputs": [
    {
     "name": "stdout",
     "output_type": "stream",
     "text": [
      "Requirement already satisfied: funda-scraper in c:\\users\\jitse\\anaconda3\\lib\\site-packages (0.0.2)\n",
      "Requirement already satisfied: diot>=0.1.5 in c:\\users\\jitse\\anaconda3\\lib\\site-packages (from funda-scraper) (0.1.6)\n",
      "Requirement already satisfied: beautifulsoup4>=4.8 in c:\\users\\jitse\\anaconda3\\lib\\site-packages (from funda-scraper) (4.11.1)\n",
      "Requirement already satisfied: requests>=2 in c:\\users\\jitse\\anaconda3\\lib\\site-packages (from funda-scraper) (2.28.1)\n",
      "Requirement already satisfied: tqdm>=4.42.0 in c:\\users\\jitse\\anaconda3\\lib\\site-packages (from funda-scraper) (4.64.0)\n",
      "Requirement already satisfied: PyYAML>=5.0 in c:\\users\\jitse\\anaconda3\\lib\\site-packages (from funda-scraper) (6.0)\n",
      "Requirement already satisfied: lxml>=4 in c:\\users\\jitse\\anaconda3\\lib\\site-packages (from funda-scraper) (4.8.0)\n",
      "Requirement already satisfied: pandas>=1.2 in c:\\users\\jitse\\anaconda3\\lib\\site-packages (from funda-scraper) (1.4.2)\n",
      "Requirement already satisfied: soupsieve>1.2 in c:\\users\\jitse\\anaconda3\\lib\\site-packages (from beautifulsoup4>=4.8->funda-scraper) (2.3.1)\n",
      "Requirement already satisfied: inflection<0.6,>=0.5 in c:\\users\\jitse\\anaconda3\\lib\\site-packages (from diot>=0.1.5->funda-scraper) (0.5.1)\n",
      "Requirement already satisfied: pytz>=2020.1 in c:\\users\\jitse\\anaconda3\\lib\\site-packages (from pandas>=1.2->funda-scraper) (2021.3)\n",
      "Requirement already satisfied: numpy>=1.18.5 in c:\\users\\jitse\\anaconda3\\lib\\site-packages (from pandas>=1.2->funda-scraper) (1.21.5)\n",
      "Requirement already satisfied: python-dateutil>=2.8.1 in c:\\users\\jitse\\anaconda3\\lib\\site-packages (from pandas>=1.2->funda-scraper) (2.8.2)\n",
      "Requirement already satisfied: idna<4,>=2.5 in c:\\users\\jitse\\anaconda3\\lib\\site-packages (from requests>=2->funda-scraper) (3.4)\n",
      "Requirement already satisfied: urllib3<1.27,>=1.21.1 in c:\\users\\jitse\\anaconda3\\lib\\site-packages (from requests>=2->funda-scraper) (1.26.13)\n",
      "Requirement already satisfied: certifi>=2017.4.17 in c:\\users\\jitse\\anaconda3\\lib\\site-packages (from requests>=2->funda-scraper) (2022.12.7)\n",
      "Requirement already satisfied: charset-normalizer<3,>=2 in c:\\users\\jitse\\anaconda3\\lib\\site-packages (from requests>=2->funda-scraper) (2.0.4)\n",
      "Requirement already satisfied: colorama in c:\\users\\jitse\\anaconda3\\lib\\site-packages (from tqdm>=4.42.0->funda-scraper) (0.4.4)\n",
      "Requirement already satisfied: six>=1.5 in c:\\users\\jitse\\anaconda3\\lib\\site-packages (from python-dateutil>=2.8.1->pandas>=1.2->funda-scraper) (1.16.0)\n"
     ]
    }
   ],
   "source": [
    "!pip install funda-scraper"
   ]
  },
  {
   "cell_type": "code",
   "execution_count": null,
   "id": "40977747",
   "metadata": {},
   "outputs": [],
   "source": [
    "from funda_scraper import FundaScraper\n",
    "import pandas as pd\n",
    "\n",
    "scraper = FundaScraper(area=\"provincie-noord-holland\", want_to=\"buy\", find_past=False, n_pages = 1000)\n",
    "df = scraper.run()\n",
    "print(f\"Scraped {len(df)} houses\")\n",
    "df.to_csv('data/funda_buy_16-03-2023.csv')"
   ]
  }
 ],
 "metadata": {
  "kernelspec": {
   "display_name": "Python 3 (ipykernel)",
   "language": "python",
   "name": "python3"
  },
  "language_info": {
   "codemirror_mode": {
    "name": "ipython",
    "version": 3
   },
   "file_extension": ".py",
   "mimetype": "text/x-python",
   "name": "python",
   "nbconvert_exporter": "python",
   "pygments_lexer": "ipython3",
   "version": "3.9.12"
  }
 },
 "nbformat": 4,
 "nbformat_minor": 5
}
